{
  "nbformat": 4,
  "nbformat_minor": 0,
  "metadata": {
    "colab": {
      "name": "ML_sprint12_conv2d.ipynb",
      "provenance": [],
      "collapsed_sections": [],
      "toc_visible": true,
      "authorship_tag": "ABX9TyPZMaaujnj8WvVSU9G83krl",
      "include_colab_link": true
    },
    "kernelspec": {
      "name": "python3",
      "display_name": "Python 3"
    },
    "language_info": {
      "name": "python"
    }
  },
  "cells": [
    {
      "cell_type": "markdown",
      "metadata": {
        "id": "view-in-github",
        "colab_type": "text"
      },
      "source": [
        "<a href=\"https://colab.research.google.com/github/thanhnguyen2612/diveintocode-ml/blob/master/ML_sprint12_conv2d.ipynb\" target=\"_parent\"><img src=\"https://colab.research.google.com/assets/colab-badge.svg\" alt=\"Open In Colab\"/></a>"
      ]
    },
    {
      "cell_type": "markdown",
      "metadata": {
        "id": "Aj-Fq8Y6Zj4v"
      },
      "source": [
        "# SimpleConv2d"
      ]
    },
    {
      "cell_type": "code",
      "metadata": {
        "id": "xv5KtYzpZv_C"
      },
      "source": [
        "import numpy as np\n",
        "import matplotlib.pyplot as plt\n",
        "import seaborn as sns\n",
        "%matplotlib inline"
      ],
      "execution_count": 64,
      "outputs": []
    },
    {
      "cell_type": "markdown",
      "metadata": {
        "id": "NTsuIaOpPEDt"
      },
      "source": [
        "## [Problem 3] Output size after 2-dimensional convolution"
      ]
    },
    {
      "cell_type": "code",
      "metadata": {
        "id": "coQlCw1vPFO_"
      },
      "source": [
        "def output_shape(in_h, in_w, filter_h, filter_w, padding_h=0, padding_w=0, stride_h=1, stride_w=1):\n",
        "    out_h = (in_h + 2*padding_h - filter_h) / stride_h + 1\n",
        "    out_w = (in_w + 2*padding_w - filter_w) / stride_w + 1\n",
        "    return int(out_h), int(out_w)"
      ],
      "execution_count": 65,
      "outputs": []
    },
    {
      "cell_type": "markdown",
      "metadata": {
        "id": "OPXP-lMbZohK"
      },
      "source": [
        "## [Problem 1] Creating a 2-D convolutional layer"
      ]
    },
    {
      "cell_type": "code",
      "metadata": {
        "id": "CAGS2o_7_SWy"
      },
      "source": [
        "# Forward\n",
        "def forward(X, W, B, padding_size=(0, 0), stride_size=(1, 1)):\n",
        "    N, CHANNEL_SIZE, HEIGHT, WIDTH = X.shape\n",
        "    FILTER_SIZE, CHANNEL_SIZE, FILTER_HEIGHT, FILTER_WIDTH = W.shape\n",
        "    X_pad = np.pad(X, ((0, 0), (0, 0), padding_size, padding_size))\n",
        "\n",
        "    out_h, out_w = output_shape(HEIGHT, WIDTH, FILTER_HEIGHT, FILTER_WIDTH, *padding_size, *stride_size)\n",
        "    A = np.zeros((N, FILTER_SIZE, out_h, out_w))\n",
        "\n",
        "    for n in range(N):\n",
        "        for out_chn in range(FILTER_SIZE):\n",
        "            for row in range(0, HEIGHT - FILTER_HEIGHT + 1, stride_size[0]):\n",
        "                for col in range(0, WIDTH - FILTER_WIDTH + 1, stride_size[1]):\n",
        "                    A[n, out_chn, row, col] = np.sum(X_pad[n, :, row:row + FILTER_HEIGHT, col:col + FILTER_WIDTH] * W[out_chn,:,:,:]) + B[out_chn]\n",
        "\n",
        "    return A\n",
        "\n",
        "def backward(X, W, B, dA, padding_size=(0, 0), stride_size=(1, 1)):\n",
        "    N, CHANNEL_SIZE, HEIGHT, WIDTH = X.shape\n",
        "    FILTER_SIZE, CHANNEL_SIZE, FILTER_HEIGHT, FILTER_WIDTH = W.shape\n",
        "    N, FILTER_SIZE, OUT_H, OUT_W = dA.shape\n",
        "    X_pad = np.pad(X, ((0, 0), (0, 0), padding_size, padding_size))\n",
        "\n",
        "    dW = np.zeros(W.shape)\n",
        "    dB = np.zeros(B.shape)\n",
        "    dZ = np.zeros(X_pad.shape)\n",
        "\n",
        "    # dB\n",
        "    for out_chn in range(FILTER_SIZE):\n",
        "        dB[out_chn] = np.sum(dA[:, out_chn, :, :])\n",
        "\n",
        "    # dZ & dW\n",
        "    for i in range(N):\n",
        "        for out_chn in range(FILTER_SIZE):\n",
        "            for row in range(OUT_H):\n",
        "                for col in range(OUT_W):\n",
        "                    s_row, s_col = row * stride_size[0], col * stride_size[1]\n",
        "                    dW[out_chn,:,:,:] += dA[i, out_chn, row, col] * X_pad[i, :, s_row:s_row+FILTER_HEIGHT, s_col:s_col+FILTER_WIDTH]\n",
        "                    dZ[i, :, s_row:s_row+FILTER_HEIGHT, s_col:s_col+FILTER_WIDTH] += dA[i, out_chn, row, col] * W[out_chn,:,:,:]\n",
        "    \n",
        "    delete_rows = range(padding_size[0]), range(HEIGHT + padding_size[0], HEIGHT + 2*padding_size[0], 1)\n",
        "    delete_cols = range(padding_size[1]), range(WIDTH + padding_size[1], WIDTH + 2*padding_size[1], 1)\n",
        "    dZ = np.delete(dZ, delete_rows, axis=2)\n",
        "    dZ = np.delete(dZ, delete_cols, axis=3)\n",
        "    \n",
        "    return dZ, dW, dB"
      ],
      "execution_count": 66,
      "outputs": []
    },
    {
      "cell_type": "markdown",
      "metadata": {
        "id": "Fufyo3IgfjS3"
      },
      "source": [
        "## [Problem 2] Experiments with 2D convolutional layers on small arrays"
      ]
    },
    {
      "cell_type": "code",
      "metadata": {
        "id": "Kq1rwogZGlTZ"
      },
      "source": [
        "# (1,1,4,4): 1 sample, 1 channel, 4 x 4\n",
        "x = np.array([[[[ 1,  2,  3,  4],\n",
        "                [ 5,  6,  7,  8],\n",
        "                [ 9, 10, 11, 12],\n",
        "                [13, 14, 15, 16]]]])\n",
        "# (2,1,3,3): 2 filter size, 1 channel, 3 x 3\n",
        "w = np.array([[[[ 0.,  0.,  0.],\n",
        "                [ 0.,  1.,  0.],\n",
        "                [ 0., -1.,  0.]]],\n",
        "              [[[ 0.,  0.,  0.],\n",
        "                [ 0., -1.,  1.],\n",
        "                [ 0.,  0.,  0.]]]])\n",
        "b = np.zeros(2)"
      ],
      "execution_count": 67,
      "outputs": []
    },
    {
      "cell_type": "code",
      "metadata": {
        "colab": {
          "base_uri": "https://localhost:8080/"
        },
        "id": "DoaG8GWqWwa5",
        "outputId": "092bd68c-a37f-484b-e176-5ecacc73ce29"
      },
      "source": [
        "forward(x, w, b)"
      ],
      "execution_count": 68,
      "outputs": [
        {
          "output_type": "execute_result",
          "data": {
            "text/plain": [
              "array([[[[-4., -4.],\n",
              "         [-4., -4.]],\n",
              "\n",
              "        [[ 1.,  1.],\n",
              "         [ 1.,  1.]]]])"
            ]
          },
          "metadata": {
            "tags": []
          },
          "execution_count": 68
        }
      ]
    },
    {
      "cell_type": "code",
      "metadata": {
        "id": "Mrd2Pp6vektI"
      },
      "source": [
        "delta = np.array([[[[ -4,  -4],\n",
        "                    [ 10,  11]],\n",
        "                   [[  1,  -7],\n",
        "                    [  1, -11]]]])\n",
        "dZ, dW, dB = backward(x, w, b, delta)"
      ],
      "execution_count": 69,
      "outputs": []
    },
    {
      "cell_type": "code",
      "metadata": {
        "colab": {
          "base_uri": "https://localhost:8080/"
        },
        "id": "iKwZrB-BuIx2",
        "outputId": "cf108e63-1742-4172-b1c7-2fed63e02134"
      },
      "source": [
        "print(dZ)\n",
        "print(dW)\n",
        "print(dB)"
      ],
      "execution_count": 70,
      "outputs": [
        {
          "output_type": "stream",
          "text": [
            "[[[[  0.   0.   0.   0.]\n",
            "   [  0.  -5.   4.  -7.]\n",
            "   [  0.  13.  27. -11.]\n",
            "   [  0. -10. -11.   0.]]]]\n",
            "[[[[ 104.  117.  130.]\n",
            "   [ 156.  169.  182.]\n",
            "   [ 208.  221.  234.]]]\n",
            "\n",
            "\n",
            " [[[ -74.  -90. -106.]\n",
            "   [-138. -154. -170.]\n",
            "   [-202. -218. -234.]]]]\n",
            "[ 13. -16.]\n"
          ],
          "name": "stdout"
        }
      ]
    },
    {
      "cell_type": "markdown",
      "metadata": {
        "id": "KRIZaSjqvi7B"
      },
      "source": [
        "## [Problem 4] Creation of maximum pooling layer"
      ]
    },
    {
      "cell_type": "code",
      "metadata": {
        "id": "7lphKu4DvjfP"
      },
      "source": [
        "class MaxPool2D:\n",
        "    def __init__(self, pool_size=(2, 2)):\n",
        "        self.PH, self.PW = pool_size\n",
        "    \n",
        "    def forward(self, X):\n",
        "        self.N, self.C, self.IN_H, self.IN_W = X.shape\n",
        "        self.OUT_H, self.OUT_W = int(self.IN_H / self.PH), int(self.IN_W / self.PW)\n",
        "\n",
        "        # Pooling filter\n",
        "        self.A = np.zeros((self.N, self.C, self.OUT_H, self.OUT_W))\n",
        "        self.index = np.zeros((self.N, self.C, self.OUT_H, self.OUT_W))\n",
        "\n",
        "        for i in range(self.N):\n",
        "            for chn in range(self.C):\n",
        "                for row in range(self.OUT_H):\n",
        "                    for col in range(self.OUT_W):\n",
        "                        self.A[i, chn, row, col] = np.max(X[i, chn, row*self.PH:(row+1)*self.PH, col*self.PW:(col+1)*self.PW])\n",
        "                        self.index[i, chn, row, col] = np.argmax(X[i, chn, row*self.PH:(row+1)*self.PH, col*self.PW:(col+1)*self.PW])\n",
        "\n",
        "        return self.A\n",
        "\n",
        "    def backward(self, d):\n",
        "        dZ = np.zeros((self.N, self.C, self.IN_H, self.IN_W))\n",
        "\n",
        "        for i in range(self.N):\n",
        "            for chn in range(self.C):\n",
        "                for row in range(self.OUT_H):\n",
        "                    for col in range(self.OUT_W):\n",
        "                        idx = self.index[i, chn, row, col]\n",
        "                        tmp = np.array([d[i, chn, row, col] if j == idx else 0 for j in range(self.PH * self.PW)])\n",
        "                        dZ[i, chn, row*self.PH:(row+1)*self.PH, col*self.PW:(col+1)*self.PW] = tmp.reshape(self.PH, self.PW)\n",
        "        return dZ"
      ],
      "execution_count": 71,
      "outputs": []
    },
    {
      "cell_type": "code",
      "metadata": {
        "id": "ML6LC9H1vsPh",
        "colab": {
          "base_uri": "https://localhost:8080/"
        },
        "outputId": "ade33b14-e835-4f7d-eb15-b65d3f892beb"
      },
      "source": [
        "X = np.random.randint(0, 9, 36).reshape(1, 1, 6, 6)\n",
        "X"
      ],
      "execution_count": 72,
      "outputs": [
        {
          "output_type": "execute_result",
          "data": {
            "text/plain": [
              "array([[[[8, 4, 3, 5, 7, 1],\n",
              "         [5, 4, 3, 5, 4, 5],\n",
              "         [7, 5, 6, 8, 4, 3],\n",
              "         [0, 8, 5, 4, 1, 2],\n",
              "         [4, 6, 4, 3, 4, 4],\n",
              "         [8, 4, 6, 3, 7, 3]]]])"
            ]
          },
          "metadata": {
            "tags": []
          },
          "execution_count": 72
        }
      ]
    },
    {
      "cell_type": "code",
      "metadata": {
        "colab": {
          "base_uri": "https://localhost:8080/"
        },
        "id": "ppZTh1IcAfDR",
        "outputId": "98f85841-7233-4116-84ce-71b81b344ed6"
      },
      "source": [
        "max_pool = MaxPool2D((2, 2))\n",
        "A = max_pool.forward(X)\n",
        "print(A)\n",
        "print(max_pool.index)"
      ],
      "execution_count": 73,
      "outputs": [
        {
          "output_type": "stream",
          "text": [
            "[[[[8. 5. 7.]\n",
            "   [8. 8. 4.]\n",
            "   [8. 6. 7.]]]]\n",
            "[[[[0. 1. 0.]\n",
            "   [3. 1. 0.]\n",
            "   [2. 2. 2.]]]]\n"
          ],
          "name": "stdout"
        }
      ]
    },
    {
      "cell_type": "code",
      "metadata": {
        "colab": {
          "base_uri": "https://localhost:8080/"
        },
        "id": "0LZokiTHFzxu",
        "outputId": "cba61d9c-ed1c-4d2f-f311-3dbec170d40a"
      },
      "source": [
        "dA = np.array([[[[0, 1, 2],\n",
        "                 [1, 1, -1],\n",
        "                 [0, -2, 1]]]])\n",
        "max_pool.backward(dA)"
      ],
      "execution_count": 74,
      "outputs": [
        {
          "output_type": "execute_result",
          "data": {
            "text/plain": [
              "array([[[[ 0.,  0.,  0.,  1.,  2.,  0.],\n",
              "         [ 0.,  0.,  0.,  0.,  0.,  0.],\n",
              "         [ 0.,  0.,  0.,  1., -1.,  0.],\n",
              "         [ 0.,  1.,  0.,  0.,  0.,  0.],\n",
              "         [ 0.,  0.,  0.,  0.,  0.,  0.],\n",
              "         [ 0.,  0., -2.,  0.,  1.,  0.]]]])"
            ]
          },
          "metadata": {
            "tags": []
          },
          "execution_count": 74
        }
      ]
    },
    {
      "cell_type": "markdown",
      "metadata": {
        "id": "xRzbw_QdBsMj"
      },
      "source": [
        "## [Problem 5] (Advance task) Creating average pooling"
      ]
    },
    {
      "cell_type": "code",
      "metadata": {
        "id": "I9TCgYQCAv49"
      },
      "source": [
        "class AveragePool2D:\n",
        "    def __init__(self, pool_size=(2, 2)):\n",
        "        self.PH, self.PW = pool_size\n",
        "    \n",
        "    def forward(self, X):\n",
        "        self.N, self.C, self.IN_H, self.IN_W = X.shape\n",
        "        self.OUT_H, self.OUT_W = int(self.IN_H / self.PH), int(self.IN_W / self.PW)\n",
        "\n",
        "        # Pooling filter\n",
        "        self.A = np.zeros((self.N, self.C, self.OUT_H, self.OUT_W))\n",
        "        self.index = np.zeros((self.N, self.C, self.OUT_H, self.OUT_W))\n",
        "\n",
        "        for i in range(self.N):\n",
        "            for chn in range(self.C):\n",
        "                for row in range(self.OUT_H):\n",
        "                    for col in range(self.OUT_W):\n",
        "                        self.A[i, chn, row, col] = np.mean(X[i, chn, row*self.PH:(row+1)*self.PH, col*self.PW:(col+1)*self.PW])\n",
        "\n",
        "        return self.A\n",
        "\n",
        "    def backward(self, d):\n",
        "        dZ = np.zeros((self.N, self.C, self.IN_H, self.IN_W))\n",
        "\n",
        "        for i in range(self.N):\n",
        "            for chn in range(self.C):\n",
        "                for row in range(self.OUT_H):\n",
        "                    for col in range(self.OUT_W):\n",
        "                        tmp = np.array([d[i, chn, row, col] / (self.PH * self.PW) for j in range(self.PH * self.PW)])\n",
        "                        dZ[i, chn, row*self.PH:(row+1)*self.PH, col*self.PW:(col+1)*self.PW] = tmp.reshape(self.PH, self.PW)       \n",
        "        return dZ"
      ],
      "execution_count": 75,
      "outputs": []
    },
    {
      "cell_type": "code",
      "metadata": {
        "colab": {
          "base_uri": "https://localhost:8080/"
        },
        "id": "XKc-5vD-KK24",
        "outputId": "6615dd1c-7d51-412b-d3d3-9bcf9645c06b"
      },
      "source": [
        "X = np.random.randint(0, 9, 36).reshape(1, 1, 6, 6)\n",
        "X"
      ],
      "execution_count": 76,
      "outputs": [
        {
          "output_type": "execute_result",
          "data": {
            "text/plain": [
              "array([[[[2, 5, 8, 0, 4, 4],\n",
              "         [0, 3, 1, 6, 8, 4],\n",
              "         [1, 4, 2, 8, 2, 1],\n",
              "         [6, 7, 5, 0, 6, 8],\n",
              "         [2, 2, 1, 4, 1, 8],\n",
              "         [0, 4, 5, 5, 3, 4]]]])"
            ]
          },
          "metadata": {
            "tags": []
          },
          "execution_count": 76
        }
      ]
    },
    {
      "cell_type": "code",
      "metadata": {
        "colab": {
          "base_uri": "https://localhost:8080/"
        },
        "id": "C4J6hC8dKM0I",
        "outputId": "ed04d488-1233-425a-bde4-6bf6e9425c58"
      },
      "source": [
        "avg_pool = AveragePool2D((2, 2))\n",
        "A = avg_pool.forward(X)\n",
        "print(A)"
      ],
      "execution_count": 77,
      "outputs": [
        {
          "output_type": "stream",
          "text": [
            "[[[[2.5  3.75 5.  ]\n",
            "   [4.5  3.75 4.25]\n",
            "   [2.   3.75 4.  ]]]]\n"
          ],
          "name": "stdout"
        }
      ]
    },
    {
      "cell_type": "code",
      "metadata": {
        "colab": {
          "base_uri": "https://localhost:8080/"
        },
        "id": "6RVhfZq4G3ca",
        "outputId": "81b561ba-441d-4125-a3a4-d7f3a54f2a7d"
      },
      "source": [
        "dA = np.array([[[[0, 1, 2],\n",
        "                 [1, 1, -1],\n",
        "                 [0, -2, 1]]]])\n",
        "avg_pool.backward(dA)"
      ],
      "execution_count": 78,
      "outputs": [
        {
          "output_type": "execute_result",
          "data": {
            "text/plain": [
              "array([[[[ 0.  ,  0.  ,  0.25,  0.25,  0.5 ,  0.5 ],\n",
              "         [ 0.  ,  0.  ,  0.25,  0.25,  0.5 ,  0.5 ],\n",
              "         [ 0.25,  0.25,  0.25,  0.25, -0.25, -0.25],\n",
              "         [ 0.25,  0.25,  0.25,  0.25, -0.25, -0.25],\n",
              "         [ 0.  ,  0.  , -0.5 , -0.5 ,  0.25,  0.25],\n",
              "         [ 0.  ,  0.  , -0.5 , -0.5 ,  0.25,  0.25]]]])"
            ]
          },
          "metadata": {
            "tags": []
          },
          "execution_count": 78
        }
      ]
    },
    {
      "cell_type": "markdown",
      "metadata": {
        "id": "Q-HdTeWTLN2l"
      },
      "source": [
        "## [Problem 6] Smoothing"
      ]
    },
    {
      "cell_type": "code",
      "metadata": {
        "id": "d3hN2E_ZKjYX"
      },
      "source": [
        "class Flatten:\n",
        "    def __init__(self):\n",
        "        self.name = \"Flatten\"\n",
        "    \n",
        "    def forward(self, X):\n",
        "        self.shape = X.shape\n",
        "        return X.reshape(len(X), -1)\n",
        "    \n",
        "    def backward(self, X):\n",
        "        return X.reshape(self.shape)"
      ],
      "execution_count": 79,
      "outputs": []
    },
    {
      "cell_type": "code",
      "metadata": {
        "colab": {
          "base_uri": "https://localhost:8080/"
        },
        "id": "EOdK5q7XYbh2",
        "outputId": "95d47043-2489-416c-a41c-e49bd066f95f"
      },
      "source": [
        "X = np.zeros((20, 2, 5, 5))\n",
        "flatten = Flatten()\n",
        "X_flat = flatten.forward(X)\n",
        "print(\"Forward:\", X_flat.shape)\n",
        "print(\"Backward:\", flatten.backward(X_flat).shape)"
      ],
      "execution_count": 80,
      "outputs": [
        {
          "output_type": "stream",
          "text": [
            "Forward: (20, 50)\n",
            "Backward: (20, 2, 5, 5)\n"
          ],
          "name": "stdout"
        }
      ]
    },
    {
      "cell_type": "markdown",
      "metadata": {
        "id": "i0XTDeFUfoLY"
      },
      "source": [
        "## SimpleConv2d class"
      ]
    },
    {
      "cell_type": "code",
      "metadata": {
        "id": "A5nA4lL9gB80"
      },
      "source": [
        "class SimpleInitializerConv2d:\n",
        "    def __init__(self, sigma=0.02, seed=None):\n",
        "        self.sigma = sigma\n",
        "        self.seed = seed\n",
        "        np.random.seed(seed)\n",
        "\n",
        "    def init(self, *shape):\n",
        "        W = self.sigma * np.random.randn(*shape)\n",
        "        return W"
      ],
      "execution_count": 81,
      "outputs": []
    },
    {
      "cell_type": "code",
      "metadata": {
        "id": "8VD3QPYZgCp4"
      },
      "source": [
        "class SimpleConv2d:\n",
        "    def __init__(self, out_channel, in_channel, filter_size,\n",
        "                 padding_size=(0, 0), stride_size=(1, 1),\n",
        "                 initializer=None, optimizer=None, activation=None):\n",
        "        self.OUT_CHN = out_channel\n",
        "        self.IN_CHN = in_channel\n",
        "        self.FH, self.FW = filter_size\n",
        "        self.PH, self.PW = padding_size\n",
        "        self.SH, self.SW = stride_size\n",
        "\n",
        "        self.initializer = initializer\n",
        "        self.optimizer = optimizer\n",
        "        self.activation = activation\n",
        "        self.W = self.initializer.init(self.OUT_CHN, self.IN_CHN, self.FH, self.FW)\n",
        "        self.B = self.initializer.init(self.OUT_CHN)\n",
        "    \n",
        "    def output_shape(self, IN_H, IN_W):\n",
        "        out_h = (IN_H + 2 * self.PH - self.FH) / self.SH + 1\n",
        "        out_w = (IN_W + 2 * self.PW - self.FW) / self.SW + 1\n",
        "        return int(out_h), int(out_w)\n",
        "    \n",
        "    def forward(self, X):\n",
        "        self.input = X\n",
        "        self.N, self.IN_CHN, self.IN_H, self.IN_W = X.shape\n",
        "        self.OUT_H, self.OUT_W = self.output_shape(self.IN_H, self.IN_W)\n",
        "\n",
        "        self.A = np.zeros((self.N, self.OUT_CHN, self.OUT_H, self.OUT_W))\n",
        "        self.X_pad = np.pad(self.input, ((0, 0), (0, 0), (self.PH, self.PW), (self.PH, self.PW)))\n",
        "\n",
        "        for i in range(self.N):\n",
        "            for out_chn in range(self.OUT_CHN):\n",
        "                for row in range(0, self.IN_H - self.FH + 1, self.SH):\n",
        "                    for col in range(0, self.IN_W - self.FW + 1, self.SW):\n",
        "                        self.A[i, out_chn, row, col] = \\\n",
        "                            np.sum(self.X_pad[i, :, row:row+self.FH, col:col+self.FW] * self.W[out_chn,:,:,:]) + self.B[out_chn]\n",
        "\n",
        "        self.output = self.activation.forward(self.A)\n",
        "        return self.output\n",
        "    \n",
        "    def backward(self, d):\n",
        "        dA = self.activation.backward(d)\n",
        "        self.dW = np.zeros(self.W.shape)\n",
        "        self.dB = np.zeros(self.B.shape)\n",
        "        dZ = np.zeros(self.X_pad.shape)\n",
        "\n",
        "        # dB\n",
        "        for out_chn in range(self.OUT_CHN):\n",
        "            self.dB[out_chn] = np.sum(dA[:, out_chn, :, :])\n",
        "\n",
        "        # dZ & dW\n",
        "        for i in range(self.N):\n",
        "            for out_chn in range(self.OUT_CHN):\n",
        "                for row in range(0, self.OUT_H):\n",
        "                    for col in range(0, self.OUT_W):\n",
        "                        s_row, s_col = row * self.SH, col * self.SW\n",
        "                        self.dW[out_chn,:,:,:] += dA[i, out_chn, row, col] * self.X_pad[i, :, s_row:s_row + self.FH, s_col:s_col + self.FW]\n",
        "                        dZ[i, :, s_row:s_row + self.FH, s_col:s_col + self.FW] += dA[i, out_chn, row, col] * self.W[out_chn,:,:,:]\n",
        "        \n",
        "        delete_rows = range(self.PH), range(self.IN_H + self.PH, self.IN_H + 2 * self.PH, 1)\n",
        "        delete_cols = range(self.PW), range(self.IN_W + self.PW, self.IN_W + 2 * self.PW, 1)\n",
        "        dZ = np.delete(dZ, delete_rows, axis=2)\n",
        "        dZ = np.delete(dZ, delete_cols, axis=3)\n",
        "\n",
        "        self.optimizer.update(self)\n",
        "        return dZ"
      ],
      "execution_count": 82,
      "outputs": []
    },
    {
      "cell_type": "markdown",
      "metadata": {
        "id": "X0VCUFywY92b"
      },
      "source": [
        "## [Problem 7] Learning and estimation"
      ]
    },
    {
      "cell_type": "markdown",
      "metadata": {
        "id": "73VHuE_qCeW5"
      },
      "source": [
        "### Helper functions"
      ]
    },
    {
      "cell_type": "code",
      "metadata": {
        "id": "NZrlI1vnYxui"
      },
      "source": [
        "from sklearn.metrics import classification_report, confusion_matrix\n",
        "from sklearn.metrics import roc_auc_score\n",
        "\n",
        "def evaluate(X, y, y_one_hot, model):\n",
        "    y_proba = model.predict_proba(X)\n",
        "    y_pred = np.argmax(y_proba, axis=1)\n",
        "    print(\"ROC AUC:\", roc_auc_score(y_one_hot, y_proba))\n",
        "    print(classification_report(y, y_pred))\n",
        "    sns.heatmap(confusion_matrix(y, y_pred), cmap=plt.cm.Blues, annot=True)\n",
        "    plt.show()\n",
        "    \n",
        "def plot_learning_curve(train_loss, val_loss=None):\n",
        "    plt.figure(figsize=(16, 8))\n",
        "    plt.plot(train_loss, 'bo--', label=\"train_loss\", linewidth=5)\n",
        "    if val_loss is not None or len(val_loss) > 0:\n",
        "        plt.plot(val_loss, 'rs--', label=\"val_loss\", linewidth=5)\n",
        "    plt.xlabel(\"epoch\")\n",
        "    plt.ylabel(\"loss\")\n",
        "    plt.legend()\n",
        "    plt.show()"
      ],
      "execution_count": 83,
      "outputs": []
    },
    {
      "cell_type": "code",
      "metadata": {
        "id": "faRPbnGCliMr"
      },
      "source": [
        "class GetMiniBatch:\n",
        "    def __init__(self, X, y, batch_size=20, seed=0):\n",
        "        self.batch_size = batch_size\n",
        "        np.random.seed(seed)\n",
        "        shuffle_index = np.random.permutation(np.arange(X.shape[0]))\n",
        "        self._X = X[shuffle_index]\n",
        "        self._y = y[shuffle_index]\n",
        "        self._stop = np.ceil(X.shape[0]/self.batch_size).astype(np.int)\n",
        "    def __len__(self):\n",
        "        return self._stop\n",
        "    def __getitem__(self,item):\n",
        "        p0 = item*self.batch_size\n",
        "        p1 = item*self.batch_size + self.batch_size\n",
        "        return self._X[p0:p1], self._y[p0:p1]        \n",
        "    def __iter__(self):\n",
        "        self._counter = 0\n",
        "        return self\n",
        "    def __next__(self):\n",
        "        if self._counter >= self._stop:\n",
        "            raise StopIteration()\n",
        "        p0 = self._counter*self.batch_size\n",
        "        p1 = self._counter*self.batch_size + self.batch_size\n",
        "        self._counter += 1\n",
        "        return self._X[p0:p1], self._y[p0:p1]"
      ],
      "execution_count": 84,
      "outputs": []
    },
    {
      "cell_type": "code",
      "metadata": {
        "id": "NLEibW1MljQF"
      },
      "source": [
        "class SGD:\n",
        "    def __init__(self, lr=0.01):\n",
        "        self.lr = lr\n",
        "        self.name = \"SGD\"\n",
        "        \n",
        "    def update(self, layer):\n",
        "        layer.W -= self.lr * layer.dW\n",
        "        layer.B -= self.lr * layer.dB\n",
        "        return layer\n",
        "\n",
        "class AdaGrad:\n",
        "    def __init__(self, lr=0.01):\n",
        "        self.lr = lr\n",
        "        self.name = \"AdaGrad\"\n",
        "        self.hW = 0\n",
        "        self.hB = 0\n",
        "\n",
        "    def update(self, layer):\n",
        "        self.hW += layer.dW ** 2\n",
        "        self.hB = layer.dB ** 2\n",
        "\n",
        "        layer.W -= self.lr * layer.dW / (np.sqrt(self.hW) + 1e-7)\n",
        "        layer.B -= self.lr * layer.dB / (np.sqrt(self.hB) + 1e-7)\n",
        "\n",
        "        return layer"
      ],
      "execution_count": 85,
      "outputs": []
    },
    {
      "cell_type": "code",
      "metadata": {
        "id": "P_P77eVgllhI"
      },
      "source": [
        "class Softmax:\n",
        "    def __init__(self):\n",
        "        self.name = \"softmax\"\n",
        "    def forward(self, X):\n",
        "        return np.exp(X) / np.sum(np.exp(X), axis=1).reshape(-1, 1)\n",
        "    def backward(self, dZ):\n",
        "        return dZ\n",
        "        \n",
        "class ReLU:\n",
        "    def __init__(self):\n",
        "        self.name = \"ReLU\"\n",
        "    def forward(self, X):\n",
        "        self.X = X\n",
        "        return np.maximum(self.X, 0)\n",
        "    def backward(self, dZ):\n",
        "        return np.where(self.X > 0, dZ, 0)"
      ],
      "execution_count": 86,
      "outputs": []
    },
    {
      "cell_type": "code",
      "metadata": {
        "id": "I6dUsMIZlnRU"
      },
      "source": [
        "class SimpleInitializer:\n",
        "    def __init__(self, sigma=0.02, seed=None):\n",
        "        self.sigma = sigma\n",
        "        self.seed = seed\n",
        "        np.random.seed(seed)\n",
        "\n",
        "    def W(self, n_nodes1, n_nodes2):\n",
        "        W = self.sigma * np.random.randn(n_nodes1, n_nodes2)\n",
        "        return W\n",
        "\n",
        "    def B(self, n_nodes2):\n",
        "        B = self.sigma * np.random.randn(n_nodes2)\n",
        "        return B\n",
        "        \n",
        "class XavierInitializer:\n",
        "    def __init__(self, seed=None):\n",
        "        self.seed = seed\n",
        "        np.random.seed(seed)\n",
        "\n",
        "    def W(self, n_nodes1, n_nodes2):\n",
        "        self.sigma = 1 / np.sqrt(n_nodes1)\n",
        "        W = self.sigma * np.random.randn(n_nodes1, n_nodes2)\n",
        "        return W\n",
        "\n",
        "    def B(self, n_nodes2):\n",
        "        B = self.sigma * np.random.randn(n_nodes2)\n",
        "        return B\n",
        "\n",
        "class HeInitializer:\n",
        "    def __init__(self, seed=None):\n",
        "        self.seed = seed\n",
        "        np.random.seed(seed)\n",
        "\n",
        "    def W(self, n_nodes1, n_nodes2):\n",
        "        self.sigma = np.sqrt(2 / n_nodes1)\n",
        "        W = self.sigma * np.random.randn(n_nodes1, n_nodes2)\n",
        "        return W\n",
        "\n",
        "    def B(self, n_nodes2):\n",
        "        B = self.sigma * np.random.randn(n_nodes2)\n",
        "        return B"
      ],
      "execution_count": 87,
      "outputs": []
    },
    {
      "cell_type": "code",
      "metadata": {
        "id": "jYc0ACAWluAk"
      },
      "source": [
        "class FC:\n",
        "    def __init__(self, n_nodes1, n_nodes2, initializer,\n",
        "                 activation, optimizer, bias=True):\n",
        "        self.n_nodes1 = n_nodes1\n",
        "        self.n_nodes2 = n_nodes2\n",
        "        self.initializer = initializer\n",
        "        self.activation = activation\n",
        "        self.optimizer = optimizer\n",
        "        self.bias = bias\n",
        "        self._init_weights()\n",
        "    \n",
        "    def _init_weights(self):\n",
        "        self.W = self.initializer.W(self.n_nodes1, self.n_nodes2)\n",
        "        self.B = self.initializer.B(self.n_nodes2)\n",
        "        \n",
        "    def forward(self, X):\n",
        "        self.input = X\n",
        "        self.A = self.input @ self.W + self.B if self.bias else self.input @ self.W\n",
        "        return self.activation.forward(self.A)\n",
        "\n",
        "    def backward(self, d):\n",
        "        dA = self.activation.backward(d)\n",
        "\n",
        "        self.dW = self.input.T @ dA / len(self.input)\n",
        "        self.dB = np.mean(dA, axis=0)\n",
        "        dZ = dA @ self.W.T\n",
        "        \n",
        "        self.optimizer.update(self)\n",
        "        return dZ"
      ],
      "execution_count": 88,
      "outputs": []
    },
    {
      "cell_type": "code",
      "metadata": {
        "id": "PkEi2z3mlvgb"
      },
      "source": [
        "class ScratchCNNClassifier:\n",
        "    def __init__(self, batch_size=1, epochs=10, layers=[],\n",
        "                 random_state=None, verbose=False):\n",
        "        self.batch_size = batch_size\n",
        "        self.epochs = epochs\n",
        "        self.layers = layers.copy()\n",
        "        self.random_state = random_state\n",
        "        self.verbose = verbose\n",
        "\n",
        "    def add_layer(self, layer):\n",
        "        self.layers.append(layer)\n",
        "\n",
        "    def loss_function(self, y_true, y_proba, tol=1e-7):\n",
        "        L = -np.mean(y_true * np.log(y_proba + tol))\n",
        "        return L\n",
        "    \n",
        "    def _feedforward(self, X):\n",
        "        Z = X.copy()\n",
        "        for layer in self.layers:\n",
        "            Z = layer.forward(Z)\n",
        "        return Z\n",
        "    \n",
        "    def _backpropagation(self, d):\n",
        "        dZ = d\n",
        "        for layer in self.layers[::-1]:\n",
        "            dZ = layer.backward(dZ)\n",
        "        \n",
        "    def fit(self, X, y, X_val=None, y_val=None):\n",
        "        self.train_loss = []\n",
        "        self.val_loss = []\n",
        "        for i in range(self.epochs):\n",
        "            mini_batch = GetMiniBatch(X, y, batch_size=self.batch_size, seed=self.random_state)\n",
        "            loss = 0\n",
        "            for mini_X, mini_y in mini_batch:\n",
        "\n",
        "                # Forward\n",
        "                Z = self._feedforward(mini_X[:, np.newaxis, :, :])\n",
        "\n",
        "                # Backward\n",
        "                dZ = (Z - mini_y) / self.batch_size\n",
        "                self._backpropagation(dZ)\n",
        "                \n",
        "                # Accumulate loss\n",
        "                loss += self.loss_function(mini_y, Z)\n",
        "\n",
        "            self.train_loss.append(loss / len(mini_batch))\n",
        "            if X_val is not None and y_val is not None:\n",
        "                self.val_loss.append(self.loss_function(y_val, self.predict_proba(X_val)))\n",
        "\n",
        "            if self.verbose:\n",
        "                print(\"Epoch\", i, \"Loss:\", self.train_loss[-1])\n",
        "\n",
        "        return self\n",
        "    \n",
        "    def predict_proba(self, X):\n",
        "        return self._feedforward(X[:, np.newaxis, :, :])\n",
        "\n",
        "    def predict(self, X):\n",
        "        y_proba = self.predict_proba(X)\n",
        "        return np.argmax(y_proba, axis=1)"
      ],
      "execution_count": 89,
      "outputs": []
    },
    {
      "cell_type": "markdown",
      "metadata": {
        "id": "CfooNDSUCWlC"
      },
      "source": [
        "### Prepare data"
      ]
    },
    {
      "cell_type": "code",
      "metadata": {
        "id": "So1HMhlnCOK_"
      },
      "source": [
        "from keras.datasets import mnist\n",
        "(X, y), (X_test, y_test) = mnist.load_data()\n",
        "X = X.astype(np.float)\n",
        "X_test = X_test.astype(np.float)\n",
        "X /= 255\n",
        "X_test /= 255"
      ],
      "execution_count": 90,
      "outputs": []
    },
    {
      "cell_type": "code",
      "metadata": {
        "id": "ttjcmw8cCWBr"
      },
      "source": [
        "from sklearn.preprocessing import OneHotEncoder\n",
        "enc = OneHotEncoder(handle_unknown='ignore', sparse=False)\n",
        "y_one_hot = enc.fit_transform(y.reshape(-1, 1))\n",
        "y_test_one_hot = enc.transform(y_test.reshape(-1, 1))"
      ],
      "execution_count": 91,
      "outputs": []
    },
    {
      "cell_type": "code",
      "metadata": {
        "colab": {
          "base_uri": "https://localhost:8080/"
        },
        "id": "cb4YyqfoChy8",
        "outputId": "bd6d0abb-7e91-4753-bda3-7e091ccb8966"
      },
      "source": [
        "from sklearn.model_selection import train_test_split\n",
        "\n",
        "X_train, X_val, y_train, y_val, y_train_one_hot, y_val_one_hot = train_test_split(X, y, y_one_hot, test_size=0.2, random_state=0)\n",
        "X_train.shape, X_val.shape, y_train.shape, y_val.shape, y_train_one_hot.shape, y_val_one_hot.shape"
      ],
      "execution_count": 92,
      "outputs": [
        {
          "output_type": "execute_result",
          "data": {
            "text/plain": [
              "((48000, 28, 28),\n",
              " (12000, 28, 28),\n",
              " (48000,),\n",
              " (12000,),\n",
              " (48000, 10),\n",
              " (12000, 10))"
            ]
          },
          "metadata": {
            "tags": []
          },
          "execution_count": 92
        }
      ]
    },
    {
      "cell_type": "markdown",
      "metadata": {
        "id": "fTOxSlgVDG5W"
      },
      "source": [
        "### Train"
      ]
    },
    {
      "cell_type": "code",
      "metadata": {
        "id": "lSAIkX7GCjQs"
      },
      "source": [
        "FC1 = FC(7840, 400, initializer=HeInitializer(), activation=ReLU(), optimizer=AdaGrad(0.01))\n",
        "FC2 = FC(400, 200, initializer=HeInitializer(), activation=ReLU(), optimizer=AdaGrad(0.01))\n",
        "FC3 = FC(200, 10, initializer=SimpleInitializer(0.01), activation=Softmax(), optimizer=AdaGrad(0.01))\n",
        "conv2d = SimpleConv2d(out_channel=10, in_channel=1, filter_size=(3, 3), padding_size=(1, 1), stride_size=(1, 1),\n",
        "                      initializer=SimpleInitializerConv2d(), optimizer=SGD(), activation=ReLU())\n",
        "\n",
        "cnn = ScratchCNNClassifier(batch_size=200, epochs=10, verbose=True)\n",
        "cnn.add_layer(conv2d)\n",
        "cnn.add_layer(Flatten())\n",
        "cnn.add_layer(FC1)\n",
        "cnn.add_layer(FC2)\n",
        "cnn.add_layer(FC3)"
      ],
      "execution_count": 93,
      "outputs": []
    },
    {
      "cell_type": "code",
      "metadata": {
        "colab": {
          "base_uri": "https://localhost:8080/"
        },
        "id": "00C96iR_DkYd",
        "outputId": "2c31a687-ff08-4848-9b03-3561b93727f8"
      },
      "source": [
        "cnn.fit(X_train[:1000], y_train_one_hot[:1000])"
      ],
      "execution_count": 94,
      "outputs": [
        {
          "output_type": "stream",
          "text": [
            "Epoch 0 Loss: 0.22619883214679418\n",
            "Epoch 1 Loss: 0.22573381427106032\n",
            "Epoch 2 Loss: 0.18690469468081913\n",
            "Epoch 3 Loss: 0.12168566792666433\n",
            "Epoch 4 Loss: 0.08733665176036635\n",
            "Epoch 5 Loss: 0.06514720554496449\n",
            "Epoch 6 Loss: 0.05187248682350848\n",
            "Epoch 7 Loss: 0.04942063352655427\n",
            "Epoch 8 Loss: 0.038258093775095314\n",
            "Epoch 9 Loss: 0.03328667729296013\n"
          ],
          "name": "stdout"
        },
        {
          "output_type": "execute_result",
          "data": {
            "text/plain": [
              "<__main__.ScratchCNNClassifier at 0x7f5e8ceacd90>"
            ]
          },
          "metadata": {
            "tags": []
          },
          "execution_count": 94
        }
      ]
    },
    {
      "cell_type": "code",
      "metadata": {
        "id": "lXN9vpAEDuhk",
        "colab": {
          "base_uri": "https://localhost:8080/",
          "height": 1000
        },
        "outputId": "cbec0235-c6be-40cd-f69c-f069cd2f84f7"
      },
      "source": [
        "evaluate(X_val, y_val, y_val_one_hot, cnn)\n",
        "plot_learning_curve(cnn.train_loss, cnn.val_loss)"
      ],
      "execution_count": 95,
      "outputs": [
        {
          "output_type": "stream",
          "text": [
            "ROC AUC: 0.9895606642819939\n",
            "              precision    recall  f1-score   support\n",
            "\n",
            "           0       0.96      0.94      0.95      1205\n",
            "           1       0.94      0.96      0.95      1379\n",
            "           2       0.89      0.87      0.88      1166\n",
            "           3       0.93      0.84      0.88      1208\n",
            "           4       0.72      0.92      0.81      1153\n",
            "           5       0.87      0.69      0.77      1075\n",
            "           6       0.92      0.94      0.93      1190\n",
            "           7       0.94      0.89      0.91      1228\n",
            "           8       0.70      0.93      0.80      1191\n",
            "           9       0.84      0.63      0.72      1205\n",
            "\n",
            "    accuracy                           0.86     12000\n",
            "   macro avg       0.87      0.86      0.86     12000\n",
            "weighted avg       0.87      0.86      0.86     12000\n",
            "\n"
          ],
          "name": "stdout"
        },
        {
          "output_type": "display_data",
          "data": {
            "image/png": "[encoded data removed]",
            "text/plain": [
              "<Figure size 432x288 with 2 Axes>"
            ]
          },
          "metadata": {
            "tags": [],
            "needs_background": "light"
          }
        },
        {
          "output_type": "display_data",
          "data": {
            "image/png": "[encoded data removed]",
            "text/plain": [
              "<Figure size 1152x576 with 1 Axes>"
            ]
          },
          "metadata": {
            "tags": [],
            "needs_background": "light"
          }
        }
      ]
    },
    {
      "cell_type": "markdown",
      "metadata": {
        "id": "RjSg6tGaLf3V"
      },
      "source": [
        "## [Problem 8] (Advance assignment) LeNet"
      ]
    },
    {
      "cell_type": "code",
      "metadata": {
        "id": "jWhp_nnXuFZS"
      },
      "source": [
        "conv2d_1 = SimpleConv2d(out_channel=6, in_channel=1, filter_size=(5, 5), padding_size=(2, 2), stride_size=(1, 1),\n",
        "                      initializer=SimpleInitializerConv2d(), optimizer=SGD(), activation=ReLU())\n",
        "max_pool_1 = MaxPool2D(pool_size=(2, 2))\n",
        "conv2d_2 = SimpleConv2d(out_channel=16, in_channel=6, filter_size=(5, 5), padding_size=(2, 2), stride_size=(1, 1),\n",
        "                        initializer=SimpleInitializerConv2d(), optimizer=SGD(), activation=ReLU())\n",
        "max_pool_2 = MaxPool2D(pool_size=(2, 2))\n",
        "flatten = Flatten()\n",
        "FC1 = FC(784, 120, initializer=HeInitializer(), activation=ReLU(), optimizer=AdaGrad(0.01))\n",
        "FC2 = FC(120, 84, initializer=HeInitializer(), activation=ReLU(), optimizer=AdaGrad(0.01))\n",
        "FC3 = FC(84, 10, initializer=SimpleInitializer(0.01), activation=Softmax(), optimizer=AdaGrad(0.01))"
      ],
      "execution_count": 96,
      "outputs": []
    },
    {
      "cell_type": "code",
      "metadata": {
        "id": "g8Dy1TQYHcOV"
      },
      "source": [
        "LeNet = ScratchCNNClassifier(batch_size=20, epochs=30, verbose=True)\n",
        "LeNet.add_layer(conv2d_1)\n",
        "LeNet.add_layer(max_pool_1)\n",
        "LeNet.add_layer(conv2d_2)\n",
        "LeNet.add_layer(max_pool_2)\n",
        "LeNet.add_layer(flatten)\n",
        "LeNet.add_layer(FC1)\n",
        "LeNet.add_layer(FC2)\n",
        "LeNet.add_layer(FC3)"
      ],
      "execution_count": 97,
      "outputs": []
    },
    {
      "cell_type": "code",
      "metadata": {
        "colab": {
          "base_uri": "https://localhost:8080/"
        },
        "id": "rAOKq6Thws9l",
        "outputId": "3719fd76-b657-4b9e-8b7e-cc2ba3190058"
      },
      "source": [
        "LeNet.fit(X_train[:1000], y_train_one_hot[:1000])"
      ],
      "execution_count": 98,
      "outputs": [
        {
          "output_type": "stream",
          "text": [
            "Epoch 0 Loss: 0.2292090381285413\n",
            "Epoch 1 Loss: 0.1847563054002919\n",
            "Epoch 2 Loss: 0.11810638536960326\n",
            "Epoch 3 Loss: 0.09192137662125538\n",
            "Epoch 4 Loss: 0.07831324307216189\n",
            "Epoch 5 Loss: 0.06720373560271825\n",
            "Epoch 6 Loss: 0.06020304636096808\n",
            "Epoch 7 Loss: 0.05267893832132297\n",
            "Epoch 8 Loss: 0.047557111094987586\n",
            "Epoch 9 Loss: 0.043017705907549095\n",
            "Epoch 10 Loss: 0.039288207117629065\n",
            "Epoch 11 Loss: 0.03685135170049707\n",
            "Epoch 12 Loss: 0.03271650735486981\n",
            "Epoch 13 Loss: 0.03094006372146652\n",
            "Epoch 14 Loss: 0.028468327560905626\n",
            "Epoch 15 Loss: 0.025143179914210292\n",
            "Epoch 16 Loss: 0.02447238432485939\n",
            "Epoch 17 Loss: 0.02276939922785734\n",
            "Epoch 18 Loss: 0.02107013732457446\n",
            "Epoch 19 Loss: 0.01955946969325007\n",
            "Epoch 20 Loss: 0.01770053650508162\n",
            "Epoch 21 Loss: 0.017099183001621263\n",
            "Epoch 22 Loss: 0.015184432113735893\n",
            "Epoch 23 Loss: 0.013267790651355851\n",
            "Epoch 24 Loss: 0.013285574807050142\n",
            "Epoch 25 Loss: 0.011668471159832558\n",
            "Epoch 26 Loss: 0.011362351305914637\n",
            "Epoch 27 Loss: 0.010572919231199336\n",
            "Epoch 28 Loss: 0.009613997800433292\n",
            "Epoch 29 Loss: 0.008591828391101246\n"
          ],
          "name": "stdout"
        },
        {
          "output_type": "execute_result",
          "data": {
            "text/plain": [
              "<__main__.ScratchCNNClassifier at 0x7f5e8cc505d0>"
            ]
          },
          "metadata": {
            "tags": []
          },
          "execution_count": 98
        }
      ]
    },
    {
      "cell_type": "code",
      "metadata": {
        "id": "pNCtGgabwu3I",
        "colab": {
          "base_uri": "https://localhost:8080/",
          "height": 1000
        },
        "outputId": "32a144aa-ca95-4881-9506-0c5a6e34adb5"
      },
      "source": [
        "evaluate(X_val, y_val, y_val_one_hot, LeNet)\n",
        "plot_learning_curve(LeNet.train_loss, LeNet.val_loss)"
      ],
      "execution_count": 99,
      "outputs": [
        {
          "output_type": "stream",
          "text": [
            "ROC AUC: 0.9951993647166013\n",
            "              precision    recall  f1-score   support\n",
            "\n",
            "           0       0.97      0.97      0.97      1205\n",
            "           1       0.97      0.95      0.96      1379\n",
            "           2       0.92      0.91      0.91      1166\n",
            "           3       0.91      0.91      0.91      1208\n",
            "           4       0.95      0.87      0.91      1153\n",
            "           5       0.89      0.87      0.88      1075\n",
            "           6       0.96      0.95      0.95      1190\n",
            "           7       0.96      0.90      0.93      1228\n",
            "           8       0.84      0.92      0.88      1191\n",
            "           9       0.81      0.93      0.87      1205\n",
            "\n",
            "    accuracy                           0.92     12000\n",
            "   macro avg       0.92      0.92      0.92     12000\n",
            "weighted avg       0.92      0.92      0.92     12000\n",
            "\n"
          ],
          "name": "stdout"
        },
        {
          "output_type": "display_data",
          "data": {
            "image/png": "[encoded data removed]",
            "text/plain": [
              "<Figure size 432x288 with 2 Axes>"
            ]
          },
          "metadata": {
            "tags": [],
            "needs_background": "light"
          }
        },
        {
          "output_type": "display_data",
          "data": {
            "image/png": "[encoded data removed]",
            "text/plain": [
              "<Figure size 1152x576 with 1 Axes>"
            ]
          },
          "metadata": {
            "tags": [],
            "needs_background": "light"
          }
        }
      ]
    },
    {
      "cell_type": "markdown",
      "metadata": {
        "id": "3f5JPktnwwc5"
      },
      "source": [
        "## [Problem 9] (Advance assignment) Survey of famous image recognition models"
      ]
    },
    {
      "cell_type": "markdown",
      "metadata": {
        "id": "GQNWXp5Xwy0u"
      },
      "source": [
        "### AlexNet\n",
        "\n",
        "Proposed by Alex Krizhev and his colleagues. Consist of 5 convolutional layers and 3 fully connected layers\n",
        "\n",
        "0.   Input: 227 x 227 x 3\n",
        "1.   Convolution 1: 96 output channels, filter size 11 x 11, stride 4, ReLU activation\n",
        "2.   Max Pooling: 3 x 3, stride 2\n",
        "3.   Convolution 2: 256 output channels, filter size 5 x 5, stride 1, padding 2, ReLU activaion\n",
        "4.   Max Pooling: 3 x 3, stride 2\n",
        "5.   Convolution 3: 384 output channels, filter size 3 x 3, stride 1, padding 1, ReLU activation\n",
        "6.   Convolution 4: 384 output channels, filter size 3 x 3, stride 1, padding 1, ReLU activation\n",
        "7.   Convolution 5: 256 output channels, filter size 3 x 3, stride 1, padding 1, ReLU activation\n",
        "8.   Max Pooling: 3 x 3, stride 2\n",
        "9.   Smoothing\n",
        "10.  Fully connected layer: 4096 output nodes, dropout 0.5, ReLU activation\n",
        "11.  Fully connected layer: 4096 output nodes, dropout 0.5, ReLU activation\n",
        "12.  Fully connected layer: 1000 output nodes, Softmax activation\n",
        "**-> AlexNet has a total of 62.3 million learnable parameters.**"
      ]
    },
    {
      "cell_type": "markdown",
      "metadata": {
        "id": "F6pwSE4TiMeZ"
      },
      "source": [
        "### VGG16\n",
        "\n",
        "Proposed by K. Simonyan and A. Zisserman. Consist of 13 convolutional layers and 3 fully connected layers.\n",
        "\n",
        "0.   Input: 224, 224, 3\n",
        "1.   Convolution 1: 64 output channels, filter size 3 x 3, ReLU activation\n",
        "2.   Convolution 2: 64 output channels, filter size 3 x 3, ReLU activation\n",
        "3.   Max pooling: 2 x 2\n",
        "4.   Convolution 3: 128 output channels, filter size 3 x 3, ReLU activation\n",
        "5.   Convolution 4: 128 output channels, filter size 3 x 3, ReLU activation\n",
        "6.   Max pooling: 2 x 2\n",
        "7.   Convolution 5: 256 output channels, filter size 3 x 3, ReLU activation\n",
        "8.   Convolution 6: 256 output channels, filter size 3 x 3, ReLU activation\n",
        "9.   Convolution 7: 256 output channels, filter size 3 x 3, ReLU activation\n",
        "10.  Max pooling: 2 x 2\n",
        "11.   Convolution 8: 512 output channels, filter size 3 x 3, ReLU activation\n",
        "12.   Convolution 9: 512 output channels, filter size 3 x 3, ReLU activation\n",
        "13.   Convolution 10: 512 output channels, filter size 3 x 3, ReLU activation\n",
        "14.  Max pooling: 2 x 2\n",
        "15.   Convolution 11: 512 output channels, filter size 3 x 3, ReLU activation\n",
        "16.   Convolution 12: 512 output channels, filter size 3 x 3, ReLU activation\n",
        "17.   Convolution 13: 512 output channels, filter size 3 x 3, ReLU activation\n",
        "18.  Max pooling: 2 x 2\n",
        "19.  Smoothing\n",
        "20.  Fully connected layer: 4096 output nodes, dropout 0.5, ReLU activation\n",
        "21.  Fully connected layer: 4096 output nodes, dropout 0.5, ReLU activation\n",
        "22.  Fully connected layer: 1000 output nodes, dropout 0.5, Softmax activation\n",
        "\n",
        "**-> VGG16 has a total of 138 million learnable parameters.**"
      ]
    }
  ]
}