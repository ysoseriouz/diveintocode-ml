{
  "nbformat": 4,
  "nbformat_minor": 0,
  "metadata": {
    "colab": {
      "name": "ML_Sprint21_NLP.ipynb",
      "provenance": [],
      "authorship_tag": "ABX9TyPwhS+coxifY+jD9j/Wf7cd",
      "include_colab_link": true
    },
    "kernelspec": {
      "name": "python3",
      "display_name": "Python 3"
    },
    "language_info": {
      "name": "python"
    }
  },
  "cells": [
    {
      "cell_type": "markdown",
      "metadata": {
        "id": "view-in-github",
        "colab_type": "text"
      },
      "source": [
        "<a href=\"https://colab.research.google.com/github/thanhnguyen2612/diveintocode-ml/blob/master/ML_Sprint21_NLP.ipynb\" target=\"_parent\"><img src=\"https://colab.research.google.com/assets/colab-badge.svg\" alt=\"Open In Colab\"/></a>"
      ]
    },
    {
      "cell_type": "markdown",
      "metadata": {
        "id": "Mjand6gMDKtt"
      },
      "source": [
        "# Natural Language Processing"
      ]
    },
    {
      "cell_type": "code",
      "metadata": {
        "colab": {
          "base_uri": "https://localhost:8080/"
        },
        "id": "zfc2BcPuDHds",
        "outputId": "6fb67d4f-58f8-4eaf-deff-0cad119a44ac"
      },
      "source": [
        "#Download IMDB to the current folder\n",
        "!wget http://ai.stanford.edu/~amaas/data/sentiment/aclImdb_v1.tar.gz\n",
        "# Unzip\n",
        "!tar zxf aclImdb_v1.tar.gz\n",
        "# aclImdb / train / unsup is unlabeled and removed\n",
        "!rm -rf aclImdb/train/unsup\n",
        "# Show IMDB dataset description\n",
        "!cat aclImdb/README"
      ],
      "execution_count": 2,
      "outputs": [
        {
          "output_type": "stream",
          "name": "stdout",
          "text": [
            "--2021-11-16 14:02:09--  http://ai.stanford.edu/~amaas/data/sentiment/aclImdb_v1.tar.gz\n",
            "Resolving ai.stanford.edu (ai.stanford.edu)... 171.64.68.10\n",
            "Connecting to ai.stanford.edu (ai.stanford.edu)|171.64.68.10|:80... connected.\n",
            "HTTP request sent, awaiting response... 200 OK\n",
            "Length: 84125825 (80M) [application/x-gzip]\n",
            "Saving to: ‘aclImdb_v1.tar.gz’\n",
            "\n",
            "aclImdb_v1.tar.gz   100%[===================>]  80.23M  1.66MB/s    in 14s     \n",
            "\n",
            "2021-11-16 14:02:23 (5.87 MB/s) - ‘aclImdb_v1.tar.gz’ saved [84125825/84125825]\n",
            "\n",
            "Large Movie Review Dataset v1.0\n",
            "\n",
            "Overview\n",
            "\n",
            "This dataset contains movie reviews along with their associated binary\n",
            "sentiment polarity labels. It is intended to serve as a benchmark for\n",
            "sentiment classification. This document outlines how the dataset was\n",
            "gathered, and how to use the files provided. \n",
            "\n",
            "Dataset \n",
            "\n",
            "The core dataset contains 50,000 reviews split evenly into 25k train\n",
            "and 25k test sets. The overall distribution of labels is balanced (25k\n",
            "pos and 25k neg). We also include an additional 50,000 unlabeled\n",
            "documents for unsupervised learning. \n",
            "\n",
            "In the entire collection, no more than 30 reviews are allowed for any\n",
            "given movie because reviews for the same movie tend to have correlated\n",
            "ratings. Further, the train and test sets contain a disjoint set of\n",
            "movies, so no significant performance is obtained by memorizing\n",
            "movie-unique terms and their associated with observed labels.  In the\n",
            "labeled train/test sets, a negative review has a score <= 4 out of 10,\n",
            "and a positive review has a score >= 7 out of 10. Thus reviews with\n",
            "more neutral ratings are not included in the train/test sets. In the\n",
            "unsupervised set, reviews of any rating are included and there are an\n",
            "even number of reviews > 5 and <= 5.\n",
            "\n",
            "Files\n",
            "\n",
            "There are two top-level directories [train/, test/] corresponding to\n",
            "the training and test sets. Each contains [pos/, neg/] directories for\n",
            "the reviews with binary labels positive and negative. Within these\n",
            "directories, reviews are stored in text files named following the\n",
            "convention [[id]_[rating].txt] where [id] is a unique id and [rating] is\n",
            "the star rating for that review on a 1-10 scale. For example, the file\n",
            "[test/pos/200_8.txt] is the text for a positive-labeled test set\n",
            "example with unique id 200 and star rating 8/10 from IMDb. The\n",
            "[train/unsup/] directory has 0 for all ratings because the ratings are\n",
            "omitted for this portion of the dataset.\n",
            "\n",
            "We also include the IMDb URLs for each review in a separate\n",
            "[urls_[pos, neg, unsup].txt] file. A review with unique id 200 will\n",
            "have its URL on line 200 of this file. Due the ever-changing IMDb, we\n",
            "are unable to link directly to the review, but only to the movie's\n",
            "review page.\n",
            "\n",
            "In addition to the review text files, we include already-tokenized bag\n",
            "of words (BoW) features that were used in our experiments. These \n",
            "are stored in .feat files in the train/test directories. Each .feat\n",
            "file is in LIBSVM format, an ascii sparse-vector format for labeled\n",
            "data.  The feature indices in these files start from 0, and the text\n",
            "tokens corresponding to a feature index is found in [imdb.vocab]. So a\n",
            "line with 0:7 in a .feat file means the first word in [imdb.vocab]\n",
            "(the) appears 7 times in that review.\n",
            "\n",
            "LIBSVM page for details on .feat file format:\n",
            "http://www.csie.ntu.edu.tw/~cjlin/libsvm/\n",
            "\n",
            "We also include [imdbEr.txt] which contains the expected rating for\n",
            "each token in [imdb.vocab] as computed by (Potts, 2011). The expected\n",
            "rating is a good way to get a sense for the average polarity of a word\n",
            "in the dataset.\n",
            "\n",
            "Citing the dataset\n",
            "\n",
            "When using this dataset please cite our ACL 2011 paper which\n",
            "introduces it. This paper also contains classification results which\n",
            "you may want to compare against.\n",
            "\n",
            "\n",
            "@InProceedings{maas-EtAl:2011:ACL-HLT2011,\n",
            "  author    = {Maas, Andrew L.  and  Daly, Raymond E.  and  Pham, Peter T.  and  Huang, Dan  and  Ng, Andrew Y.  and  Potts, Christopher},\n",
            "  title     = {Learning Word Vectors for Sentiment Analysis},\n",
            "  booktitle = {Proceedings of the 49th Annual Meeting of the Association for Computational Linguistics: Human Language Technologies},\n",
            "  month     = {June},\n",
            "  year      = {2011},\n",
            "  address   = {Portland, Oregon, USA},\n",
            "  publisher = {Association for Computational Linguistics},\n",
            "  pages     = {142--150},\n",
            "  url       = {http://www.aclweb.org/anthology/P11-1015}\n",
            "}\n",
            "\n",
            "References\n",
            "\n",
            "Potts, Christopher. 2011. On the negativity of negation. In Nan Li and\n",
            "David Lutz, eds., Proceedings of Semantics and Linguistic Theory 20,\n",
            "636-659.\n",
            "\n",
            "Contact\n",
            "\n",
            "For questions/comments/corrections please contact Andrew Maas\n",
            "amaas@cs.stanford.edu\n"
          ]
        }
      ]
    },
    {
      "cell_type": "code",
      "metadata": {
        "colab": {
          "base_uri": "https://localhost:8080/"
        },
        "id": "AxNpKI-HDhih",
        "outputId": "0bc913e6-828b-495f-a64a-955cf54ed4b3"
      },
      "source": [
        "from sklearn.datasets import load_files\n",
        "\n",
        "train_review = load_files('aclImdb/train/', encoding='utf-8')\n",
        "test_review = load_files('aclImdb/test/', encoding='utf-8')\n",
        "\n",
        "X_train, y_train = train_review.data, train_review.target\n",
        "X_test, y_test = test_review.data, test_review.target\n",
        "\n",
        "print(train_review.target_names)\n",
        "print(f\"X: {X_train[0]}\")"
      ],
      "execution_count": 9,
      "outputs": [
        {
          "output_type": "stream",
          "name": "stdout",
          "text": [
            "['neg', 'pos']\n",
            "X: Zero Day leads you to think, even re-think why two boys/young men would do what they did - commit mutual suicide via slaughtering their classmates. It captures what must be beyond a bizarre mode of being for two humans who have decided to withdraw from common civility in order to define their own/mutual world via coupled destruction.<br /><br />It is not a perfect movie but given what money/time the filmmaker and actors had - it is a remarkable product. In terms of explaining the motives and actions of the two young suicide/murderers it is better than 'Elephant' - in terms of being a film that gets under our 'rationalistic' skin it is a far, far better film than almost anything you are likely to see. <br /><br />Flawed but honest with a terrible honesty.\n"
          ]
        }
      ]
    },
    {
      "cell_type": "markdown",
      "metadata": {
        "id": "UNMBAM4qFR26"
      },
      "source": [
        "# Example"
      ]
    },
    {
      "cell_type": "code",
      "metadata": {
        "colab": {
          "base_uri": "https://localhost:8080/",
          "height": 142
        },
        "id": "2vhaaisiDsEl",
        "outputId": "57f3aeaa-0369-414c-8a9e-af85ab6c0c30"
      },
      "source": [
        "import pandas as pd\n",
        "from sklearn.feature_extraction.text import CountVectorizer\n",
        "\n",
        "mini_dataset = [\n",
        "    'This movie is very good.',\n",
        "    'This film is a good',\n",
        "    'Very bad. Very, very bad.'\n",
        "]\n",
        "\n",
        "vectorizer = CountVectorizer(token_pattern=r'(?u)\\b\\w+\\b')\n",
        "bow = (vectorizer.fit_transform(mini_dataset)).toarray()\n",
        "\n",
        "df = pd.DataFrame(bow, columns=vectorizer.get_feature_names_out())\n",
        "df.head()"
      ],
      "execution_count": 11,
      "outputs": [
        {
          "output_type": "execute_result",
          "data": {
            "text/html": [
              "<div>\n",
              "<style scoped>\n",
              "    .dataframe tbody tr th:only-of-type {\n",
              "        vertical-align: middle;\n",
              "    }\n",
              "\n",
              "    .dataframe tbody tr th {\n",
              "        vertical-align: top;\n",
              "    }\n",
              "\n",
              "    .dataframe thead th {\n",
              "        text-align: right;\n",
              "    }\n",
              "</style>\n",
              "<table border=\"1\" class=\"dataframe\">\n",
              "  <thead>\n",
              "    <tr style=\"text-align: right;\">\n",
              "      <th></th>\n",
              "      <th>a</th>\n",
              "      <th>bad</th>\n",
              "      <th>film</th>\n",
              "      <th>good</th>\n",
              "      <th>is</th>\n",
              "      <th>movie</th>\n",
              "      <th>this</th>\n",
              "      <th>very</th>\n",
              "    </tr>\n",
              "  </thead>\n",
              "  <tbody>\n",
              "    <tr>\n",
              "      <th>0</th>\n",
              "      <td>0</td>\n",
              "      <td>0</td>\n",
              "      <td>0</td>\n",
              "      <td>1</td>\n",
              "      <td>1</td>\n",
              "      <td>1</td>\n",
              "      <td>1</td>\n",
              "      <td>1</td>\n",
              "    </tr>\n",
              "    <tr>\n",
              "      <th>1</th>\n",
              "      <td>1</td>\n",
              "      <td>0</td>\n",
              "      <td>1</td>\n",
              "      <td>1</td>\n",
              "      <td>1</td>\n",
              "      <td>0</td>\n",
              "      <td>1</td>\n",
              "      <td>0</td>\n",
              "    </tr>\n",
              "    <tr>\n",
              "      <th>2</th>\n",
              "      <td>0</td>\n",
              "      <td>2</td>\n",
              "      <td>0</td>\n",
              "      <td>0</td>\n",
              "      <td>0</td>\n",
              "      <td>0</td>\n",
              "      <td>0</td>\n",
              "      <td>3</td>\n",
              "    </tr>\n",
              "  </tbody>\n",
              "</table>\n",
              "</div>"
            ],
            "text/plain": [
              "   a  bad  film  good  is  movie  this  very\n",
              "0  0    0     0     1   1      1     1     1\n",
              "1  1    0     1     1   1      0     1     0\n",
              "2  0    2     0     0   0      0     0     3"
            ]
          },
          "metadata": {},
          "execution_count": 11
        }
      ]
    },
    {
      "cell_type": "code",
      "metadata": {
        "colab": {
          "base_uri": "https://localhost:8080/",
          "height": 142
        },
        "id": "egTkU3krGDpW",
        "outputId": "8dec69bb-ad08-468d-ebab-5ef371cdfe58"
      },
      "source": [
        "vectorizer_2gram = CountVectorizer(ngram_range=(2, 2), token_pattern=r'(?u)\\b\\w+\\b')\n",
        "\n",
        "bow_train = (vectorizer_2gram.fit_transform(mini_dataset)).toarray()\n",
        "\n",
        "df = pd.DataFrame(bow_train, columns=vectorizer_2gram.get_feature_names_out())\n",
        "display(df)"
      ],
      "execution_count": 13,
      "outputs": [
        {
          "output_type": "display_data",
          "data": {
            "text/html": [
              "<div>\n",
              "<style scoped>\n",
              "    .dataframe tbody tr th:only-of-type {\n",
              "        vertical-align: middle;\n",
              "    }\n",
              "\n",
              "    .dataframe tbody tr th {\n",
              "        vertical-align: top;\n",
              "    }\n",
              "\n",
              "    .dataframe thead th {\n",
              "        text-align: right;\n",
              "    }\n",
              "</style>\n",
              "<table border=\"1\" class=\"dataframe\">\n",
              "  <thead>\n",
              "    <tr style=\"text-align: right;\">\n",
              "      <th></th>\n",
              "      <th>a good</th>\n",
              "      <th>bad very</th>\n",
              "      <th>film is</th>\n",
              "      <th>is a</th>\n",
              "      <th>is very</th>\n",
              "      <th>movie is</th>\n",
              "      <th>this film</th>\n",
              "      <th>this movie</th>\n",
              "      <th>very bad</th>\n",
              "      <th>very good</th>\n",
              "      <th>very very</th>\n",
              "    </tr>\n",
              "  </thead>\n",
              "  <tbody>\n",
              "    <tr>\n",
              "      <th>0</th>\n",
              "      <td>0</td>\n",
              "      <td>0</td>\n",
              "      <td>0</td>\n",
              "      <td>0</td>\n",
              "      <td>1</td>\n",
              "      <td>1</td>\n",
              "      <td>0</td>\n",
              "      <td>1</td>\n",
              "      <td>0</td>\n",
              "      <td>1</td>\n",
              "      <td>0</td>\n",
              "    </tr>\n",
              "    <tr>\n",
              "      <th>1</th>\n",
              "      <td>1</td>\n",
              "      <td>0</td>\n",
              "      <td>1</td>\n",
              "      <td>1</td>\n",
              "      <td>0</td>\n",
              "      <td>0</td>\n",
              "      <td>1</td>\n",
              "      <td>0</td>\n",
              "      <td>0</td>\n",
              "      <td>0</td>\n",
              "      <td>0</td>\n",
              "    </tr>\n",
              "    <tr>\n",
              "      <th>2</th>\n",
              "      <td>0</td>\n",
              "      <td>1</td>\n",
              "      <td>0</td>\n",
              "      <td>0</td>\n",
              "      <td>0</td>\n",
              "      <td>0</td>\n",
              "      <td>0</td>\n",
              "      <td>0</td>\n",
              "      <td>2</td>\n",
              "      <td>0</td>\n",
              "      <td>1</td>\n",
              "    </tr>\n",
              "  </tbody>\n",
              "</table>\n",
              "</div>"
            ],
            "text/plain": [
              "   a good  bad very  film is  is a  ...  this movie  very bad  very good  very very\n",
              "0       0         0        0     0  ...           1         0          1          0\n",
              "1       1         0        1     1  ...           0         0          0          0\n",
              "2       0         1        0     0  ...           0         2          0          1\n",
              "\n",
              "[3 rows x 11 columns]"
            ]
          },
          "metadata": {}
        }
      ]
    },
    {
      "cell_type": "markdown",
      "metadata": {
        "id": "y8a20nhVJ3xc"
      },
      "source": [
        "# [Problem 1] Scratch implementation of BoW"
      ]
    },
    {
      "cell_type": "code",
      "metadata": {
        "colab": {
          "base_uri": "https://localhost:8080/"
        },
        "id": "mq82FHd7JxQ2",
        "outputId": "30290e94-8a46-4c5a-a0aa-51b9e5a4f295"
      },
      "source": [
        "texts = [\n",
        "    'This movie is SOOOO funny !!!',\n",
        "    'What a movie! I never',\n",
        "    'best movie ever!!!!! this movie'\n",
        "]\n",
        "\n",
        "split_texts = [text.lower().replace('!', '').split() for text in texts]\n",
        "split_words = [item for sublist in split_texts for item in sublist]\n",
        "split_words"
      ],
      "execution_count": 23,
      "outputs": [
        {
          "output_type": "execute_result",
          "data": {
            "text/plain": [
              "['this',\n",
              " 'movie',\n",
              " 'is',\n",
              " 'soooo',\n",
              " 'funny',\n",
              " 'what',\n",
              " 'a',\n",
              " 'movie',\n",
              " 'i',\n",
              " 'never',\n",
              " 'best',\n",
              " 'movie',\n",
              " 'ever',\n",
              " 'this',\n",
              " 'movie']"
            ]
          },
          "metadata": {},
          "execution_count": 23
        }
      ]
    },
    {
      "cell_type": "code",
      "metadata": {
        "colab": {
          "base_uri": "https://localhost:8080/",
          "height": 142
        },
        "id": "s4BLKURUKCSl",
        "outputId": "5c4aa689-cbe4-4a79-cd09-207b2769850e"
      },
      "source": [
        "import numpy as np\n",
        "\n",
        "unigram = pd.DataFrame(np.zeros((len(split_texts), len(set(split_words)))).astype('int'), columns=set(split_words))\n",
        "\n",
        "for i, ss in enumerate(split_texts):\n",
        "    for s in ss:\n",
        "        n = ss.count(s)\n",
        "        unigram[s][i] = n\n",
        "        \n",
        "unigram"
      ],
      "execution_count": 24,
      "outputs": [
        {
          "output_type": "execute_result",
          "data": {
            "text/html": [
              "<div>\n",
              "<style scoped>\n",
              "    .dataframe tbody tr th:only-of-type {\n",
              "        vertical-align: middle;\n",
              "    }\n",
              "\n",
              "    .dataframe tbody tr th {\n",
              "        vertical-align: top;\n",
              "    }\n",
              "\n",
              "    .dataframe thead th {\n",
              "        text-align: right;\n",
              "    }\n",
              "</style>\n",
              "<table border=\"1\" class=\"dataframe\">\n",
              "  <thead>\n",
              "    <tr style=\"text-align: right;\">\n",
              "      <th></th>\n",
              "      <th>movie</th>\n",
              "      <th>what</th>\n",
              "      <th>this</th>\n",
              "      <th>never</th>\n",
              "      <th>ever</th>\n",
              "      <th>a</th>\n",
              "      <th>funny</th>\n",
              "      <th>i</th>\n",
              "      <th>soooo</th>\n",
              "      <th>best</th>\n",
              "      <th>is</th>\n",
              "    </tr>\n",
              "  </thead>\n",
              "  <tbody>\n",
              "    <tr>\n",
              "      <th>0</th>\n",
              "      <td>1</td>\n",
              "      <td>0</td>\n",
              "      <td>1</td>\n",
              "      <td>0</td>\n",
              "      <td>0</td>\n",
              "      <td>0</td>\n",
              "      <td>1</td>\n",
              "      <td>0</td>\n",
              "      <td>1</td>\n",
              "      <td>0</td>\n",
              "      <td>1</td>\n",
              "    </tr>\n",
              "    <tr>\n",
              "      <th>1</th>\n",
              "      <td>1</td>\n",
              "      <td>1</td>\n",
              "      <td>0</td>\n",
              "      <td>1</td>\n",
              "      <td>0</td>\n",
              "      <td>1</td>\n",
              "      <td>0</td>\n",
              "      <td>1</td>\n",
              "      <td>0</td>\n",
              "      <td>0</td>\n",
              "      <td>0</td>\n",
              "    </tr>\n",
              "    <tr>\n",
              "      <th>2</th>\n",
              "      <td>2</td>\n",
              "      <td>0</td>\n",
              "      <td>1</td>\n",
              "      <td>0</td>\n",
              "      <td>1</td>\n",
              "      <td>0</td>\n",
              "      <td>0</td>\n",
              "      <td>0</td>\n",
              "      <td>0</td>\n",
              "      <td>1</td>\n",
              "      <td>0</td>\n",
              "    </tr>\n",
              "  </tbody>\n",
              "</table>\n",
              "</div>"
            ],
            "text/plain": [
              "   movie  what  this  never  ever  a  funny  i  soooo  best  is\n",
              "0      1     0     1      0     0  0      1  0      1     0   1\n",
              "1      1     1     0      1     0  1      0  1      0     0   0\n",
              "2      2     0     1      0     1  0      0  0      0     1   0"
            ]
          },
          "metadata": {},
          "execution_count": 24
        }
      ]
    },
    {
      "cell_type": "code",
      "metadata": {
        "colab": {
          "base_uri": "https://localhost:8080/",
          "height": 142
        },
        "id": "FZCnaItvMlI7",
        "outputId": "c464e96c-11c5-4883-80da-06c92bba3c31"
      },
      "source": [
        "bigram_vocab = []\n",
        "bigram_list = []\n",
        "for s in split_texts:\n",
        "    lst = []\n",
        "    for i in range(len(s) - 1):\n",
        "        words = f\"{s[i]} {s[i + 1]}\"\n",
        "        bigram_vocab.append(words)\n",
        "        lst.append(words)\n",
        "    bigram_list.append(lst)\n",
        "\n",
        "bigram = pd.DataFrame(np.zeros((len(bigram_list), len(set(bigram_vocab)))).astype('int'), columns=set(bigram_vocab))\n",
        "\n",
        "for i, ss in enumerate(bigram_list):\n",
        "    for s in ss:\n",
        "        n = ss.count(s)\n",
        "        bigram[s][i] = n\n",
        "        \n",
        "bigram"
      ],
      "execution_count": 25,
      "outputs": [
        {
          "output_type": "execute_result",
          "data": {
            "text/html": [
              "<div>\n",
              "<style scoped>\n",
              "    .dataframe tbody tr th:only-of-type {\n",
              "        vertical-align: middle;\n",
              "    }\n",
              "\n",
              "    .dataframe tbody tr th {\n",
              "        vertical-align: top;\n",
              "    }\n",
              "\n",
              "    .dataframe thead th {\n",
              "        text-align: right;\n",
              "    }\n",
              "</style>\n",
              "<table border=\"1\" class=\"dataframe\">\n",
              "  <thead>\n",
              "    <tr style=\"text-align: right;\">\n",
              "      <th></th>\n",
              "      <th>this movie</th>\n",
              "      <th>movie i</th>\n",
              "      <th>movie ever</th>\n",
              "      <th>what a</th>\n",
              "      <th>soooo funny</th>\n",
              "      <th>movie is</th>\n",
              "      <th>best movie</th>\n",
              "      <th>ever this</th>\n",
              "      <th>a movie</th>\n",
              "      <th>i never</th>\n",
              "      <th>is soooo</th>\n",
              "    </tr>\n",
              "  </thead>\n",
              "  <tbody>\n",
              "    <tr>\n",
              "      <th>0</th>\n",
              "      <td>1</td>\n",
              "      <td>0</td>\n",
              "      <td>0</td>\n",
              "      <td>0</td>\n",
              "      <td>1</td>\n",
              "      <td>1</td>\n",
              "      <td>0</td>\n",
              "      <td>0</td>\n",
              "      <td>0</td>\n",
              "      <td>0</td>\n",
              "      <td>1</td>\n",
              "    </tr>\n",
              "    <tr>\n",
              "      <th>1</th>\n",
              "      <td>0</td>\n",
              "      <td>1</td>\n",
              "      <td>0</td>\n",
              "      <td>1</td>\n",
              "      <td>0</td>\n",
              "      <td>0</td>\n",
              "      <td>0</td>\n",
              "      <td>0</td>\n",
              "      <td>1</td>\n",
              "      <td>1</td>\n",
              "      <td>0</td>\n",
              "    </tr>\n",
              "    <tr>\n",
              "      <th>2</th>\n",
              "      <td>1</td>\n",
              "      <td>0</td>\n",
              "      <td>1</td>\n",
              "      <td>0</td>\n",
              "      <td>0</td>\n",
              "      <td>0</td>\n",
              "      <td>1</td>\n",
              "      <td>1</td>\n",
              "      <td>0</td>\n",
              "      <td>0</td>\n",
              "      <td>0</td>\n",
              "    </tr>\n",
              "  </tbody>\n",
              "</table>\n",
              "</div>"
            ],
            "text/plain": [
              "   this movie  movie i  movie ever  ...  a movie  i never  is soooo\n",
              "0           1        0           0  ...        0        0         1\n",
              "1           0        1           0  ...        1        1         0\n",
              "2           1        0           1  ...        0        0         0\n",
              "\n",
              "[3 rows x 11 columns]"
            ]
          },
          "metadata": {},
          "execution_count": 25
        }
      ]
    },
    {
      "cell_type": "markdown",
      "metadata": {
        "id": "Ro5GicLKPInO"
      },
      "source": [
        "# [Problem 2] TF-IDF calculation"
      ]
    },
    {
      "cell_type": "code",
      "metadata": {
        "colab": {
          "base_uri": "https://localhost:8080/"
        },
        "id": "RbxMs94DNu6C",
        "outputId": "abfd56e2-4565-4dcf-e254-5f38666a26ed"
      },
      "source": [
        "import nltk\n",
        "stop_words = nltk.download('stopwords')\n",
        "\n",
        "from nltk.corpus import stopwords\n",
        "stop_words = stopwords.words('english')\n",
        "print(stop_words)"
      ],
      "execution_count": 29,
      "outputs": [
        {
          "output_type": "stream",
          "name": "stdout",
          "text": [
            "[nltk_data] Downloading package stopwords to /root/nltk_data...\n",
            "[nltk_data]   Package stopwords is already up-to-date!\n",
            "['i', 'me', 'my', 'myself', 'we', 'our', 'ours', 'ourselves', 'you', \"you're\", \"you've\", \"you'll\", \"you'd\", 'your', 'yours', 'yourself', 'yourselves', 'he', 'him', 'his', 'himself', 'she', \"she's\", 'her', 'hers', 'herself', 'it', \"it's\", 'its', 'itself', 'they', 'them', 'their', 'theirs', 'themselves', 'what', 'which', 'who', 'whom', 'this', 'that', \"that'll\", 'these', 'those', 'am', 'is', 'are', 'was', 'were', 'be', 'been', 'being', 'have', 'has', 'had', 'having', 'do', 'does', 'did', 'doing', 'a', 'an', 'the', 'and', 'but', 'if', 'or', 'because', 'as', 'until', 'while', 'of', 'at', 'by', 'for', 'with', 'about', 'against', 'between', 'into', 'through', 'during', 'before', 'after', 'above', 'below', 'to', 'from', 'up', 'down', 'in', 'out', 'on', 'off', 'over', 'under', 'again', 'further', 'then', 'once', 'here', 'there', 'when', 'where', 'why', 'how', 'all', 'any', 'both', 'each', 'few', 'more', 'most', 'other', 'some', 'such', 'no', 'nor', 'not', 'only', 'own', 'same', 'so', 'than', 'too', 'very', 's', 't', 'can', 'will', 'just', 'don', \"don't\", 'should', \"should've\", 'now', 'd', 'll', 'm', 'o', 're', 've', 'y', 'ain', 'aren', \"aren't\", 'couldn', \"couldn't\", 'didn', \"didn't\", 'doesn', \"doesn't\", 'hadn', \"hadn't\", 'hasn', \"hasn't\", 'haven', \"haven't\", 'isn', \"isn't\", 'ma', 'mightn', \"mightn't\", 'mustn', \"mustn't\", 'needn', \"needn't\", 'shan', \"shan't\", 'shouldn', \"shouldn't\", 'wasn', \"wasn't\", 'weren', \"weren't\", 'won', \"won't\", 'wouldn', \"wouldn't\"]\n"
          ]
        }
      ]
    },
    {
      "cell_type": "code",
      "metadata": {
        "colab": {
          "base_uri": "https://localhost:8080/"
        },
        "id": "z1tc87UsPu2E",
        "outputId": "b62c7870-d889-4104-ec3c-9f7fbb098764"
      },
      "source": [
        "from sklearn.feature_extraction.text import TfidfVectorizer\n",
        "\n",
        "vectorizer_train = TfidfVectorizer(stop_words=stop_words, max_features=5000)\n",
        "X_train = vectorizer_train.fit_transform(X_train)\n",
        "vec = vectorizer_train.get_feature_names_out()\n",
        "\n",
        "vectorizer_test = TfidfVectorizer(stop_words=stop_words, max_features=5000, vocabulary=vec)\n",
        "X_test = vectorizer_test.fit_transform(X_test)\n",
        "\n",
        "X_train.shape, X_test.shape"
      ],
      "execution_count": 30,
      "outputs": [
        {
          "output_type": "execute_result",
          "data": {
            "text/plain": [
              "((25000, 5000), (25000, 5000))"
            ]
          },
          "metadata": {},
          "execution_count": 30
        }
      ]
    },
    {
      "cell_type": "markdown",
      "metadata": {
        "id": "JIHiH8csQSPX"
      },
      "source": [
        "# [Problem 3] Learning using TF-IDF"
      ]
    },
    {
      "cell_type": "code",
      "metadata": {
        "id": "hOgnJI8XQp_V"
      },
      "source": [
        "from sklearn.metrics import confusion_matrix\n",
        "from sklearn.metrics import precision_score\n",
        "from sklearn.metrics import recall_score\n",
        "from sklearn.metrics import f1_score\n",
        "\n",
        "def train_evaluate(model, X_train, y_train, X_val, y_val):\n",
        "    model.fit(X_train, y_train)\n",
        "    y_pred = model.predict(X_val)\n",
        "\n",
        "    print(model.score(X_val, y_val))\n",
        "    print(precision_score(y_val, y_pred))\n",
        "    print(recall_score(y_val, y_pred))\n",
        "    print(f1_score(y_val, y_pred))\n",
        "    print(confusion_matrix(y_val, y_pred))"
      ],
      "execution_count": 37,
      "outputs": []
    },
    {
      "cell_type": "code",
      "metadata": {
        "colab": {
          "base_uri": "https://localhost:8080/"
        },
        "id": "m9efl6r0RaN9",
        "outputId": "6b4fd3b9-9eca-40d2-d790-0348b0f3a43b"
      },
      "source": [
        "import lightgbm as lgb\n",
        "\n",
        "lgb = lgb.LGBMClassifier()\n",
        "\n",
        "train_evaluate(lgb, X_train, y_train, X_test, y_test)"
      ],
      "execution_count": 39,
      "outputs": [
        {
          "output_type": "stream",
          "name": "stdout",
          "text": [
            "0.86004\n",
            "0.853118870145155\n",
            "0.86984\n",
            "0.8613982966924144\n",
            "[[10628  1872]\n",
            " [ 1627 10873]]\n"
          ]
        }
      ]
    },
    {
      "cell_type": "markdown",
      "metadata": {
        "id": "R1ZAPKNNR162"
      },
      "source": [
        "# [Problem 4] Scratch mounting of TF-IDF"
      ]
    },
    {
      "cell_type": "markdown",
      "metadata": {
        "id": "325bXzgsTBBZ"
      },
      "source": [
        "## Standard formula"
      ]
    },
    {
      "cell_type": "code",
      "metadata": {
        "colab": {
          "base_uri": "https://localhost:8080/"
        },
        "id": "e4cu2rRSRWoH",
        "outputId": "31ae4c1a-2245-4528-b2e0-dbb5e5cb33f1"
      },
      "source": [
        "tf = unigram.copy()\n",
        "idf = unigram.copy()\n",
        "\n",
        "for i in range(len(tf)):\n",
        "    tf.iloc[i, :] = tf.iloc[i, :] / tf.iloc[i, :].sum()\n",
        "    \n",
        "for t in idf.columns:\n",
        "    idf[t][:] = np.log(len(idf.columns) / idf[t].sum())"
      ],
      "execution_count": 40,
      "outputs": [
        {
          "output_type": "stream",
          "name": "stderr",
          "text": [
            "/usr/local/lib/python3.7/dist-packages/ipykernel_launcher.py:8: SettingWithCopyWarning: \n",
            "A value is trying to be set on a copy of a slice from a DataFrame\n",
            "\n",
            "See the caveats in the documentation: https://pandas.pydata.org/pandas-docs/stable/user_guide/indexing.html#returning-a-view-versus-a-copy\n",
            "  \n"
          ]
        }
      ]
    },
    {
      "cell_type": "code",
      "metadata": {
        "colab": {
          "base_uri": "https://localhost:8080/",
          "height": 142
        },
        "id": "SlpxZKG6TMWb",
        "outputId": "17f05c4a-f3ee-4f6b-bb44-18e75ef04aec"
      },
      "source": [
        "tf"
      ],
      "execution_count": 41,
      "outputs": [
        {
          "output_type": "execute_result",
          "data": {
            "text/html": [
              "<div>\n",
              "<style scoped>\n",
              "    .dataframe tbody tr th:only-of-type {\n",
              "        vertical-align: middle;\n",
              "    }\n",
              "\n",
              "    .dataframe tbody tr th {\n",
              "        vertical-align: top;\n",
              "    }\n",
              "\n",
              "    .dataframe thead th {\n",
              "        text-align: right;\n",
              "    }\n",
              "</style>\n",
              "<table border=\"1\" class=\"dataframe\">\n",
              "  <thead>\n",
              "    <tr style=\"text-align: right;\">\n",
              "      <th></th>\n",
              "      <th>movie</th>\n",
              "      <th>what</th>\n",
              "      <th>this</th>\n",
              "      <th>never</th>\n",
              "      <th>ever</th>\n",
              "      <th>a</th>\n",
              "      <th>funny</th>\n",
              "      <th>i</th>\n",
              "      <th>soooo</th>\n",
              "      <th>best</th>\n",
              "      <th>is</th>\n",
              "    </tr>\n",
              "  </thead>\n",
              "  <tbody>\n",
              "    <tr>\n",
              "      <th>0</th>\n",
              "      <td>0.2</td>\n",
              "      <td>0.0</td>\n",
              "      <td>0.2</td>\n",
              "      <td>0.0</td>\n",
              "      <td>0.0</td>\n",
              "      <td>0.0</td>\n",
              "      <td>0.2</td>\n",
              "      <td>0.0</td>\n",
              "      <td>0.2</td>\n",
              "      <td>0.0</td>\n",
              "      <td>0.2</td>\n",
              "    </tr>\n",
              "    <tr>\n",
              "      <th>1</th>\n",
              "      <td>0.2</td>\n",
              "      <td>0.2</td>\n",
              "      <td>0.0</td>\n",
              "      <td>0.2</td>\n",
              "      <td>0.0</td>\n",
              "      <td>0.2</td>\n",
              "      <td>0.0</td>\n",
              "      <td>0.2</td>\n",
              "      <td>0.0</td>\n",
              "      <td>0.0</td>\n",
              "      <td>0.0</td>\n",
              "    </tr>\n",
              "    <tr>\n",
              "      <th>2</th>\n",
              "      <td>0.4</td>\n",
              "      <td>0.0</td>\n",
              "      <td>0.2</td>\n",
              "      <td>0.0</td>\n",
              "      <td>0.2</td>\n",
              "      <td>0.0</td>\n",
              "      <td>0.0</td>\n",
              "      <td>0.0</td>\n",
              "      <td>0.0</td>\n",
              "      <td>0.2</td>\n",
              "      <td>0.0</td>\n",
              "    </tr>\n",
              "  </tbody>\n",
              "</table>\n",
              "</div>"
            ],
            "text/plain": [
              "   movie  what  this  never  ever    a  funny    i  soooo  best   is\n",
              "0    0.2   0.0   0.2    0.0   0.0  0.0    0.2  0.0    0.2   0.0  0.2\n",
              "1    0.2   0.2   0.0    0.2   0.0  0.2    0.0  0.2    0.0   0.0  0.0\n",
              "2    0.4   0.0   0.2    0.0   0.2  0.0    0.0  0.0    0.0   0.2  0.0"
            ]
          },
          "metadata": {},
          "execution_count": 41
        }
      ]
    },
    {
      "cell_type": "code",
      "metadata": {
        "colab": {
          "base_uri": "https://localhost:8080/",
          "height": 142
        },
        "id": "fewctlzjTM35",
        "outputId": "a3deb4e2-af14-415a-a490-9d4c79f74505"
      },
      "source": [
        "idf"
      ],
      "execution_count": 42,
      "outputs": [
        {
          "output_type": "execute_result",
          "data": {
            "text/html": [
              "<div>\n",
              "<style scoped>\n",
              "    .dataframe tbody tr th:only-of-type {\n",
              "        vertical-align: middle;\n",
              "    }\n",
              "\n",
              "    .dataframe tbody tr th {\n",
              "        vertical-align: top;\n",
              "    }\n",
              "\n",
              "    .dataframe thead th {\n",
              "        text-align: right;\n",
              "    }\n",
              "</style>\n",
              "<table border=\"1\" class=\"dataframe\">\n",
              "  <thead>\n",
              "    <tr style=\"text-align: right;\">\n",
              "      <th></th>\n",
              "      <th>movie</th>\n",
              "      <th>what</th>\n",
              "      <th>this</th>\n",
              "      <th>never</th>\n",
              "      <th>ever</th>\n",
              "      <th>a</th>\n",
              "      <th>funny</th>\n",
              "      <th>i</th>\n",
              "      <th>soooo</th>\n",
              "      <th>best</th>\n",
              "      <th>is</th>\n",
              "    </tr>\n",
              "  </thead>\n",
              "  <tbody>\n",
              "    <tr>\n",
              "      <th>0</th>\n",
              "      <td>1.011601</td>\n",
              "      <td>2.397895</td>\n",
              "      <td>1.704748</td>\n",
              "      <td>2.397895</td>\n",
              "      <td>2.397895</td>\n",
              "      <td>2.397895</td>\n",
              "      <td>2.397895</td>\n",
              "      <td>2.397895</td>\n",
              "      <td>2.397895</td>\n",
              "      <td>2.397895</td>\n",
              "      <td>2.397895</td>\n",
              "    </tr>\n",
              "    <tr>\n",
              "      <th>1</th>\n",
              "      <td>1.011601</td>\n",
              "      <td>2.397895</td>\n",
              "      <td>1.704748</td>\n",
              "      <td>2.397895</td>\n",
              "      <td>2.397895</td>\n",
              "      <td>2.397895</td>\n",
              "      <td>2.397895</td>\n",
              "      <td>2.397895</td>\n",
              "      <td>2.397895</td>\n",
              "      <td>2.397895</td>\n",
              "      <td>2.397895</td>\n",
              "    </tr>\n",
              "    <tr>\n",
              "      <th>2</th>\n",
              "      <td>1.011601</td>\n",
              "      <td>2.397895</td>\n",
              "      <td>1.704748</td>\n",
              "      <td>2.397895</td>\n",
              "      <td>2.397895</td>\n",
              "      <td>2.397895</td>\n",
              "      <td>2.397895</td>\n",
              "      <td>2.397895</td>\n",
              "      <td>2.397895</td>\n",
              "      <td>2.397895</td>\n",
              "      <td>2.397895</td>\n",
              "    </tr>\n",
              "  </tbody>\n",
              "</table>\n",
              "</div>"
            ],
            "text/plain": [
              "      movie      what      this  ...     soooo      best        is\n",
              "0  1.011601  2.397895  1.704748  ...  2.397895  2.397895  2.397895\n",
              "1  1.011601  2.397895  1.704748  ...  2.397895  2.397895  2.397895\n",
              "2  1.011601  2.397895  1.704748  ...  2.397895  2.397895  2.397895\n",
              "\n",
              "[3 rows x 11 columns]"
            ]
          },
          "metadata": {},
          "execution_count": 42
        }
      ]
    },
    {
      "cell_type": "code",
      "metadata": {
        "colab": {
          "base_uri": "https://localhost:8080/",
          "height": 142
        },
        "id": "z93MMFj8TNNF",
        "outputId": "b49bf621-267f-40a2-e066-37355ea362c9"
      },
      "source": [
        "tf * idf"
      ],
      "execution_count": 43,
      "outputs": [
        {
          "output_type": "execute_result",
          "data": {
            "text/html": [
              "<div>\n",
              "<style scoped>\n",
              "    .dataframe tbody tr th:only-of-type {\n",
              "        vertical-align: middle;\n",
              "    }\n",
              "\n",
              "    .dataframe tbody tr th {\n",
              "        vertical-align: top;\n",
              "    }\n",
              "\n",
              "    .dataframe thead th {\n",
              "        text-align: right;\n",
              "    }\n",
              "</style>\n",
              "<table border=\"1\" class=\"dataframe\">\n",
              "  <thead>\n",
              "    <tr style=\"text-align: right;\">\n",
              "      <th></th>\n",
              "      <th>movie</th>\n",
              "      <th>what</th>\n",
              "      <th>this</th>\n",
              "      <th>never</th>\n",
              "      <th>ever</th>\n",
              "      <th>a</th>\n",
              "      <th>funny</th>\n",
              "      <th>i</th>\n",
              "      <th>soooo</th>\n",
              "      <th>best</th>\n",
              "      <th>is</th>\n",
              "    </tr>\n",
              "  </thead>\n",
              "  <tbody>\n",
              "    <tr>\n",
              "      <th>0</th>\n",
              "      <td>0.20232</td>\n",
              "      <td>0.000000</td>\n",
              "      <td>0.34095</td>\n",
              "      <td>0.000000</td>\n",
              "      <td>0.000000</td>\n",
              "      <td>0.000000</td>\n",
              "      <td>0.479579</td>\n",
              "      <td>0.000000</td>\n",
              "      <td>0.479579</td>\n",
              "      <td>0.000000</td>\n",
              "      <td>0.479579</td>\n",
              "    </tr>\n",
              "    <tr>\n",
              "      <th>1</th>\n",
              "      <td>0.20232</td>\n",
              "      <td>0.479579</td>\n",
              "      <td>0.00000</td>\n",
              "      <td>0.479579</td>\n",
              "      <td>0.000000</td>\n",
              "      <td>0.479579</td>\n",
              "      <td>0.000000</td>\n",
              "      <td>0.479579</td>\n",
              "      <td>0.000000</td>\n",
              "      <td>0.000000</td>\n",
              "      <td>0.000000</td>\n",
              "    </tr>\n",
              "    <tr>\n",
              "      <th>2</th>\n",
              "      <td>0.40464</td>\n",
              "      <td>0.000000</td>\n",
              "      <td>0.34095</td>\n",
              "      <td>0.000000</td>\n",
              "      <td>0.479579</td>\n",
              "      <td>0.000000</td>\n",
              "      <td>0.000000</td>\n",
              "      <td>0.000000</td>\n",
              "      <td>0.000000</td>\n",
              "      <td>0.479579</td>\n",
              "      <td>0.000000</td>\n",
              "    </tr>\n",
              "  </tbody>\n",
              "</table>\n",
              "</div>"
            ],
            "text/plain": [
              "     movie      what     this     never  ...         i     soooo      best        is\n",
              "0  0.20232  0.000000  0.34095  0.000000  ...  0.000000  0.479579  0.000000  0.479579\n",
              "1  0.20232  0.479579  0.00000  0.479579  ...  0.479579  0.000000  0.000000  0.000000\n",
              "2  0.40464  0.000000  0.34095  0.000000  ...  0.000000  0.000000  0.479579  0.000000\n",
              "\n",
              "[3 rows x 11 columns]"
            ]
          },
          "metadata": {},
          "execution_count": 43
        }
      ]
    },
    {
      "cell_type": "markdown",
      "metadata": {
        "id": "pXjGgJsNTQAa"
      },
      "source": [
        "## Scikit-learn formula"
      ]
    },
    {
      "cell_type": "code",
      "metadata": {
        "colab": {
          "base_uri": "https://localhost:8080/"
        },
        "id": "TsSy6y4FTN6l",
        "outputId": "ddf27507-6a3e-4063-97bc-43512183d0dc"
      },
      "source": [
        "tf_2 = unigram.copy()\n",
        "idf_2 = unigram.copy()\n",
        "\n",
        "for t in idf.columns:\n",
        "    idf_2[t][:] = np.log((1 + len(idf_2.columns)) / (1 + idf[t].sum())) + 1"
      ],
      "execution_count": 44,
      "outputs": [
        {
          "output_type": "stream",
          "name": "stderr",
          "text": [
            "/usr/local/lib/python3.7/dist-packages/ipykernel_launcher.py:5: SettingWithCopyWarning: \n",
            "A value is trying to be set on a copy of a slice from a DataFrame\n",
            "\n",
            "See the caveats in the documentation: https://pandas.pydata.org/pandas-docs/stable/user_guide/indexing.html#returning-a-view-versus-a-copy\n",
            "  \"\"\"\n"
          ]
        }
      ]
    },
    {
      "cell_type": "code",
      "metadata": {
        "colab": {
          "base_uri": "https://localhost:8080/",
          "height": 142
        },
        "id": "D7ai6dymTotA",
        "outputId": "7a9e1be3-2190-4b62-aefb-f584bd2c8670"
      },
      "source": [
        "tf_2 * idf_2"
      ],
      "execution_count": 45,
      "outputs": [
        {
          "output_type": "execute_result",
          "data": {
            "text/html": [
              "<div>\n",
              "<style scoped>\n",
              "    .dataframe tbody tr th:only-of-type {\n",
              "        vertical-align: middle;\n",
              "    }\n",
              "\n",
              "    .dataframe tbody tr th {\n",
              "        vertical-align: top;\n",
              "    }\n",
              "\n",
              "    .dataframe thead th {\n",
              "        text-align: right;\n",
              "    }\n",
              "</style>\n",
              "<table border=\"1\" class=\"dataframe\">\n",
              "  <thead>\n",
              "    <tr style=\"text-align: right;\">\n",
              "      <th></th>\n",
              "      <th>movie</th>\n",
              "      <th>what</th>\n",
              "      <th>this</th>\n",
              "      <th>never</th>\n",
              "      <th>ever</th>\n",
              "      <th>a</th>\n",
              "      <th>funny</th>\n",
              "      <th>i</th>\n",
              "      <th>soooo</th>\n",
              "      <th>best</th>\n",
              "      <th>is</th>\n",
              "    </tr>\n",
              "  </thead>\n",
              "  <tbody>\n",
              "    <tr>\n",
              "      <th>0</th>\n",
              "      <td>2.089949</td>\n",
              "      <td>0.000000</td>\n",
              "      <td>1.674285</td>\n",
              "      <td>0.000000</td>\n",
              "      <td>0.000000</td>\n",
              "      <td>0.000000</td>\n",
              "      <td>1.381543</td>\n",
              "      <td>0.000000</td>\n",
              "      <td>1.381543</td>\n",
              "      <td>0.000000</td>\n",
              "      <td>1.381543</td>\n",
              "    </tr>\n",
              "    <tr>\n",
              "      <th>1</th>\n",
              "      <td>2.089949</td>\n",
              "      <td>1.381543</td>\n",
              "      <td>0.000000</td>\n",
              "      <td>1.381543</td>\n",
              "      <td>0.000000</td>\n",
              "      <td>1.381543</td>\n",
              "      <td>0.000000</td>\n",
              "      <td>1.381543</td>\n",
              "      <td>0.000000</td>\n",
              "      <td>0.000000</td>\n",
              "      <td>0.000000</td>\n",
              "    </tr>\n",
              "    <tr>\n",
              "      <th>2</th>\n",
              "      <td>4.179898</td>\n",
              "      <td>0.000000</td>\n",
              "      <td>1.674285</td>\n",
              "      <td>0.000000</td>\n",
              "      <td>1.381543</td>\n",
              "      <td>0.000000</td>\n",
              "      <td>0.000000</td>\n",
              "      <td>0.000000</td>\n",
              "      <td>0.000000</td>\n",
              "      <td>1.381543</td>\n",
              "      <td>0.000000</td>\n",
              "    </tr>\n",
              "  </tbody>\n",
              "</table>\n",
              "</div>"
            ],
            "text/plain": [
              "      movie      what      this  ...     soooo      best        is\n",
              "0  2.089949  0.000000  1.674285  ...  1.381543  0.000000  1.381543\n",
              "1  2.089949  1.381543  0.000000  ...  0.000000  0.000000  0.000000\n",
              "2  4.179898  0.000000  1.674285  ...  0.000000  1.381543  0.000000\n",
              "\n",
              "[3 rows x 11 columns]"
            ]
          },
          "metadata": {},
          "execution_count": 45
        }
      ]
    },
    {
      "cell_type": "markdown",
      "metadata": {
        "id": "ItzeJkqKWqId"
      },
      "source": [
        "# [Problem 5] Corpus pretreatment"
      ]
    },
    {
      "cell_type": "code",
      "metadata": {
        "colab": {
          "base_uri": "https://localhost:8080/"
        },
        "id": "VJt__5erTrPY",
        "outputId": "90f3373d-74cd-4600-e72a-ae490f0e6753"
      },
      "source": [
        "!pip install gensim"
      ],
      "execution_count": 46,
      "outputs": [
        {
          "output_type": "stream",
          "name": "stdout",
          "text": [
            "Requirement already satisfied: gensim in /usr/local/lib/python3.7/dist-packages (3.6.0)\n",
            "Requirement already satisfied: six>=1.5.0 in /usr/local/lib/python3.7/dist-packages (from gensim) (1.15.0)\n",
            "Requirement already satisfied: smart-open>=1.2.1 in /usr/local/lib/python3.7/dist-packages (from gensim) (5.2.1)\n",
            "Requirement already satisfied: numpy>=1.11.3 in /usr/local/lib/python3.7/dist-packages (from gensim) (1.19.5)\n",
            "Requirement already satisfied: scipy>=0.18.1 in /usr/local/lib/python3.7/dist-packages (from gensim) (1.4.1)\n"
          ]
        }
      ]
    },
    {
      "cell_type": "code",
      "metadata": {
        "id": "TFwrQw16adig"
      },
      "source": [
        "X_train, y_train = train_review.data, train_review.target\n",
        "X_test, y_test = test_review.data, test_review.target"
      ],
      "execution_count": 95,
      "outputs": []
    },
    {
      "cell_type": "code",
      "metadata": {
        "id": "G5Ljz8CSYjA0"
      },
      "source": [
        "import re\n",
        "\n",
        "def preprocess(row):\n",
        "    after_preprocessing1 = re.sub(r'https?://[\\w/:%#\\$&\\?\\(\\)~\\.=\\+\\-…]+', '', row) \n",
        "    after_preprocessing2 = re.sub(r'<[^>]+>', ' ', after_preprocessing1)\n",
        "    after_preprocessing3 = re.sub(r'[^0-9a-zA-Z ]', '', after_preprocessing2)\n",
        "    after_preprocessing = after_preprocessing3.lower()\n",
        "    return after_preprocessing\n",
        "\n",
        "X_train = [preprocess(x).split() for x in X_train]\n",
        "X_test = [preprocess(x).split() for x in X_test]"
      ],
      "execution_count": 96,
      "outputs": []
    },
    {
      "cell_type": "code",
      "metadata": {
        "colab": {
          "base_uri": "https://localhost:8080/"
        },
        "id": "nfJqpIA-bco5",
        "outputId": "10716b72-19f5-43a1-ad8e-57389d8c2b5d"
      },
      "source": [
        "from gensim.models import Word2Vec\n",
        "\n",
        "model = Word2Vec(min_count=1, size=10)\n",
        "model.build_vocab(X_train)\n",
        "\n",
        "model.train(X_train, total_examples=model.corpus_count, epochs=model.epochs)"
      ],
      "execution_count": 98,
      "outputs": [
        {
          "output_type": "execute_result",
          "data": {
            "text/plain": [
              "(21879328, 28814035)"
            ]
          },
          "metadata": {},
          "execution_count": 98
        }
      ]
    }
  ]
}