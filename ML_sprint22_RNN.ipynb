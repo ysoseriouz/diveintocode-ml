{
  "nbformat": 4,
  "nbformat_minor": 0,
  "metadata": {
    "colab": {
      "name": "ML_sprint22_RNN.ipynb",
      "provenance": [],
      "authorship_tag": "ABX9TyOpy0hSLx2PeWGIupMry/qq",
      "include_colab_link": true
    },
    "kernelspec": {
      "name": "python3",
      "display_name": "Python 3"
    },
    "language_info": {
      "name": "python"
    }
  },
  "cells": [
    {
      "cell_type": "markdown",
      "metadata": {
        "id": "view-in-github",
        "colab_type": "text"
      },
      "source": [
        "<a href=\"https://colab.research.google.com/github/thanhnguyen2612/diveintocode-ml/blob/master/ML_sprint22_RNN.ipynb\" target=\"_parent\"><img src=\"https://colab.research.google.com/assets/colab-badge.svg\" alt=\"Open In Colab\"/></a>"
      ]
    },
    {
      "cell_type": "markdown",
      "source": [
        "# Recurrent Neural Network"
      ],
      "metadata": {
        "id": "gELvVw39MiRd"
      }
    },
    {
      "cell_type": "code",
      "source": [
        "import numpy as np\n",
        "import pandas as pd\n",
        "import matplotlib.pyplot as plt\n",
        "\n",
        "%matplotlib inline"
      ],
      "metadata": {
        "id": "N5jXM5HtF8KK"
      },
      "execution_count": 29,
      "outputs": []
    },
    {
      "cell_type": "markdown",
      "source": [
        "# [Problem 1] Forward propagation implementation of SimpleRNN"
      ],
      "metadata": {
        "id": "Qy4PV9KpNZma"
      }
    },
    {
      "cell_type": "code",
      "source": [
        "# Simple Recurrent layer\n",
        "class SimpleRNN:\n",
        "    def __init__(self, batch_size, n_sequences, n_features,\n",
        "                 n_nodes, initializer, activation):\n",
        "        self.batch_size = batch_size\n",
        "        self.n_sequences = n_sequences\n",
        "        self.n_features = n_features\n",
        "        self.n_nodes = n_nodes\n",
        "        self.initializer = initializer\n",
        "        self.activation = activation\n",
        "        self.__init_weights()\n",
        "    \n",
        "    def __init_weights(self):\n",
        "        self.W_x = self.initializer.W_x(self.n_features, self.n_nodes)\n",
        "        self.W_h = self.initializer.W_h(self.n_nodes, self.n_nodes)\n",
        "    \n",
        "    def forward(self, X):\n",
        "        h = np.zeros((self.batch_size, self.n_nodes))\n",
        "        b = np.ones((self.n_nodes,))\n",
        "        for i in range(self.n_sequences):\n",
        "            h = self.activation.forward(X[:, i, :] @ self.W_x + h @ self.W_h + b)\n",
        "        return h\n",
        "    \n",
        "    def backward(self, d):\n",
        "        pass"
      ],
      "metadata": {
        "id": "g3T-ku3hXGr7"
      },
      "execution_count": 30,
      "outputs": []
    },
    {
      "cell_type": "markdown",
      "source": [
        "# [Problem 2] Experiment of forward propagation with small sequence"
      ],
      "metadata": {
        "id": "0gvjCLYr3ZeH"
      }
    },
    {
      "cell_type": "code",
      "source": [
        "x = np.array([[[1, 2], [3, 4]]]) / 100\n",
        "w_x = np.array([[1, 3, 5, 7], [3, 5, 7, 8]]) / 100\n",
        "w_h = np.array([[1, 3, 5, 7], [2, 4, 6, 8], [3, 5, 7, 8], [4, 6, 8, 10]]) / 100\n",
        "batch_size = x.shape[0]\n",
        "n_sequences = x.shape[1]\n",
        "n_features = x.shape[2]\n",
        "n_nodes = w_x.shape[1]\n",
        "h = np.zeros((batch_size, n_nodes))\n",
        "b = np.array([1, 1, 1, 1])"
      ],
      "metadata": {
        "id": "7I2ZnCauF7Jm"
      },
      "execution_count": 31,
      "outputs": []
    },
    {
      "cell_type": "code",
      "source": [
        "class DefaultInitializer:\n",
        "    def W_x(self, *args):\n",
        "        return w_x\n",
        "    \n",
        "    def W_h(self, *args):\n",
        "        return w_h\n",
        "    \n",
        "    def B(self, )\n",
        "\n",
        "class Tanh:\n",
        "    def __init__(self):\n",
        "        self.name = \"tanh\"\n",
        "    def forward(self, X):\n",
        "        return np.tanh(X)\n",
        "    def backward(self, X):\n",
        "        return 1 - self.forward(X) ** 2\n",
        "\n",
        "rnn = SimpleRNN(batch_size=batch_size, n_sequences=n_sequences, n_features=n_features,\n",
        "                n_nodes=n_nodes, initializer=DefaultInitializer(), activation=Tanh())"
      ],
      "metadata": {
        "id": "2Ssllwt-IwjA"
      },
      "execution_count": 34,
      "outputs": []
    },
    {
      "cell_type": "code",
      "source": [
        "rnn.forward(x)"
      ],
      "metadata": {
        "colab": {
          "base_uri": "https://localhost:8080/"
        },
        "id": "K-Zo7iIWJqNW",
        "outputId": "f55aae21-57d7-49f7-b601-01b5cc4be265"
      },
      "execution_count": 35,
      "outputs": [
        {
          "output_type": "execute_result",
          "data": {
            "text/plain": [
              "array([[0.79235792, 0.81445291, 0.83441399, 0.85019348]])"
            ]
          },
          "metadata": {},
          "execution_count": 35
        }
      ]
    },
    {
      "cell_type": "markdown",
      "source": [
        "# [Problem 3] (Advance assignment) Implementation of backpropagation"
      ],
      "metadata": {
        "id": "I8Nl1AdSKi_N"
      }
    },
    {
      "cell_type": "code",
      "source": [
        "# Other necessary functions\n",
        "class SimpleInitializer:\n",
        "    def __init__(self, sigma):\n",
        "        self.sigma = sigma\n",
        "    \n",
        "    def W(self, *args):\n",
        "        W = self.sigma * np.random.randn(*args)\n",
        "        return W\n",
        "    \n",
        "    def B(self, *args):\n",
        "        B = self.sigma * np.random.randn(1, *args)\n",
        "        return B\n",
        "\n",
        "class Tanh:\n",
        "    def forward(self, A):\n",
        "        self.A = A\n",
        "        return np.tanh(self.A)\n",
        "    def backward(self, dZ):\n",
        "        dA = dZ * (1 - np.tanh(self.A)**2)\n",
        "        return dA"
      ],
      "metadata": {
        "id": "OAAydJ34KinG"
      },
      "execution_count": 41,
      "outputs": []
    },
    {
      "cell_type": "code",
      "execution_count": 46,
      "metadata": {
        "id": "3kfQRhtXK-dG"
      },
      "outputs": [],
      "source": [
        "class ScratchSimpleRNNClassifier:\n",
        "    def __init__(self, batch_size, n_sequences, n_features,\n",
        "                 n_nodes, initializer, activator):\n",
        "        self.batch_size = batch_size\n",
        "        self.n_sequences = n_sequences\n",
        "        self.n_features = n_features\n",
        "        self.n_nodes = n_nodes\n",
        "        self.initializer = initializer\n",
        "        self.activator = activator\n",
        "        self.h_hist = []\n",
        "        self.__init_weights()\n",
        "    \n",
        "    def __init_weights(self):\n",
        "        self.W_x = self.initializer.W(self.n_features, self.n_nodes)\n",
        "        self.W_h = self.initializer.W(self.n_nodes, self.n_nodes)\n",
        "        self.B = self.initializer.B(self.n_nodes)\n",
        "    \n",
        "    def forward(self, X):\n",
        "        self.X = X.copy()\n",
        "        h = np.zeros((self.batch_size, self.n_nodes))\n",
        "        for i in range(self.n_sequences):\n",
        "            h = self.activator.forward(self.X[:, i, :] @ self.W_x + h @ self.W_h + self.B)\n",
        "            self.h_hist.append(h)\n",
        "        return h\n",
        "    \n",
        "    def backward(self, dH):\n",
        "        dA = self.activator.backward(dH)\n",
        "        for i in range(self.n_features)[::-1]:\n",
        "            self.dB += np.sum(dA, axis=0)\n",
        "            self.dW_x += self.X[:, i, :].T @ dA\n",
        "            self.dW_h += h_hist[i].T @ dA\n",
        "        \n",
        "        dX = dA @ self.W_X\n",
        "        dH = dA @ self.W_h\n",
        "        return dX, dH"
      ]
    },
    {
      "cell_type": "code",
      "source": [
        "rnn = ScratchSimpleRNNClassifier(batch_size=batch_size, n_sequences=n_sequences, n_features=n_features,\n",
        "                                 n_nodes=n_nodes, initializer=SimpleInitializer(0.01), activator=Tanh())\n",
        "\n",
        "rnn.forward(x)"
      ],
      "metadata": {
        "colab": {
          "base_uri": "https://localhost:8080/"
        },
        "id": "p_Do1nU7Jv84",
        "outputId": "88948154-e8fe-45da-b6d5-62c49adab607"
      },
      "execution_count": 54,
      "outputs": [
        {
          "output_type": "execute_result",
          "data": {
            "text/plain": [
              "array([[ 0.00452989, -0.00212587, -0.00248087, -0.01694569]])"
            ]
          },
          "metadata": {},
          "execution_count": 54
        }
      ]
    },
    {
      "cell_type": "code",
      "source": [
        "# Test default\n",
        "\n",
        "rnn.W_x = np.array([[1, 3, 5, 7], [3, 5, 7, 8]]) / 100\n",
        "rnn.W_h = np.array([[1, 3, 5, 7], [2, 4, 6, 8], [3, 5, 7, 8], [4, 6, 8, 10]]) / 100\n",
        "rnn.B = np.array([1, 1, 1, 1])\n",
        "rnn.forward(x)"
      ],
      "metadata": {
        "colab": {
          "base_uri": "https://localhost:8080/"
        },
        "id": "6GDdzXGRQEwQ",
        "outputId": "e22109dc-aaf7-4789-b78c-585bb04d7a95"
      },
      "execution_count": 55,
      "outputs": [
        {
          "output_type": "execute_result",
          "data": {
            "text/plain": [
              "array([[0.79235792, 0.81445291, 0.83441399, 0.85019348]])"
            ]
          },
          "metadata": {},
          "execution_count": 55
        }
      ]
    }
  ]
}