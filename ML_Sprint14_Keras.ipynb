{
  "nbformat": 4,
  "nbformat_minor": 0,
  "metadata": {
    "colab": {
      "name": "ML_Sprint14_Keras.ipynb",
      "provenance": [],
      "collapsed_sections": [],
      "toc_visible": true,
      "authorship_tag": "ABX9TyPMmR+giAor6nJhBhmdF/OS",
      "include_colab_link": true
    },
    "kernelspec": {
      "name": "python3",
      "display_name": "Python 3"
    },
    "language_info": {
      "name": "python"
    }
  },
  "cells": [
    {
      "cell_type": "markdown",
      "metadata": {
        "id": "view-in-github",
        "colab_type": "text"
      },
      "source": [
        "<a href=\"https://colab.research.google.com/github/thanhnguyen2612/diveintocode-ml/blob/master/ML_Sprint14_Keras.ipynb\" target=\"_parent\"><img src=\"https://colab.research.google.com/assets/colab-badge.svg\" alt=\"Open In Colab\"/></a>"
      ]
    },
    {
      "cell_type": "markdown",
      "metadata": {
        "id": "wRLolDLjZJ2v"
      },
      "source": [
        "# Keras"
      ]
    },
    {
      "cell_type": "markdown",
      "metadata": {
        "id": "OfNDzuds6FGM"
      },
      "source": [
        "## [Problem 1] Sharing and executing the official tutorial model (Sentiment Analysis)"
      ]
    },
    {
      "cell_type": "code",
      "metadata": {
        "id": "zm6PSTwUZGhp"
      },
      "source": [
        "import tensorflow as tf\n",
        "import pandas as pd\n",
        "import numpy as np\n",
        "import matplotlib.pyplot as plt\n",
        "import os\n",
        "import re\n",
        "import shutil\n",
        "import string\n",
        "\n",
        "from tensorflow.keras import layers\n",
        "from tensorflow.keras import losses\n",
        "from tensorflow.keras import preprocessing\n",
        "from tensorflow.keras.layers.experimental.preprocessing import TextVectorization"
      ],
      "execution_count": 2,
      "outputs": []
    },
    {
      "cell_type": "markdown",
      "metadata": {
        "id": "bH4rxwRuh5eD"
      },
      "source": [
        "### Prepare data"
      ]
    },
    {
      "cell_type": "code",
      "metadata": {
        "colab": {
          "base_uri": "https://localhost:8080/"
        },
        "id": "cMr99mVecDz5",
        "outputId": "a58609a7-a541-4881-95b5-65f0b6aef604"
      },
      "source": [
        "url = \"https://ai.stanford.edu/~amaas/data/sentiment/aclImdb_v1.tar.gz\"\n",
        "\n",
        "dataset = tf.keras.utils.get_file(\"aclImdb_v1\", url, untar=True, cache_dir='.', cache_subdir='')\n",
        "dataset_dir = os.path.join(os.path.dirname(dataset), 'aclImdb')"
      ],
      "execution_count": 3,
      "outputs": [
        {
          "output_type": "stream",
          "name": "stdout",
          "text": [
            "Downloading data from https://ai.stanford.edu/~amaas/data/sentiment/aclImdb_v1.tar.gz\n",
            "84131840/84125825 [==============================] - 3s 0us/step\n",
            "84140032/84125825 [==============================] - 3s 0us/step\n"
          ]
        }
      ]
    },
    {
      "cell_type": "code",
      "metadata": {
        "colab": {
          "base_uri": "https://localhost:8080/"
        },
        "id": "jzeEz-TagXX0",
        "outputId": "fa9d0bcd-b5bf-4bf5-c274-8bc491ff9a3d"
      },
      "source": [
        "os.listdir(dataset_dir)"
      ],
      "execution_count": 4,
      "outputs": [
        {
          "output_type": "execute_result",
          "data": {
            "text/plain": [
              "['README', 'train', 'imdbEr.txt', 'test', 'imdb.vocab']"
            ]
          },
          "metadata": {},
          "execution_count": 4
        }
      ]
    },
    {
      "cell_type": "code",
      "metadata": {
        "colab": {
          "base_uri": "https://localhost:8080/"
        },
        "id": "rE3InG1Tgfd8",
        "outputId": "40635d99-8530-41f9-c73d-6c9d69ce5a12"
      },
      "source": [
        "train_dir = os.path.join(dataset_dir, \"train\")\n",
        "os.listdir(train_dir)"
      ],
      "execution_count": 5,
      "outputs": [
        {
          "output_type": "execute_result",
          "data": {
            "text/plain": [
              "['labeledBow.feat',\n",
              " 'neg',\n",
              " 'urls_pos.txt',\n",
              " 'pos',\n",
              " 'urls_unsup.txt',\n",
              " 'unsupBow.feat',\n",
              " 'unsup',\n",
              " 'urls_neg.txt']"
            ]
          },
          "metadata": {},
          "execution_count": 5
        }
      ]
    },
    {
      "cell_type": "code",
      "metadata": {
        "colab": {
          "base_uri": "https://localhost:8080/"
        },
        "id": "mx2on0CCgp2e",
        "outputId": "ea369f79-93cd-4821-ecec-433a5606653b"
      },
      "source": [
        "sample_file = os.path.join(train_dir, \"pos/1181_9.txt\")\n",
        "with open(sample_file) as f:\n",
        "    print(f.read())"
      ],
      "execution_count": 6,
      "outputs": [
        {
          "output_type": "stream",
          "name": "stdout",
          "text": [
            "Rachel Griffiths writes and directs this award winning short film. A heartwarming story about coping with grief and cherishing the memory of those we've loved and lost. Although, only 15 minutes long, Griffiths manages to capture so much emotion and truth onto film in the short space of time. Bud Tingwell gives a touching performance as Will, a widower struggling to cope with his wife's death. Will is confronted by the harsh reality of loneliness and helplessness as he proceeds to take care of Ruth's pet cow, Tulip. The film displays the grief and responsibility one feels for those they have loved and lost. Good cinematography, great direction, and superbly acted. It will bring tears to all those who have lost a loved one, and survived.\n"
          ]
        }
      ]
    },
    {
      "cell_type": "code",
      "metadata": {
        "id": "lCcov1bwhIa6"
      },
      "source": [
        "remove_dir = os.path.join(train_dir, \"unsup\")\n",
        "shutil.rmtree(remove_dir)"
      ],
      "execution_count": 7,
      "outputs": []
    },
    {
      "cell_type": "code",
      "metadata": {
        "colab": {
          "base_uri": "https://localhost:8080/"
        },
        "id": "n4M0y-7kiM7M",
        "outputId": "eec46b56-e8de-4da5-ac8d-c291ad93fa4e"
      },
      "source": [
        "batch_size = 42\n",
        "seed = 42\n",
        "\n",
        "raw_train_ds = tf.keras.preprocessing.text_dataset_from_directory(\n",
        "    \"aclImdb/train\",\n",
        "    batch_size=batch_size,\n",
        "    validation_split=0.2,\n",
        "    subset=\"training\",\n",
        "    seed=seed\n",
        ")"
      ],
      "execution_count": 8,
      "outputs": [
        {
          "output_type": "stream",
          "name": "stdout",
          "text": [
            "Found 25000 files belonging to 2 classes.\n",
            "Using 20000 files for training.\n"
          ]
        }
      ]
    },
    {
      "cell_type": "code",
      "metadata": {
        "colab": {
          "base_uri": "https://localhost:8080/"
        },
        "id": "P-OqENuZinI0",
        "outputId": "84e3aec5-7d54-4a1d-bc12-14ebb06761ef"
      },
      "source": [
        "for text_batch, label_batch in raw_train_ds.take(1):\n",
        "    for i in range(3):\n",
        "        print(\"Review\", text_batch.numpy()[i])\n",
        "        print(\"Label\", label_batch.numpy()[i])"
      ],
      "execution_count": 9,
      "outputs": [
        {
          "output_type": "stream",
          "name": "stdout",
          "text": [
            "Review b\"Rob Estes, Josie Bisset and a crap load of kids that look nothing like either of them.<br /><br />Basically, Rob and Josie have a shotgun wedding on a drunken night during a Vegas vacation. They each come home to find that their respective children already know of the nuptials due to tabloid-like not-so-fodder. They, Rob and Josie, move both of them and their eight kids into one or the other's house.<br /><br />Rob builds furniture, I think, which is close enough to Frank Lambert's (Patrick Duffy) construction job on the much similar Step by Step to warrant eternal mockage.<br /><br />Josie is some sort of cookie-making queen, though it doesn't look like she makes any of the cookies. Not close enough to Carol Foster's (Suzanne Somers)hairdressing job to warrant likeness mockage, but hilariously preposterous enough to warrant atrocity mockage.<br /><br />Unlike Step by Step, they were a couple before the vacation and actually knew one another's last names, or so one assumes if their serious enough about a relationship to take a trip together.<br /><br />Anyhow, there are eight kids; Moira, Sandy, Jeff, Lily, Daisy, Nathan, Andrew L. and Andrew B. I, personally, think they should've just called the younger Andrew 'Andy'.<br /><br />There's a lot of product placement, particularly for Soup at Hand (Which is disgusting) and Listerine Pocket Packs. There are also some stupid, senseless moments. It's also not a great film to promote happy families.<br /><br />But, hey! Rob Estes! This concludes my review of 'Step By Step... on some really bad drugs.' Watch it for Rob Estes and his pretty!eyes. There are some great pretty!eyes shots.\"\n",
            "Label 1\n",
            "Review b\"I was really looking forward to seeing this film, but after watching it I was really disappointed. The best bit was when Stephen King was in it. Rober John Berk cannot act to save his life and neither can any of the others. A few of the performances even made me laugh out loud! The film was was not as I imagined it, after reading the book which was awesome, I imagined it darker and a lot scarier. If i was Stephen, I would be really mad!<br /><br />I don't know why they changed the ending, I thought the ending of the book was very good. If you just found out the pie killed your daughter, you wouldn't feed it to anyone else would you?!<br /><br />Book was so much better!\"\n",
            "Label 0\n",
            "Review b'What a lovely heart warming television movie. The story tells of a little five year old girl who has lost her daddy and finds it impossible to cope. Her mother is also very distressed ..only a miracle can alleviate their unhappiness.Which all viewers hope will materialise. Samantha Mathis is brilliant as the little girl\\'s mum ,as she was as the nanny in\" Jack and Sarah\",worth watching if you like both Samantha Mathis and happy; year tear jerking movies! Ellen Burstyn is, as, always a delightful grandmother in this tender and magnificently acted movie. Jodelle Ferland (the little five year old) is charming and a most convincing young actress. The film is based on a true story which makes it so touching.\"Mermaid\" is a tribute to the milk of human kindness which is clearly illustrated and clearly is still all around us in this difficult world we live in. \"Mermaid\" gives us all hope ,by realising that there a lot of lovely people in the world with lot\\'s of love to give. James Robson Glasgow Scotland U.K.'\n",
            "Label 1\n"
          ]
        }
      ]
    },
    {
      "cell_type": "code",
      "metadata": {
        "colab": {
          "base_uri": "https://localhost:8080/"
        },
        "id": "jaSsseYui7K9",
        "outputId": "0db52d51-9774-447a-9586-83480a684093"
      },
      "source": [
        "print(\"Lael 0 corresponds to \", raw_train_ds.class_names[0])\n",
        "print(\"Lael 1 corresponds to \", raw_train_ds.class_names[1])"
      ],
      "execution_count": 10,
      "outputs": [
        {
          "output_type": "stream",
          "name": "stdout",
          "text": [
            "Lael 0 corresponds to  neg\n",
            "Lael 1 corresponds to  pos\n"
          ]
        }
      ]
    },
    {
      "cell_type": "code",
      "metadata": {
        "colab": {
          "base_uri": "https://localhost:8080/"
        },
        "id": "G-N40t1QnF8o",
        "outputId": "aae5dcab-91bf-4c6e-88ca-51f286d0c176"
      },
      "source": [
        "raw_val_ds = tf.keras.preprocessing.text_dataset_from_directory(\n",
        "    \"aclImdb/train\",\n",
        "    batch_size=batch_size,\n",
        "    validation_split=0.2,\n",
        "    subset=\"validation\",\n",
        "    seed=seed\n",
        ")"
      ],
      "execution_count": 11,
      "outputs": [
        {
          "output_type": "stream",
          "name": "stdout",
          "text": [
            "Found 25000 files belonging to 2 classes.\n",
            "Using 5000 files for validation.\n"
          ]
        }
      ]
    },
    {
      "cell_type": "code",
      "metadata": {
        "colab": {
          "base_uri": "https://localhost:8080/"
        },
        "id": "45oVs_mQneJy",
        "outputId": "d3eec95b-0f60-4709-dd86-f6f1e9299d2d"
      },
      "source": [
        "raw_test_ds = tf.keras.preprocessing.text_dataset_from_directory(\n",
        "    \"aclImdb/test\",\n",
        "    batch_size=batch_size\n",
        ")"
      ],
      "execution_count": 12,
      "outputs": [
        {
          "output_type": "stream",
          "name": "stdout",
          "text": [
            "Found 25000 files belonging to 2 classes.\n"
          ]
        }
      ]
    },
    {
      "cell_type": "code",
      "metadata": {
        "id": "6tlCj0Uyn9-t"
      },
      "source": [
        "def custom_standardization(input_data):\n",
        "    lowercase = tf.strings.lower(input_data)\n",
        "    stripped_html = tf.strings.regex_replace(lowercase, '<br />', ' ')\n",
        "    return tf.strings.regex_replace(stripped_html, '[%s]' % re.escape(string.punctuation), '')"
      ],
      "execution_count": 13,
      "outputs": []
    },
    {
      "cell_type": "code",
      "metadata": {
        "id": "02iYGYhgozQF"
      },
      "source": [
        "max_features = 10000\n",
        "sequence_length = 250\n",
        "\n",
        "vectorize_layer = TextVectorization(\n",
        "    standardize=custom_standardization,\n",
        "    max_tokens=max_features,\n",
        "    output_mode='int',\n",
        "    output_sequence_length=sequence_length\n",
        ")\n",
        "\n",
        "# Make a text-only dataset (without labels), then call adapt\n",
        "train_text = raw_train_ds.map(lambda x, y: x)\n",
        "vectorize_layer.adapt(train_text)"
      ],
      "execution_count": 14,
      "outputs": []
    },
    {
      "cell_type": "code",
      "metadata": {
        "colab": {
          "base_uri": "https://localhost:8080/"
        },
        "id": "guCk4Bh3t_iM",
        "outputId": "33b36eaf-955e-4bd8-ab76-2f66f53a48b5"
      },
      "source": [
        "def vectorize_text(text, label):\n",
        "    text = tf.expand_dims(text, -1)\n",
        "    return vectorize_layer(text), label\n",
        "\n",
        "# Retrieve a batch (of 32 reviews and labels) from the dataset\n",
        "text_batch, label_batch = next(iter(raw_train_ds))\n",
        "first_review, first_label = text_batch[0], label_batch[0]\n",
        "print(\"Review\", first_review)\n",
        "print(\"Label\", first_label)\n",
        "print(\"Vectorized review\", vectorize_text(first_review, first_label))"
      ],
      "execution_count": 15,
      "outputs": [
        {
          "output_type": "stream",
          "name": "stdout",
          "text": [
            "Review tf.Tensor(b\"Live Feed is set in some unnamed Chinese/Japanese Asian district somewhere as five American friends, Sarah (Ashley Schappert), Emily (Taayla Markell), Linda (Caroline Chojnacki), Mike (Lee Tichon) & Darren (Rob Scattergood) are enjoying a night on the town & taking in the sights. After a scuffle in a bar with a Japanese Triad boss (Stephen Chang) they decide to check out a porno theatre, as you would. Inside they are separated & quickly find out that the place belongs to the Triad boss who uses it to torture & kill people for reasons which aren't made clear. Can local boy Miles (Kevan Ohtsji) save them?<br /><br />This Canadian production was co-written, produced & directed by Ryan Nicholson who also gets a prosthetic effects designer credit as well, one has to say that Live Feed is another pretty poor low budget shot on a camcorder type horror film that seems to exist only to cash in on the notoriety & success of Hostel (2005) & the mini craze for 'torture porn' as it's become known. According the IMDb's 'Trivia' section for Live Feed writer & director Nicholson wrote it after hearing about certain activities taking place in live sex theatres, for my money I reckon he wrote it after watching Hostel! The script is pretty poor, there is no basic reason given as to why this porno theatre has a big fat ugly freak dressed in bondage gear lurking around torturing & killing people, none. Was it for the Triads? Was it for his pleasure? Was it to make snuff films to sell? Some sort of explanation would have been nice. Also why did he turn on the Triad boss at the end? If your looking for a film with a coherent story then forget about Live Feed. It seemed to me to be some sort of uneasy misjudged mix of sex, S&M, horror, torture, gore & action films which doesn't come off. I mean just setting a horror film in a porn theatre isn't automatically going to make your film any good, there still needs to be a decent script & story, right? The character's were fairly poor clich\\xc3\\xa9s & some of their actions & motivations were more than a little bit questionable. It moves along at a reasonable pace, it's fairly sleazy mixing gore, sex & nudity but it does look cheap which lessens the effect.<br /><br />Director Nicholson doesn't do anything special here, the editing is choppy & annoying, he seems to think lighting almost every scene with neon lights is a good idea & the film has a cheap look about it. Available in both 'R' & 'Unrated' versions I saw the shorter cut 'R' version which really isn't that gory but I am prepared to give the benefit of the doubt to the 'Unrated' version & say that it might be much, much gorier but I can't say for sure. There's a fair amount of nudity too if that's your thing. I wouldn't say there's much of an atmosphere or many scares here because there isn't & aren't respectively although it does have a sleazy tone in general which is something it has going for it I suppose.<br /><br />Technically Live Feed isn't terribly impressive, the blood looks a little too watery for my liking & entire scenes bathed in annoying neon lights sometimes makes it hard to tell whats happening, it to often looks like it was shot on a hand-held camcorder & the choppy editing at least on the 'R' rated version is at times an annoying mess. Shot on location in an actual porn theatre somewhere in Vancouver in Canada. The acting is poor, sometimes I couldn't tell if the actresses in this were supposed to be crying or laughing...<br /><br />Live Feed is not a film I would recommend anyone to rush out & buy or rent, I didn't think much of it with it's very weak predictable storyline lacking exposition & which goes nowhere, poor acting & less than impressive gore (at least in the 'R' rated cut anyway). Watch either Hostel films again or instead as they are superior.\", shape=(), dtype=string)\n",
            "Label tf.Tensor(0, shape=(), dtype=int32)\n",
            "Vectorized review (<tf.Tensor: shape=(1, 250), dtype=int64, numpy=\n",
            "array([[ 419, 4429,    7,  286,    8,   46, 9200,    1, 2204, 7543, 1116,\n",
            "          14,  713,  312,  335, 2697, 4907,    1, 3676,    1,    1, 4418,\n",
            "        9144,    1, 1971,  818,    1, 4739, 1983,    1,   23, 2876,    4,\n",
            "         313,   20,    2,  509,  667,    8,    2, 7173,  101,    4,    1,\n",
            "           8,    4, 1483,   16,    4,  864,    1, 1327, 1631,    1,   34,\n",
            "        1170,    6,  793,   44,    4, 4412, 1705,   14,   22,   59,  965,\n",
            "          34,   23, 6926,  906,  163,   44,   12,    2,  265, 3135,    6,\n",
            "           2,    1, 1327,   36, 1058,    9,    6, 1674,  512,   79,   15,\n",
            "         966,   60,  691,   90,  809,   68,  690,  436, 2059,    1,    1,\n",
            "         586,   93,   11, 2371,  359,   13, 8919, 1118,  523,   32, 2390,\n",
            "        4539,   36,   77,  201,    4,    1,  300, 5280, 1080,   14,   73,\n",
            "          28,   43,    6,  131,   12,  419, 4429,    7,  154,  179,  342,\n",
            "         481,  416,  315,   20,    4, 5549,  595,  191,   19,   12,  180,\n",
            "           6, 1790,   61,    6, 2349,    8,   20,    2,    1,  981,    5,\n",
            "        7518, 3474,    2, 4199,    1,   15, 1674, 1590,   14,   29,  394,\n",
            "         630, 1668,    2, 9539, 5638, 2571,   15,  419, 4429,  787,  172,\n",
            "        4539, 1077,    9,  101, 2125,   42,  780, 5226,  667,  265,    8,\n",
            "         419,  388, 7448,   15,   54,  279,   10,    1,   27, 1077,    9,\n",
            "         101,  146, 7518,    2,  224,    7,  179,  342,   47,    7,   57,\n",
            "        1076,  273,  340,   14,    6,  133,   11, 4412, 1705,   43,    4,\n",
            "         199, 1861, 1519, 4249, 2037,    8, 5551, 5678, 7080,  183,    1,\n",
            "         846,   79,  577,   13,    9,   15,    2,    1,   13,    9,   15,\n",
            "          24, 1673,   13,    9,    6,   96, 6586,   94]])>, <tf.Tensor: shape=(), dtype=int32, numpy=0>)\n"
          ]
        }
      ]
    },
    {
      "cell_type": "code",
      "metadata": {
        "colab": {
          "base_uri": "https://localhost:8080/"
        },
        "id": "WP-qYtZ8uE6b",
        "outputId": "6274c429-3d2b-47aa-e7b0-80e7fa07bd90"
      },
      "source": [
        "print(\"1287 ---> \", vectorize_layer.get_vocabulary()[1287])\n",
        "print(\"313 ---> \", vectorize_layer.get_vocabulary()[313])\n",
        "print(f\"Vocabulary size: {len(vectorize_layer.get_vocabulary())}\")"
      ],
      "execution_count": 16,
      "outputs": [
        {
          "output_type": "stream",
          "name": "stdout",
          "text": [
            "1287 --->  silent\n",
            "313 --->  night\n",
            "Vocabulary size: 10000\n"
          ]
        }
      ]
    },
    {
      "cell_type": "code",
      "metadata": {
        "id": "dyXBQLpoxwmZ"
      },
      "source": [
        "train_ds = raw_train_ds.map(vectorize_text)\n",
        "val_ds = raw_val_ds.map(vectorize_text)\n",
        "test_ds = raw_test_ds.map(vectorize_text)"
      ],
      "execution_count": 17,
      "outputs": []
    },
    {
      "cell_type": "markdown",
      "metadata": {
        "id": "eqPX0t_myI07"
      },
      "source": [
        "### Configure the dataset for performance"
      ]
    },
    {
      "cell_type": "code",
      "metadata": {
        "id": "jZ_KW1b0yIXr"
      },
      "source": [
        "AUTOTUNE = tf.data.AUTOTUNE\n",
        "\n",
        "train_ds = train_ds.cache().prefetch(buffer_size=AUTOTUNE)\n",
        "val_ds = val_ds.cache().prefetch(buffer_size=AUTOTUNE)\n",
        "test_ds = test_ds.cache().prefetch(buffer_size=AUTOTUNE)"
      ],
      "execution_count": 18,
      "outputs": []
    },
    {
      "cell_type": "markdown",
      "metadata": {
        "id": "-bnXFPUWyrWa"
      },
      "source": [
        "### Create the model"
      ]
    },
    {
      "cell_type": "code",
      "metadata": {
        "colab": {
          "base_uri": "https://localhost:8080/"
        },
        "id": "O2STY9eoyqw3",
        "outputId": "fa6301c2-13f0-4fc4-ce8a-b924e66d3cc1"
      },
      "source": [
        "embedding_dims = 16\n",
        "\n",
        "model = tf.keras.Sequential([\n",
        "    layers.Embedding(max_features + 1, embedding_dims),\n",
        "    layers.Dropout(0.2),\n",
        "    layers.GlobalAveragePooling1D(),\n",
        "    layers.Dropout(0.2),\n",
        "    layers.Dense(1)\n",
        "])\n",
        "\n",
        "model.compile(loss=losses.BinaryCrossentropy(from_logits=True),\n",
        "              optimizer='adam',\n",
        "              metrics=tf.metrics.BinaryAccuracy(threshold=0.0))\n",
        "\n",
        "model.summary()"
      ],
      "execution_count": 19,
      "outputs": [
        {
          "output_type": "stream",
          "name": "stdout",
          "text": [
            "Model: \"sequential\"\n",
            "_________________________________________________________________\n",
            "Layer (type)                 Output Shape              Param #   \n",
            "=================================================================\n",
            "embedding (Embedding)        (None, None, 16)          160016    \n",
            "_________________________________________________________________\n",
            "dropout (Dropout)            (None, None, 16)          0         \n",
            "_________________________________________________________________\n",
            "global_average_pooling1d (Gl (None, 16)                0         \n",
            "_________________________________________________________________\n",
            "dropout_1 (Dropout)          (None, 16)                0         \n",
            "_________________________________________________________________\n",
            "dense (Dense)                (None, 1)                 17        \n",
            "=================================================================\n",
            "Total params: 160,033\n",
            "Trainable params: 160,033\n",
            "Non-trainable params: 0\n",
            "_________________________________________________________________\n"
          ]
        }
      ]
    },
    {
      "cell_type": "markdown",
      "metadata": {
        "id": "2k8YVkHLUO-E"
      },
      "source": [
        "### Train the model"
      ]
    },
    {
      "cell_type": "code",
      "metadata": {
        "colab": {
          "base_uri": "https://localhost:8080/"
        },
        "id": "0aPV0VmRzcgp",
        "outputId": "dbd33fd5-b2a6-4f9d-a648-44780e8531f3"
      },
      "source": [
        "history = model.fit(train_ds, validation_data=val_ds, epochs=10)"
      ],
      "execution_count": 20,
      "outputs": [
        {
          "output_type": "stream",
          "name": "stdout",
          "text": [
            "Epoch 1/10\n",
            "477/477 [==============================] - 11s 21ms/step - loss: 0.6732 - binary_accuracy: 0.6877 - val_loss: 0.6383 - val_binary_accuracy: 0.7652\n",
            "Epoch 2/10\n",
            "477/477 [==============================] - 3s 7ms/step - loss: 0.5830 - binary_accuracy: 0.7872 - val_loss: 0.5380 - val_binary_accuracy: 0.8110\n",
            "Epoch 3/10\n",
            "477/477 [==============================] - 3s 6ms/step - loss: 0.4863 - binary_accuracy: 0.8290 - val_loss: 0.4589 - val_binary_accuracy: 0.8348\n",
            "Epoch 4/10\n",
            "477/477 [==============================] - 3s 7ms/step - loss: 0.4169 - binary_accuracy: 0.8554 - val_loss: 0.4056 - val_binary_accuracy: 0.8540\n",
            "Epoch 5/10\n",
            "477/477 [==============================] - 3s 7ms/step - loss: 0.3681 - binary_accuracy: 0.8689 - val_loss: 0.3707 - val_binary_accuracy: 0.8634\n",
            "Epoch 6/10\n",
            "477/477 [==============================] - 3s 7ms/step - loss: 0.3344 - binary_accuracy: 0.8794 - val_loss: 0.3470 - val_binary_accuracy: 0.8674\n",
            "Epoch 7/10\n",
            "477/477 [==============================] - 3s 7ms/step - loss: 0.3079 - binary_accuracy: 0.8877 - val_loss: 0.3300 - val_binary_accuracy: 0.8706\n",
            "Epoch 8/10\n",
            "477/477 [==============================] - 3s 7ms/step - loss: 0.2870 - binary_accuracy: 0.8975 - val_loss: 0.3175 - val_binary_accuracy: 0.8740\n",
            "Epoch 9/10\n",
            "477/477 [==============================] - 3s 7ms/step - loss: 0.2695 - binary_accuracy: 0.9007 - val_loss: 0.3081 - val_binary_accuracy: 0.8760\n",
            "Epoch 10/10\n",
            "477/477 [==============================] - 3s 7ms/step - loss: 0.2551 - binary_accuracy: 0.9071 - val_loss: 0.3010 - val_binary_accuracy: 0.8764\n"
          ]
        }
      ]
    },
    {
      "cell_type": "markdown",
      "metadata": {
        "id": "rn5AiV-yURFr"
      },
      "source": [
        "### Evaluate the model"
      ]
    },
    {
      "cell_type": "code",
      "metadata": {
        "colab": {
          "base_uri": "https://localhost:8080/"
        },
        "id": "ijaN_FebT-pB",
        "outputId": "b112f3b7-1933-476a-eb2c-996aea0ef28f"
      },
      "source": [
        "loss, accuracy = model.evaluate(test_ds)\n",
        "\n",
        "print(\"Loss: \", loss)\n",
        "print(\"Accuracy: \", accuracy)"
      ],
      "execution_count": 21,
      "outputs": [
        {
          "output_type": "stream",
          "name": "stdout",
          "text": [
            "596/596 [==============================] - 8s 12ms/step - loss: 0.3186 - binary_accuracy: 0.8706\n",
            "Loss:  0.3186224102973938\n",
            "Accuracy:  0.870639979839325\n"
          ]
        }
      ]
    },
    {
      "cell_type": "markdown",
      "metadata": {
        "id": "8kmwoEncUgXk"
      },
      "source": [
        "### Create a plot of accuracy and loss over time"
      ]
    },
    {
      "cell_type": "code",
      "metadata": {
        "colab": {
          "base_uri": "https://localhost:8080/"
        },
        "id": "z2KZrNXcUdEz",
        "outputId": "4954cdc2-64a6-4036-c9c8-5a36861816d7"
      },
      "source": [
        "history_dict = history.history\n",
        "history_dict.keys()"
      ],
      "execution_count": 22,
      "outputs": [
        {
          "output_type": "execute_result",
          "data": {
            "text/plain": [
              "dict_keys(['loss', 'binary_accuracy', 'val_loss', 'val_binary_accuracy'])"
            ]
          },
          "metadata": {},
          "execution_count": 22
        }
      ]
    },
    {
      "cell_type": "code",
      "metadata": {
        "colab": {
          "base_uri": "https://localhost:8080/",
          "height": 295
        },
        "id": "H8WSeKkpUj1q",
        "outputId": "dc4b1f09-800a-4e5f-ecfc-048130c1cb2f"
      },
      "source": [
        "acc = history_dict[\"binary_accuracy\"]\n",
        "val_acc = history_dict[\"val_binary_accuracy\"]\n",
        "loss = history_dict[\"loss\"]\n",
        "val_loss = history_dict[\"val_loss\"]\n",
        "\n",
        "epochs = range(1, len(acc) + 1)\n",
        "plt.plot(epochs, loss, 'bo', label='Training loss')\n",
        "plt.plot(epochs, val_loss, 'b', label='Validation loss')\n",
        "plt.title('Training and validation loss')\n",
        "plt.xlabel('Epochs')\n",
        "plt.ylabel('Loss')\n",
        "plt.legend()\n",
        "plt.show()"
      ],
      "execution_count": 23,
      "outputs": [
        {
          "output_type": "display_data",
          "data": {
            "image/png": "[encoded data removed]",
            "text/plain": [
              "<Figure size 432x288 with 1 Axes>"
            ]
          },
          "metadata": {
            "needs_background": "light"
          }
        }
      ]
    },
    {
      "cell_type": "code",
      "metadata": {
        "colab": {
          "base_uri": "https://localhost:8080/",
          "height": 295
        },
        "id": "P70XbWZ7Vnd2",
        "outputId": "270635b0-420b-4c8d-d473-781fa34ec5f3"
      },
      "source": [
        "plt.plot(epochs, acc, 'bo', label='Training acc')\n",
        "plt.plot(epochs, val_acc, 'b', label='Validation acc')\n",
        "plt.title('Training and validation accuracy')\n",
        "plt.xlabel('Epochs')\n",
        "plt.ylabel('Accuracy')\n",
        "plt.legend()\n",
        "plt.show()"
      ],
      "execution_count": 24,
      "outputs": [
        {
          "output_type": "display_data",
          "data": {
            "image/png": "[encoded data removed]",
            "text/plain": [
              "<Figure size 432x288 with 1 Axes>"
            ]
          },
          "metadata": {
            "needs_background": "light"
          }
        }
      ]
    },
    {
      "cell_type": "markdown",
      "metadata": {
        "id": "Kaeb_rxiXFJY"
      },
      "source": [
        "### Inference on new data (combine Vectorization Layer to Model for later exporting)"
      ]
    },
    {
      "cell_type": "code",
      "metadata": {
        "colab": {
          "base_uri": "https://localhost:8080/"
        },
        "id": "-lFji5E6V4vg",
        "outputId": "7e739e10-2eea-4a12-d587-96c85c8b795a"
      },
      "source": [
        "export_model = tf.keras.Sequential([\n",
        "    vectorize_layer,\n",
        "    model,\n",
        "    layers.Activation('sigmoid')\n",
        "])\n",
        "\n",
        "export_model.compile(\n",
        "    loss=losses.BinaryCrossentropy(from_logits=False),\n",
        "    optimizer='adam',\n",
        "    metrics=['accuracy']\n",
        ")\n",
        "\n",
        "loss, accuracy = export_model.evaluate(raw_test_ds)\n",
        "print(accuracy)"
      ],
      "execution_count": 25,
      "outputs": [
        {
          "output_type": "stream",
          "name": "stdout",
          "text": [
            "596/596 [==============================] - 8s 13ms/step - loss: 0.3186 - accuracy: 0.8706\n",
            "0.870639979839325\n"
          ]
        }
      ]
    },
    {
      "cell_type": "code",
      "metadata": {
        "colab": {
          "base_uri": "https://localhost:8080/"
        },
        "id": "SXARq3Y7XAyo",
        "outputId": "99c732c8-2326-4b66-cabe-52696b1eb504"
      },
      "source": [
        "examples = [\n",
        "    \"The movies was great!\",\n",
        "    \"The movies was okay.\",\n",
        "    \"The movies was terrible...\",\n",
        "]\n",
        "\n",
        "export_model.predict(examples)"
      ],
      "execution_count": 26,
      "outputs": [
        {
          "output_type": "execute_result",
          "data": {
            "text/plain": [
              "array([[0.6226305 ],\n",
              "       [0.46881565],\n",
              "       [0.392487  ]], dtype=float32)"
            ]
          },
          "metadata": {},
          "execution_count": 26
        }
      ]
    },
    {
      "cell_type": "markdown",
      "metadata": {
        "id": "Wj3jPKidX7Cv"
      },
      "source": [
        "## [Problem 2] (Advance assignment) Execute various methods"
      ]
    },
    {
      "cell_type": "markdown",
      "metadata": {
        "id": "ad2C_jyD0Wkh"
      },
      "source": [
        "## [Problem 3] Learning Iris (binary classification) with Keras"
      ]
    },
    {
      "cell_type": "code",
      "metadata": {
        "colab": {
          "base_uri": "https://localhost:8080/",
          "height": 205
        },
        "id": "1Cs_Z7XYXS0-",
        "outputId": "1c12d8ac-f873-4d26-d91c-017f9ab119d8"
      },
      "source": [
        "df = pd.read_csv('Iris.csv')\n",
        "data = df[df['Species'].isin(['Iris-versicolor', 'Iris-virginica'])]\n",
        "data.head()"
      ],
      "execution_count": 27,
      "outputs": [
        {
          "output_type": "execute_result",
          "data": {
            "text/html": [
              "<div>\n",
              "<style scoped>\n",
              "    .dataframe tbody tr th:only-of-type {\n",
              "        vertical-align: middle;\n",
              "    }\n",
              "\n",
              "    .dataframe tbody tr th {\n",
              "        vertical-align: top;\n",
              "    }\n",
              "\n",
              "    .dataframe thead th {\n",
              "        text-align: right;\n",
              "    }\n",
              "</style>\n",
              "<table border=\"1\" class=\"dataframe\">\n",
              "  <thead>\n",
              "    <tr style=\"text-align: right;\">\n",
              "      <th></th>\n",
              "      <th>Id</th>\n",
              "      <th>SepalLengthCm</th>\n",
              "      <th>SepalWidthCm</th>\n",
              "      <th>PetalLengthCm</th>\n",
              "      <th>PetalWidthCm</th>\n",
              "      <th>Species</th>\n",
              "    </tr>\n",
              "  </thead>\n",
              "  <tbody>\n",
              "    <tr>\n",
              "      <th>50</th>\n",
              "      <td>51</td>\n",
              "      <td>7.0</td>\n",
              "      <td>3.2</td>\n",
              "      <td>4.7</td>\n",
              "      <td>1.4</td>\n",
              "      <td>Iris-versicolor</td>\n",
              "    </tr>\n",
              "    <tr>\n",
              "      <th>51</th>\n",
              "      <td>52</td>\n",
              "      <td>6.4</td>\n",
              "      <td>3.2</td>\n",
              "      <td>4.5</td>\n",
              "      <td>1.5</td>\n",
              "      <td>Iris-versicolor</td>\n",
              "    </tr>\n",
              "    <tr>\n",
              "      <th>52</th>\n",
              "      <td>53</td>\n",
              "      <td>6.9</td>\n",
              "      <td>3.1</td>\n",
              "      <td>4.9</td>\n",
              "      <td>1.5</td>\n",
              "      <td>Iris-versicolor</td>\n",
              "    </tr>\n",
              "    <tr>\n",
              "      <th>53</th>\n",
              "      <td>54</td>\n",
              "      <td>5.5</td>\n",
              "      <td>2.3</td>\n",
              "      <td>4.0</td>\n",
              "      <td>1.3</td>\n",
              "      <td>Iris-versicolor</td>\n",
              "    </tr>\n",
              "    <tr>\n",
              "      <th>54</th>\n",
              "      <td>55</td>\n",
              "      <td>6.5</td>\n",
              "      <td>2.8</td>\n",
              "      <td>4.6</td>\n",
              "      <td>1.5</td>\n",
              "      <td>Iris-versicolor</td>\n",
              "    </tr>\n",
              "  </tbody>\n",
              "</table>\n",
              "</div>"
            ],
            "text/plain": [
              "    Id  SepalLengthCm  ...  PetalWidthCm          Species\n",
              "50  51            7.0  ...           1.4  Iris-versicolor\n",
              "51  52            6.4  ...           1.5  Iris-versicolor\n",
              "52  53            6.9  ...           1.5  Iris-versicolor\n",
              "53  54            5.5  ...           1.3  Iris-versicolor\n",
              "54  55            6.5  ...           1.5  Iris-versicolor\n",
              "\n",
              "[5 rows x 6 columns]"
            ]
          },
          "metadata": {},
          "execution_count": 27
        }
      ]
    },
    {
      "cell_type": "code",
      "metadata": {
        "colab": {
          "base_uri": "https://localhost:8080/"
        },
        "id": "Nn7y3GpQ0Xbk",
        "outputId": "3e97c78b-ae72-454f-e4fb-83f0ae143671"
      },
      "source": [
        "X = data.loc[:, ['SepalLengthCm', 'SepalWidthCm', 'PetalLengthCm', 'PetalWidthCm']]\n",
        "y = data['Species']\n",
        "y = np.where(y == 'Iris-versicolor', 0, 1)\n",
        "X = np.array(X)\n",
        "y = np.array(y)\n",
        "y = y.astype(np.int32)[:, np.newaxis]\n",
        "print(X.shape, y.shape)"
      ],
      "execution_count": 28,
      "outputs": [
        {
          "output_type": "stream",
          "name": "stdout",
          "text": [
            "(100, 4) (100, 1)\n"
          ]
        }
      ]
    },
    {
      "cell_type": "code",
      "metadata": {
        "colab": {
          "base_uri": "https://localhost:8080/"
        },
        "id": "iL7JuWaq2b90",
        "outputId": "3265f515-6f71-4e5f-e354-bea9f54eac93"
      },
      "source": [
        "from sklearn.model_selection import train_test_split\n",
        "\n",
        "X_train, X_test, y_train, y_test = train_test_split(X, y, test_size=0.2, random_state=0)\n",
        "\n",
        "X_train.shape, X_test.shape, y_train.shape, y_test.shape"
      ],
      "execution_count": 29,
      "outputs": [
        {
          "output_type": "execute_result",
          "data": {
            "text/plain": [
              "((80, 4), (20, 4), (80, 1), (20, 1))"
            ]
          },
          "metadata": {},
          "execution_count": 29
        }
      ]
    },
    {
      "cell_type": "code",
      "metadata": {
        "id": "sVT0NP7q27l6"
      },
      "source": [
        "# Model using Sequential model\n",
        "model = tf.keras.Sequential(name=\"iris_binary_classifier\")\n",
        "model.add(tf.keras.layers.Input(shape=(4,)))\n",
        "model.add(tf.keras.layers.Dense(50, activation=tf.nn.relu))\n",
        "model.add(tf.keras.layers.Dense(100, activation='relu'))\n",
        "model.add(tf.keras.layers.Dense(1, activation='sigmoid'))\n",
        "\n",
        "model.compile(loss='binary_crossentropy',\n",
        "              optimizer='adam',\n",
        "              metrics=['binary_crossentropy', 'accuracy'])"
      ],
      "execution_count": 30,
      "outputs": []
    },
    {
      "cell_type": "code",
      "metadata": {
        "colab": {
          "base_uri": "https://localhost:8080/"
        },
        "id": "8VbkJ_cq5OBE",
        "outputId": "dd54f6d4-f8a3-4041-8a69-f21156d8b0bb"
      },
      "source": [
        "history = model.fit(X_train, y_train,\n",
        "                    batch_size=10,\n",
        "                    epochs=10,\n",
        "                    validation_split=0.2,\n",
        "                    verbose=2)"
      ],
      "execution_count": 31,
      "outputs": [
        {
          "output_type": "stream",
          "name": "stdout",
          "text": [
            "Epoch 1/10\n",
            "7/7 - 1s - loss: 0.7142 - binary_crossentropy: 0.7142 - accuracy: 0.4844 - val_loss: 0.6758 - val_binary_crossentropy: 0.6758 - val_accuracy: 0.5625\n",
            "Epoch 2/10\n",
            "7/7 - 0s - loss: 0.7244 - binary_crossentropy: 0.7244 - accuracy: 0.4844 - val_loss: 0.6569 - val_binary_crossentropy: 0.6569 - val_accuracy: 0.5625\n",
            "Epoch 3/10\n",
            "7/7 - 0s - loss: 0.6527 - binary_crossentropy: 0.6527 - accuracy: 0.6562 - val_loss: 0.7254 - val_binary_crossentropy: 0.7254 - val_accuracy: 0.4375\n",
            "Epoch 4/10\n",
            "7/7 - 0s - loss: 0.6885 - binary_crossentropy: 0.6885 - accuracy: 0.5156 - val_loss: 0.6652 - val_binary_crossentropy: 0.6652 - val_accuracy: 0.6250\n",
            "Epoch 5/10\n",
            "7/7 - 0s - loss: 0.6487 - binary_crossentropy: 0.6487 - accuracy: 0.6250 - val_loss: 0.6182 - val_binary_crossentropy: 0.6182 - val_accuracy: 0.5625\n",
            "Epoch 6/10\n",
            "7/7 - 0s - loss: 0.6260 - binary_crossentropy: 0.6260 - accuracy: 0.5000 - val_loss: 0.6127 - val_binary_crossentropy: 0.6127 - val_accuracy: 1.0000\n",
            "Epoch 7/10\n",
            "7/7 - 0s - loss: 0.6131 - binary_crossentropy: 0.6131 - accuracy: 0.7656 - val_loss: 0.6334 - val_binary_crossentropy: 0.6334 - val_accuracy: 0.6250\n",
            "Epoch 8/10\n",
            "7/7 - 0s - loss: 0.5960 - binary_crossentropy: 0.5960 - accuracy: 0.7812 - val_loss: 0.5844 - val_binary_crossentropy: 0.5844 - val_accuracy: 1.0000\n",
            "Epoch 9/10\n",
            "7/7 - 0s - loss: 0.5784 - binary_crossentropy: 0.5784 - accuracy: 0.7969 - val_loss: 0.5598 - val_binary_crossentropy: 0.5598 - val_accuracy: 0.9375\n",
            "Epoch 10/10\n",
            "7/7 - 0s - loss: 0.5596 - binary_crossentropy: 0.5596 - accuracy: 0.8750 - val_loss: 0.5652 - val_binary_crossentropy: 0.5652 - val_accuracy: 0.8750\n"
          ]
        }
      ]
    },
    {
      "cell_type": "code",
      "metadata": {
        "id": "UONAYuqf6Obg"
      },
      "source": [
        "def visualize(history_dict, metric='loss'):\n",
        "    train = history_dict[metric]\n",
        "    val = history_dict[f\"val_{metric}\"]\n",
        "    epochs = range(1, len(train) + 1)\n",
        "\n",
        "    plt.plot(epochs, train, 'bo', label='Training')\n",
        "    plt.plot(epochs, val, 'b', label='Validation')\n",
        "    plt.title(f\"Training and validation {metric}\")\n",
        "    plt.xlabel('Epochs')\n",
        "    plt.ylabel('Loss')\n",
        "    plt.legend()\n",
        "    plt.show()"
      ],
      "execution_count": 32,
      "outputs": []
    },
    {
      "cell_type": "code",
      "metadata": {
        "colab": {
          "base_uri": "https://localhost:8080/"
        },
        "id": "df6EfUIe84VN",
        "outputId": "66be2871-412d-4fb7-a9a0-1b9889f56425"
      },
      "source": [
        "history_dict = history.history\n",
        "history_dict.keys()"
      ],
      "execution_count": 33,
      "outputs": [
        {
          "output_type": "execute_result",
          "data": {
            "text/plain": [
              "dict_keys(['loss', 'binary_crossentropy', 'accuracy', 'val_loss', 'val_binary_crossentropy', 'val_accuracy'])"
            ]
          },
          "metadata": {},
          "execution_count": 33
        }
      ]
    },
    {
      "cell_type": "code",
      "metadata": {
        "colab": {
          "base_uri": "https://localhost:8080/",
          "height": 573
        },
        "id": "VBAkvZXg745O",
        "outputId": "f06d68e1-4953-4501-fa48-33d66898af88"
      },
      "source": [
        "visualize(history_dict, metric='loss')\n",
        "visualize(history_dict, metric='accuracy')"
      ],
      "execution_count": 34,
      "outputs": [
        {
          "output_type": "display_data",
          "data": {
            "image/png": "[encoded data removed]",
            "text/plain": [
              "<Figure size 432x288 with 1 Axes>"
            ]
          },
          "metadata": {
            "needs_background": "light"
          }
        },
        {
          "output_type": "display_data",
          "data": {
            "image/png": "[encoded data removed]",
            "text/plain": [
              "<Figure size 432x288 with 1 Axes>"
            ]
          },
          "metadata": {
            "needs_background": "light"
          }
        }
      ]
    },
    {
      "cell_type": "code",
      "metadata": {
        "colab": {
          "base_uri": "https://localhost:8080/"
        },
        "id": "zXT8Wzw89fK5",
        "outputId": "a7b61673-c3e4-42bc-c39a-2b06c526b617"
      },
      "source": [
        "test_loss, test_metric_loss, test_acc = model.evaluate(X_test, y_test, verbose=2)\n",
        "print(f\"Test loss {test_loss:.4f} - Test acc: {test_acc:.4f}\")"
      ],
      "execution_count": 35,
      "outputs": [
        {
          "output_type": "stream",
          "name": "stdout",
          "text": [
            "1/1 - 0s - loss: 0.5607 - binary_crossentropy: 0.5607 - accuracy: 0.9000\n",
            "Test loss 0.5607 - Test acc: 0.9000\n"
          ]
        }
      ]
    },
    {
      "cell_type": "markdown",
      "metadata": {
        "id": "MQGPO8hC9EI-"
      },
      "source": [
        "## [Problem 4] Learn Iris (multi-level classification) with Keras"
      ]
    },
    {
      "cell_type": "code",
      "metadata": {
        "colab": {
          "base_uri": "https://localhost:8080/"
        },
        "id": "3UYu7nuM8pu8",
        "outputId": "3c5ed74b-2e49-4788-8465-13d0aebc3d33"
      },
      "source": [
        "from sklearn.preprocessing import OneHotEncoder\n",
        "\n",
        "X, y = df.loc[:, ['SepalLengthCm', 'SepalWidthCm', 'PetalLengthCm', 'PetalWidthCm']], df['Species']\n",
        "X = np.array(X)\n",
        "y = np.array(y).reshape(-1, 1)\n",
        "y = OneHotEncoder(sparse=False).fit_transform(y)\n",
        "\n",
        "X.shape, y.shape"
      ],
      "execution_count": 36,
      "outputs": [
        {
          "output_type": "execute_result",
          "data": {
            "text/plain": [
              "((150, 4), (150, 3))"
            ]
          },
          "metadata": {},
          "execution_count": 36
        }
      ]
    },
    {
      "cell_type": "code",
      "metadata": {
        "colab": {
          "base_uri": "https://localhost:8080/"
        },
        "id": "SCBd0VlE9Sw5",
        "outputId": "ff33eb54-5457-40c2-e9bc-457d53acd542"
      },
      "source": [
        "X_train, X_test, y_train, y_test = train_test_split(X, y, test_size=0.2, random_state=0)\n",
        "\n",
        "X_train.shape, X_test.shape, y_train.shape, y_test.shape"
      ],
      "execution_count": 37,
      "outputs": [
        {
          "output_type": "execute_result",
          "data": {
            "text/plain": [
              "((120, 4), (30, 4), (120, 3), (30, 3))"
            ]
          },
          "metadata": {},
          "execution_count": 37
        }
      ]
    },
    {
      "cell_type": "code",
      "metadata": {
        "colab": {
          "base_uri": "https://localhost:8080/"
        },
        "id": "kMnfejEZ98iP",
        "outputId": "7f51a80b-cb0c-4a60-88ff-fbd3041e490a"
      },
      "source": [
        "# Model using Functional API\n",
        "\n",
        "input = tf.keras.layers.Input(shape=(4,))\n",
        "x = tf.keras.layers.Dense(50, activation='relu')(input)\n",
        "x = tf.keras.layers.Dense(100, activation='relu')(x)\n",
        "output = tf.keras.layers.Dense(3, activation='softmax')(x)\n",
        "\n",
        "model = tf.keras.Model(inputs=input, outputs=output)\n",
        "model.summary()"
      ],
      "execution_count": 38,
      "outputs": [
        {
          "output_type": "stream",
          "name": "stdout",
          "text": [
            "Model: \"model\"\n",
            "_________________________________________________________________\n",
            "Layer (type)                 Output Shape              Param #   \n",
            "=================================================================\n",
            "input_2 (InputLayer)         [(None, 4)]               0         \n",
            "_________________________________________________________________\n",
            "dense_4 (Dense)              (None, 50)                250       \n",
            "_________________________________________________________________\n",
            "dense_5 (Dense)              (None, 100)               5100      \n",
            "_________________________________________________________________\n",
            "dense_6 (Dense)              (None, 3)                 303       \n",
            "=================================================================\n",
            "Total params: 5,653\n",
            "Trainable params: 5,653\n",
            "Non-trainable params: 0\n",
            "_________________________________________________________________\n"
          ]
        }
      ]
    },
    {
      "cell_type": "code",
      "metadata": {
        "colab": {
          "base_uri": "https://localhost:8080/"
        },
        "id": "Qo9TKRze_Cwl",
        "outputId": "64fae42b-8329-4817-e07a-91433fe8b50f"
      },
      "source": [
        "model.compile(optimizer='adam',\n",
        "              loss='categorical_crossentropy',\n",
        "              metrics=['accuracy', tf.keras.metrics.AUC()])\n",
        "history = model.fit(X_train, y_train,\n",
        "                    batch_size=10,\n",
        "                    epochs=10,\n",
        "                    validation_split=0.2,\n",
        "                    verbose=2)\n",
        "\n",
        "history_dict = history.history\n",
        "history_dict.keys()"
      ],
      "execution_count": 39,
      "outputs": [
        {
          "output_type": "stream",
          "name": "stdout",
          "text": [
            "Epoch 1/10\n",
            "10/10 - 1s - loss: 0.8988 - accuracy: 0.5417 - auc: 0.7826 - val_loss: 0.9988 - val_accuracy: 0.5417 - val_auc: 0.6662\n",
            "Epoch 2/10\n",
            "10/10 - 0s - loss: 0.7501 - accuracy: 0.7292 - auc: 0.8979 - val_loss: 0.7841 - val_accuracy: 0.5417 - val_auc: 0.8832\n",
            "Epoch 3/10\n",
            "10/10 - 0s - loss: 0.6125 - accuracy: 0.7812 - auc: 0.9650 - val_loss: 0.6941 - val_accuracy: 0.5833 - val_auc: 0.9002\n",
            "Epoch 4/10\n",
            "10/10 - 0s - loss: 0.5190 - accuracy: 0.7396 - auc: 0.9619 - val_loss: 0.6127 - val_accuracy: 0.5833 - val_auc: 0.9036\n",
            "Epoch 5/10\n",
            "10/10 - 0s - loss: 0.4433 - accuracy: 0.8125 - auc: 0.9708 - val_loss: 0.5278 - val_accuracy: 0.8333 - val_auc: 0.9449\n",
            "Epoch 6/10\n",
            "10/10 - 0s - loss: 0.3892 - accuracy: 0.9167 - auc: 0.9871 - val_loss: 0.4491 - val_accuracy: 0.8333 - val_auc: 0.9783\n",
            "Epoch 7/10\n",
            "10/10 - 0s - loss: 0.3550 - accuracy: 0.9271 - auc: 0.9856 - val_loss: 0.4796 - val_accuracy: 0.7500 - val_auc: 0.9340\n",
            "Epoch 8/10\n",
            "10/10 - 0s - loss: 0.3361 - accuracy: 0.9375 - auc: 0.9877 - val_loss: 0.4085 - val_accuracy: 0.8333 - val_auc: 0.9661\n",
            "Epoch 9/10\n",
            "10/10 - 0s - loss: 0.2991 - accuracy: 0.8750 - auc: 0.9844 - val_loss: 0.3830 - val_accuracy: 0.8333 - val_auc: 0.9727\n",
            "Epoch 10/10\n",
            "10/10 - 0s - loss: 0.2821 - accuracy: 0.9688 - auc: 0.9953 - val_loss: 0.3506 - val_accuracy: 0.8333 - val_auc: 0.9783\n"
          ]
        },
        {
          "output_type": "execute_result",
          "data": {
            "text/plain": [
              "dict_keys(['loss', 'accuracy', 'auc', 'val_loss', 'val_accuracy', 'val_auc'])"
            ]
          },
          "metadata": {},
          "execution_count": 39
        }
      ]
    },
    {
      "cell_type": "code",
      "metadata": {
        "colab": {
          "base_uri": "https://localhost:8080/",
          "height": 851
        },
        "id": "RnJoEGFU_oBb",
        "outputId": "36319790-cf0e-4512-953b-34bcf899e3b0"
      },
      "source": [
        "visualize(history_dict, 'loss')\n",
        "visualize(history_dict, 'accuracy')\n",
        "visualize(history_dict, 'auc')"
      ],
      "execution_count": 40,
      "outputs": [
        {
          "output_type": "display_data",
          "data": {
            "image/png": "[encoded data removed]",
            "text/plain": [
              "<Figure size 432x288 with 1 Axes>"
            ]
          },
          "metadata": {
            "needs_background": "light"
          }
        },
        {
          "output_type": "display_data",
          "data": {
            "image/png": "[encoded data removed]",
            "text/plain": [
              "<Figure size 432x288 with 1 Axes>"
            ]
          },
          "metadata": {
            "needs_background": "light"
          }
        },
        {
          "output_type": "display_data",
          "data": {
            "image/png": "[encoded data removed]",
            "text/plain": [
              "<Figure size 432x288 with 1 Axes>"
            ]
          },
          "metadata": {
            "needs_background": "light"
          }
        }
      ]
    },
    {
      "cell_type": "code",
      "metadata": {
        "colab": {
          "base_uri": "https://localhost:8080/"
        },
        "id": "KM-Xxn5o_4Ic",
        "outputId": "d6caea4a-2c71-4742-e192-b9d167cbbe2b"
      },
      "source": [
        "model.evaluate(X_test, y_test, verbose=2)"
      ],
      "execution_count": 41,
      "outputs": [
        {
          "output_type": "stream",
          "name": "stdout",
          "text": [
            "1/1 - 0s - loss: 0.3094 - accuracy: 0.9000 - auc: 0.9881\n"
          ]
        },
        {
          "output_type": "execute_result",
          "data": {
            "text/plain": [
              "[0.30937132239341736, 0.8999999761581421, 0.9880555868148804]"
            ]
          },
          "metadata": {},
          "execution_count": 41
        }
      ]
    },
    {
      "cell_type": "markdown",
      "metadata": {
        "id": "ob4LgXS2Ap5z"
      },
      "source": [
        "## [Problem 5] Learning House Prices with Keras"
      ]
    },
    {
      "cell_type": "code",
      "metadata": {
        "colab": {
          "base_uri": "https://localhost:8080/",
          "height": 255
        },
        "id": "0i-aQsbB_96_",
        "outputId": "d55dc029-2f46-4e8c-ec57-0f96f2815333"
      },
      "source": [
        "df = pd.read_csv('train.csv')\n",
        "df.head()"
      ],
      "execution_count": 42,
      "outputs": [
        {
          "output_type": "execute_result",
          "data": {
            "text/html": [
              "<div>\n",
              "<style scoped>\n",
              "    .dataframe tbody tr th:only-of-type {\n",
              "        vertical-align: middle;\n",
              "    }\n",
              "\n",
              "    .dataframe tbody tr th {\n",
              "        vertical-align: top;\n",
              "    }\n",
              "\n",
              "    .dataframe thead th {\n",
              "        text-align: right;\n",
              "    }\n",
              "</style>\n",
              "<table border=\"1\" class=\"dataframe\">\n",
              "  <thead>\n",
              "    <tr style=\"text-align: right;\">\n",
              "      <th></th>\n",
              "      <th>Id</th>\n",
              "      <th>MSSubClass</th>\n",
              "      <th>MSZoning</th>\n",
              "      <th>LotFrontage</th>\n",
              "      <th>LotArea</th>\n",
              "      <th>Street</th>\n",
              "      <th>Alley</th>\n",
              "      <th>LotShape</th>\n",
              "      <th>LandContour</th>\n",
              "      <th>Utilities</th>\n",
              "      <th>LotConfig</th>\n",
              "      <th>LandSlope</th>\n",
              "      <th>Neighborhood</th>\n",
              "      <th>Condition1</th>\n",
              "      <th>Condition2</th>\n",
              "      <th>BldgType</th>\n",
              "      <th>HouseStyle</th>\n",
              "      <th>OverallQual</th>\n",
              "      <th>OverallCond</th>\n",
              "      <th>YearBuilt</th>\n",
              "      <th>YearRemodAdd</th>\n",
              "      <th>RoofStyle</th>\n",
              "      <th>RoofMatl</th>\n",
              "      <th>Exterior1st</th>\n",
              "      <th>Exterior2nd</th>\n",
              "      <th>MasVnrType</th>\n",
              "      <th>MasVnrArea</th>\n",
              "      <th>ExterQual</th>\n",
              "      <th>ExterCond</th>\n",
              "      <th>Foundation</th>\n",
              "      <th>BsmtQual</th>\n",
              "      <th>BsmtCond</th>\n",
              "      <th>BsmtExposure</th>\n",
              "      <th>BsmtFinType1</th>\n",
              "      <th>BsmtFinSF1</th>\n",
              "      <th>BsmtFinType2</th>\n",
              "      <th>BsmtFinSF2</th>\n",
              "      <th>BsmtUnfSF</th>\n",
              "      <th>TotalBsmtSF</th>\n",
              "      <th>Heating</th>\n",
              "      <th>...</th>\n",
              "      <th>CentralAir</th>\n",
              "      <th>Electrical</th>\n",
              "      <th>1stFlrSF</th>\n",
              "      <th>2ndFlrSF</th>\n",
              "      <th>LowQualFinSF</th>\n",
              "      <th>GrLivArea</th>\n",
              "      <th>BsmtFullBath</th>\n",
              "      <th>BsmtHalfBath</th>\n",
              "      <th>FullBath</th>\n",
              "      <th>HalfBath</th>\n",
              "      <th>BedroomAbvGr</th>\n",
              "      <th>KitchenAbvGr</th>\n",
              "      <th>KitchenQual</th>\n",
              "      <th>TotRmsAbvGrd</th>\n",
              "      <th>Functional</th>\n",
              "      <th>Fireplaces</th>\n",
              "      <th>FireplaceQu</th>\n",
              "      <th>GarageType</th>\n",
              "      <th>GarageYrBlt</th>\n",
              "      <th>GarageFinish</th>\n",
              "      <th>GarageCars</th>\n",
              "      <th>GarageArea</th>\n",
              "      <th>GarageQual</th>\n",
              "      <th>GarageCond</th>\n",
              "      <th>PavedDrive</th>\n",
              "      <th>WoodDeckSF</th>\n",
              "      <th>OpenPorchSF</th>\n",
              "      <th>EnclosedPorch</th>\n",
              "      <th>3SsnPorch</th>\n",
              "      <th>ScreenPorch</th>\n",
              "      <th>PoolArea</th>\n",
              "      <th>PoolQC</th>\n",
              "      <th>Fence</th>\n",
              "      <th>MiscFeature</th>\n",
              "      <th>MiscVal</th>\n",
              "      <th>MoSold</th>\n",
              "      <th>YrSold</th>\n",
              "      <th>SaleType</th>\n",
              "      <th>SaleCondition</th>\n",
              "      <th>SalePrice</th>\n",
              "    </tr>\n",
              "  </thead>\n",
              "  <tbody>\n",
              "    <tr>\n",
              "      <th>0</th>\n",
              "      <td>1</td>\n",
              "      <td>60</td>\n",
              "      <td>RL</td>\n",
              "      <td>65.0</td>\n",
              "      <td>8450</td>\n",
              "      <td>Pave</td>\n",
              "      <td>NaN</td>\n",
              "      <td>Reg</td>\n",
              "      <td>Lvl</td>\n",
              "      <td>AllPub</td>\n",
              "      <td>Inside</td>\n",
              "      <td>Gtl</td>\n",
              "      <td>CollgCr</td>\n",
              "      <td>Norm</td>\n",
              "      <td>Norm</td>\n",
              "      <td>1Fam</td>\n",
              "      <td>2Story</td>\n",
              "      <td>7</td>\n",
              "      <td>5</td>\n",
              "      <td>2003</td>\n",
              "      <td>2003</td>\n",
              "      <td>Gable</td>\n",
              "      <td>CompShg</td>\n",
              "      <td>VinylSd</td>\n",
              "      <td>VinylSd</td>\n",
              "      <td>BrkFace</td>\n",
              "      <td>196.0</td>\n",
              "      <td>Gd</td>\n",
              "      <td>TA</td>\n",
              "      <td>PConc</td>\n",
              "      <td>Gd</td>\n",
              "      <td>TA</td>\n",
              "      <td>No</td>\n",
              "      <td>GLQ</td>\n",
              "      <td>706</td>\n",
              "      <td>Unf</td>\n",
              "      <td>0</td>\n",
              "      <td>150</td>\n",
              "      <td>856</td>\n",
              "      <td>GasA</td>\n",
              "      <td>...</td>\n",
              "      <td>Y</td>\n",
              "      <td>SBrkr</td>\n",
              "      <td>856</td>\n",
              "      <td>854</td>\n",
              "      <td>0</td>\n",
              "      <td>1710</td>\n",
              "      <td>1</td>\n",
              "      <td>0</td>\n",
              "      <td>2</td>\n",
              "      <td>1</td>\n",
              "      <td>3</td>\n",
              "      <td>1</td>\n",
              "      <td>Gd</td>\n",
              "      <td>8</td>\n",
              "      <td>Typ</td>\n",
              "      <td>0</td>\n",
              "      <td>NaN</td>\n",
              "      <td>Attchd</td>\n",
              "      <td>2003.0</td>\n",
              "      <td>RFn</td>\n",
              "      <td>2</td>\n",
              "      <td>548</td>\n",
              "      <td>TA</td>\n",
              "      <td>TA</td>\n",
              "      <td>Y</td>\n",
              "      <td>0</td>\n",
              "      <td>61</td>\n",
              "      <td>0</td>\n",
              "      <td>0</td>\n",
              "      <td>0</td>\n",
              "      <td>0</td>\n",
              "      <td>NaN</td>\n",
              "      <td>NaN</td>\n",
              "      <td>NaN</td>\n",
              "      <td>0</td>\n",
              "      <td>2</td>\n",
              "      <td>2008</td>\n",
              "      <td>WD</td>\n",
              "      <td>Normal</td>\n",
              "      <td>208500</td>\n",
              "    </tr>\n",
              "    <tr>\n",
              "      <th>1</th>\n",
              "      <td>2</td>\n",
              "      <td>20</td>\n",
              "      <td>RL</td>\n",
              "      <td>80.0</td>\n",
              "      <td>9600</td>\n",
              "      <td>Pave</td>\n",
              "      <td>NaN</td>\n",
              "      <td>Reg</td>\n",
              "      <td>Lvl</td>\n",
              "      <td>AllPub</td>\n",
              "      <td>FR2</td>\n",
              "      <td>Gtl</td>\n",
              "      <td>Veenker</td>\n",
              "      <td>Feedr</td>\n",
              "      <td>Norm</td>\n",
              "      <td>1Fam</td>\n",
              "      <td>1Story</td>\n",
              "      <td>6</td>\n",
              "      <td>8</td>\n",
              "      <td>1976</td>\n",
              "      <td>1976</td>\n",
              "      <td>Gable</td>\n",
              "      <td>CompShg</td>\n",
              "      <td>MetalSd</td>\n",
              "      <td>MetalSd</td>\n",
              "      <td>None</td>\n",
              "      <td>0.0</td>\n",
              "      <td>TA</td>\n",
              "      <td>TA</td>\n",
              "      <td>CBlock</td>\n",
              "      <td>Gd</td>\n",
              "      <td>TA</td>\n",
              "      <td>Gd</td>\n",
              "      <td>ALQ</td>\n",
              "      <td>978</td>\n",
              "      <td>Unf</td>\n",
              "      <td>0</td>\n",
              "      <td>284</td>\n",
              "      <td>1262</td>\n",
              "      <td>GasA</td>\n",
              "      <td>...</td>\n",
              "      <td>Y</td>\n",
              "      <td>SBrkr</td>\n",
              "      <td>1262</td>\n",
              "      <td>0</td>\n",
              "      <td>0</td>\n",
              "      <td>1262</td>\n",
              "      <td>0</td>\n",
              "      <td>1</td>\n",
              "      <td>2</td>\n",
              "      <td>0</td>\n",
              "      <td>3</td>\n",
              "      <td>1</td>\n",
              "      <td>TA</td>\n",
              "      <td>6</td>\n",
              "      <td>Typ</td>\n",
              "      <td>1</td>\n",
              "      <td>TA</td>\n",
              "      <td>Attchd</td>\n",
              "      <td>1976.0</td>\n",
              "      <td>RFn</td>\n",
              "      <td>2</td>\n",
              "      <td>460</td>\n",
              "      <td>TA</td>\n",
              "      <td>TA</td>\n",
              "      <td>Y</td>\n",
              "      <td>298</td>\n",
              "      <td>0</td>\n",
              "      <td>0</td>\n",
              "      <td>0</td>\n",
              "      <td>0</td>\n",
              "      <td>0</td>\n",
              "      <td>NaN</td>\n",
              "      <td>NaN</td>\n",
              "      <td>NaN</td>\n",
              "      <td>0</td>\n",
              "      <td>5</td>\n",
              "      <td>2007</td>\n",
              "      <td>WD</td>\n",
              "      <td>Normal</td>\n",
              "      <td>181500</td>\n",
              "    </tr>\n",
              "    <tr>\n",
              "      <th>2</th>\n",
              "      <td>3</td>\n",
              "      <td>60</td>\n",
              "      <td>RL</td>\n",
              "      <td>68.0</td>\n",
              "      <td>11250</td>\n",
              "      <td>Pave</td>\n",
              "      <td>NaN</td>\n",
              "      <td>IR1</td>\n",
              "      <td>Lvl</td>\n",
              "      <td>AllPub</td>\n",
              "      <td>Inside</td>\n",
              "      <td>Gtl</td>\n",
              "      <td>CollgCr</td>\n",
              "      <td>Norm</td>\n",
              "      <td>Norm</td>\n",
              "      <td>1Fam</td>\n",
              "      <td>2Story</td>\n",
              "      <td>7</td>\n",
              "      <td>5</td>\n",
              "      <td>2001</td>\n",
              "      <td>2002</td>\n",
              "      <td>Gable</td>\n",
              "      <td>CompShg</td>\n",
              "      <td>VinylSd</td>\n",
              "      <td>VinylSd</td>\n",
              "      <td>BrkFace</td>\n",
              "      <td>162.0</td>\n",
              "      <td>Gd</td>\n",
              "      <td>TA</td>\n",
              "      <td>PConc</td>\n",
              "      <td>Gd</td>\n",
              "      <td>TA</td>\n",
              "      <td>Mn</td>\n",
              "      <td>GLQ</td>\n",
              "      <td>486</td>\n",
              "      <td>Unf</td>\n",
              "      <td>0</td>\n",
              "      <td>434</td>\n",
              "      <td>920</td>\n",
              "      <td>GasA</td>\n",
              "      <td>...</td>\n",
              "      <td>Y</td>\n",
              "      <td>SBrkr</td>\n",
              "      <td>920</td>\n",
              "      <td>866</td>\n",
              "      <td>0</td>\n",
              "      <td>1786</td>\n",
              "      <td>1</td>\n",
              "      <td>0</td>\n",
              "      <td>2</td>\n",
              "      <td>1</td>\n",
              "      <td>3</td>\n",
              "      <td>1</td>\n",
              "      <td>Gd</td>\n",
              "      <td>6</td>\n",
              "      <td>Typ</td>\n",
              "      <td>1</td>\n",
              "      <td>TA</td>\n",
              "      <td>Attchd</td>\n",
              "      <td>2001.0</td>\n",
              "      <td>RFn</td>\n",
              "      <td>2</td>\n",
              "      <td>608</td>\n",
              "      <td>TA</td>\n",
              "      <td>TA</td>\n",
              "      <td>Y</td>\n",
              "      <td>0</td>\n",
              "      <td>42</td>\n",
              "      <td>0</td>\n",
              "      <td>0</td>\n",
              "      <td>0</td>\n",
              "      <td>0</td>\n",
              "      <td>NaN</td>\n",
              "      <td>NaN</td>\n",
              "      <td>NaN</td>\n",
              "      <td>0</td>\n",
              "      <td>9</td>\n",
              "      <td>2008</td>\n",
              "      <td>WD</td>\n",
              "      <td>Normal</td>\n",
              "      <td>223500</td>\n",
              "    </tr>\n",
              "    <tr>\n",
              "      <th>3</th>\n",
              "      <td>4</td>\n",
              "      <td>70</td>\n",
              "      <td>RL</td>\n",
              "      <td>60.0</td>\n",
              "      <td>9550</td>\n",
              "      <td>Pave</td>\n",
              "      <td>NaN</td>\n",
              "      <td>IR1</td>\n",
              "      <td>Lvl</td>\n",
              "      <td>AllPub</td>\n",
              "      <td>Corner</td>\n",
              "      <td>Gtl</td>\n",
              "      <td>Crawfor</td>\n",
              "      <td>Norm</td>\n",
              "      <td>Norm</td>\n",
              "      <td>1Fam</td>\n",
              "      <td>2Story</td>\n",
              "      <td>7</td>\n",
              "      <td>5</td>\n",
              "      <td>1915</td>\n",
              "      <td>1970</td>\n",
              "      <td>Gable</td>\n",
              "      <td>CompShg</td>\n",
              "      <td>Wd Sdng</td>\n",
              "      <td>Wd Shng</td>\n",
              "      <td>None</td>\n",
              "      <td>0.0</td>\n",
              "      <td>TA</td>\n",
              "      <td>TA</td>\n",
              "      <td>BrkTil</td>\n",
              "      <td>TA</td>\n",
              "      <td>Gd</td>\n",
              "      <td>No</td>\n",
              "      <td>ALQ</td>\n",
              "      <td>216</td>\n",
              "      <td>Unf</td>\n",
              "      <td>0</td>\n",
              "      <td>540</td>\n",
              "      <td>756</td>\n",
              "      <td>GasA</td>\n",
              "      <td>...</td>\n",
              "      <td>Y</td>\n",
              "      <td>SBrkr</td>\n",
              "      <td>961</td>\n",
              "      <td>756</td>\n",
              "      <td>0</td>\n",
              "      <td>1717</td>\n",
              "      <td>1</td>\n",
              "      <td>0</td>\n",
              "      <td>1</td>\n",
              "      <td>0</td>\n",
              "      <td>3</td>\n",
              "      <td>1</td>\n",
              "      <td>Gd</td>\n",
              "      <td>7</td>\n",
              "      <td>Typ</td>\n",
              "      <td>1</td>\n",
              "      <td>Gd</td>\n",
              "      <td>Detchd</td>\n",
              "      <td>1998.0</td>\n",
              "      <td>Unf</td>\n",
              "      <td>3</td>\n",
              "      <td>642</td>\n",
              "      <td>TA</td>\n",
              "      <td>TA</td>\n",
              "      <td>Y</td>\n",
              "      <td>0</td>\n",
              "      <td>35</td>\n",
              "      <td>272</td>\n",
              "      <td>0</td>\n",
              "      <td>0</td>\n",
              "      <td>0</td>\n",
              "      <td>NaN</td>\n",
              "      <td>NaN</td>\n",
              "      <td>NaN</td>\n",
              "      <td>0</td>\n",
              "      <td>2</td>\n",
              "      <td>2006</td>\n",
              "      <td>WD</td>\n",
              "      <td>Abnorml</td>\n",
              "      <td>140000</td>\n",
              "    </tr>\n",
              "    <tr>\n",
              "      <th>4</th>\n",
              "      <td>5</td>\n",
              "      <td>60</td>\n",
              "      <td>RL</td>\n",
              "      <td>84.0</td>\n",
              "      <td>14260</td>\n",
              "      <td>Pave</td>\n",
              "      <td>NaN</td>\n",
              "      <td>IR1</td>\n",
              "      <td>Lvl</td>\n",
              "      <td>AllPub</td>\n",
              "      <td>FR2</td>\n",
              "      <td>Gtl</td>\n",
              "      <td>NoRidge</td>\n",
              "      <td>Norm</td>\n",
              "      <td>Norm</td>\n",
              "      <td>1Fam</td>\n",
              "      <td>2Story</td>\n",
              "      <td>8</td>\n",
              "      <td>5</td>\n",
              "      <td>2000</td>\n",
              "      <td>2000</td>\n",
              "      <td>Gable</td>\n",
              "      <td>CompShg</td>\n",
              "      <td>VinylSd</td>\n",
              "      <td>VinylSd</td>\n",
              "      <td>BrkFace</td>\n",
              "      <td>350.0</td>\n",
              "      <td>Gd</td>\n",
              "      <td>TA</td>\n",
              "      <td>PConc</td>\n",
              "      <td>Gd</td>\n",
              "      <td>TA</td>\n",
              "      <td>Av</td>\n",
              "      <td>GLQ</td>\n",
              "      <td>655</td>\n",
              "      <td>Unf</td>\n",
              "      <td>0</td>\n",
              "      <td>490</td>\n",
              "      <td>1145</td>\n",
              "      <td>GasA</td>\n",
              "      <td>...</td>\n",
              "      <td>Y</td>\n",
              "      <td>SBrkr</td>\n",
              "      <td>1145</td>\n",
              "      <td>1053</td>\n",
              "      <td>0</td>\n",
              "      <td>2198</td>\n",
              "      <td>1</td>\n",
              "      <td>0</td>\n",
              "      <td>2</td>\n",
              "      <td>1</td>\n",
              "      <td>4</td>\n",
              "      <td>1</td>\n",
              "      <td>Gd</td>\n",
              "      <td>9</td>\n",
              "      <td>Typ</td>\n",
              "      <td>1</td>\n",
              "      <td>TA</td>\n",
              "      <td>Attchd</td>\n",
              "      <td>2000.0</td>\n",
              "      <td>RFn</td>\n",
              "      <td>3</td>\n",
              "      <td>836</td>\n",
              "      <td>TA</td>\n",
              "      <td>TA</td>\n",
              "      <td>Y</td>\n",
              "      <td>192</td>\n",
              "      <td>84</td>\n",
              "      <td>0</td>\n",
              "      <td>0</td>\n",
              "      <td>0</td>\n",
              "      <td>0</td>\n",
              "      <td>NaN</td>\n",
              "      <td>NaN</td>\n",
              "      <td>NaN</td>\n",
              "      <td>0</td>\n",
              "      <td>12</td>\n",
              "      <td>2008</td>\n",
              "      <td>WD</td>\n",
              "      <td>Normal</td>\n",
              "      <td>250000</td>\n",
              "    </tr>\n",
              "  </tbody>\n",
              "</table>\n",
              "<p>5 rows × 81 columns</p>\n",
              "</div>"
            ],
            "text/plain": [
              "   Id  MSSubClass MSZoning  ...  SaleType  SaleCondition SalePrice\n",
              "0   1          60       RL  ...        WD         Normal    208500\n",
              "1   2          20       RL  ...        WD         Normal    181500\n",
              "2   3          60       RL  ...        WD         Normal    223500\n",
              "3   4          70       RL  ...        WD        Abnorml    140000\n",
              "4   5          60       RL  ...        WD         Normal    250000\n",
              "\n",
              "[5 rows x 81 columns]"
            ]
          },
          "metadata": {},
          "execution_count": 42
        }
      ]
    },
    {
      "cell_type": "code",
      "metadata": {
        "colab": {
          "base_uri": "https://localhost:8080/"
        },
        "id": "tOqYwFLEAxXB",
        "outputId": "80ebca8f-36c8-4326-8e7c-802ec760aae8"
      },
      "source": [
        "X, y = df[[\"GrLivArea\", \"YearBuilt\"]], df[[\"SalePrice\"]]\n",
        "X = np.array(np.log1p(X))\n",
        "y = np.array(np.log1p(y))\n",
        "\n",
        "X.shape, y.shape"
      ],
      "execution_count": 43,
      "outputs": [
        {
          "output_type": "execute_result",
          "data": {
            "text/plain": [
              "((1460, 2), (1460, 1))"
            ]
          },
          "metadata": {},
          "execution_count": 43
        }
      ]
    },
    {
      "cell_type": "code",
      "metadata": {
        "colab": {
          "base_uri": "https://localhost:8080/"
        },
        "id": "5Ty-V1eMA0OT",
        "outputId": "b93a3831-7032-4bb0-d021-46acbc02aa91"
      },
      "source": [
        "X_train, X_test, y_train, y_test = train_test_split(X, y, test_size=0.2, random_state=0)\n",
        "\n",
        "X_train.shape, X_test.shape, y_train.shape, y_test.shape"
      ],
      "execution_count": 44,
      "outputs": [
        {
          "output_type": "execute_result",
          "data": {
            "text/plain": [
              "((1168, 2), (292, 2), (1168, 1), (292, 1))"
            ]
          },
          "metadata": {},
          "execution_count": 44
        }
      ]
    },
    {
      "cell_type": "code",
      "metadata": {
        "colab": {
          "base_uri": "https://localhost:8080/"
        },
        "id": "DLmw4cERA55M",
        "outputId": "b7ba357a-1fda-4339-ed38-6cdbe779e5c5"
      },
      "source": [
        "# Model by class + functional API\n",
        "class RegressionModel(tf.keras.Model):\n",
        "    def __init__(self):\n",
        "        super(RegressionModel, self).__init__()\n",
        "        self.dense_1 = tf.keras.layers.Dense(100, activation='relu')\n",
        "        self.dense_2 = tf.keras.layers.Dense(100, activation='relu')\n",
        "        self.out = tf.keras.layers.Dense(1)\n",
        "    \n",
        "    def call(self, input):\n",
        "        x = self.dense_1(input)\n",
        "        x = self.dense_2(x)\n",
        "        return self.out(x)\n",
        "\n",
        "model = RegressionModel()\n",
        "model.compile(optimizer='adam', loss='mean_squared_error')\n",
        "history = model.fit(X_train, y_train,\n",
        "                    batch_size=50,\n",
        "                    epochs=20,\n",
        "                    validation_split=0.2,\n",
        "                    verbose=2)\n",
        "history_dict = history.history\n",
        "history_dict.keys()"
      ],
      "execution_count": 45,
      "outputs": [
        {
          "output_type": "stream",
          "name": "stdout",
          "text": [
            "Epoch 1/20\n",
            "19/19 - 1s - loss: 77.7469 - val_loss: 16.1941\n",
            "Epoch 2/20\n",
            "19/19 - 0s - loss: 3.7527 - val_loss: 2.0004\n",
            "Epoch 3/20\n",
            "19/19 - 0s - loss: 1.0339 - val_loss: 0.0664\n",
            "Epoch 4/20\n",
            "19/19 - 0s - loss: 0.1765 - val_loss: 0.0702\n",
            "Epoch 5/20\n",
            "19/19 - 0s - loss: 0.0901 - val_loss: 0.0655\n",
            "Epoch 6/20\n",
            "19/19 - 0s - loss: 0.0825 - val_loss: 0.0571\n",
            "Epoch 7/20\n",
            "19/19 - 0s - loss: 0.0795 - val_loss: 0.0575\n",
            "Epoch 8/20\n",
            "19/19 - 0s - loss: 0.0792 - val_loss: 0.0568\n",
            "Epoch 9/20\n",
            "19/19 - 0s - loss: 0.0797 - val_loss: 0.0568\n",
            "Epoch 10/20\n",
            "19/19 - 0s - loss: 0.0794 - val_loss: 0.0570\n",
            "Epoch 11/20\n",
            "19/19 - 0s - loss: 0.0790 - val_loss: 0.0569\n",
            "Epoch 12/20\n",
            "19/19 - 0s - loss: 0.0790 - val_loss: 0.0572\n",
            "Epoch 13/20\n",
            "19/19 - 0s - loss: 0.0791 - val_loss: 0.0572\n",
            "Epoch 14/20\n",
            "19/19 - 0s - loss: 0.0791 - val_loss: 0.0568\n",
            "Epoch 15/20\n",
            "19/19 - 0s - loss: 0.0788 - val_loss: 0.0571\n",
            "Epoch 16/20\n",
            "19/19 - 0s - loss: 0.0789 - val_loss: 0.0568\n",
            "Epoch 17/20\n",
            "19/19 - 0s - loss: 0.0791 - val_loss: 0.0571\n",
            "Epoch 18/20\n",
            "19/19 - 0s - loss: 0.0792 - val_loss: 0.0567\n",
            "Epoch 19/20\n",
            "19/19 - 0s - loss: 0.0792 - val_loss: 0.0567\n",
            "Epoch 20/20\n",
            "19/19 - 0s - loss: 0.0793 - val_loss: 0.0572\n"
          ]
        },
        {
          "output_type": "execute_result",
          "data": {
            "text/plain": [
              "dict_keys(['loss', 'val_loss'])"
            ]
          },
          "metadata": {},
          "execution_count": 45
        }
      ]
    },
    {
      "cell_type": "code",
      "metadata": {
        "colab": {
          "base_uri": "https://localhost:8080/",
          "height": 295
        },
        "id": "TQaGpsrADhH0",
        "outputId": "685e3a85-09fd-43c8-c4c6-ade5b3541fc0"
      },
      "source": [
        "visualize(history_dict, 'loss')"
      ],
      "execution_count": 46,
      "outputs": [
        {
          "output_type": "display_data",
          "data": {
            "image/png": "[encoded data removed]",
            "text/plain": [
              "<Figure size 432x288 with 1 Axes>"
            ]
          },
          "metadata": {
            "needs_background": "light"
          }
        }
      ]
    },
    {
      "cell_type": "code",
      "metadata": {
        "colab": {
          "base_uri": "https://localhost:8080/"
        },
        "id": "2Cnk-yWJHpYb",
        "outputId": "9594f138-166e-4e8c-8953-0689e8a43093"
      },
      "source": [
        "model.evaluate(X_test, y_test)"
      ],
      "execution_count": 47,
      "outputs": [
        {
          "output_type": "stream",
          "name": "stdout",
          "text": [
            "10/10 [==============================] - 0s 1ms/step - loss: 0.0727\n"
          ]
        },
        {
          "output_type": "execute_result",
          "data": {
            "text/plain": [
              "0.07269889861345291"
            ]
          },
          "metadata": {},
          "execution_count": 47
        }
      ]
    },
    {
      "cell_type": "markdown",
      "metadata": {
        "id": "XO5NoHi5H27R"
      },
      "source": [
        "## [Problem 6] Learning MNIST with Keras"
      ]
    },
    {
      "cell_type": "code",
      "metadata": {
        "colab": {
          "base_uri": "https://localhost:8080/"
        },
        "id": "IJi5Ed5mHzX8",
        "outputId": "61ac8286-b0e3-4c0f-e578-0bbe1c2ee63e"
      },
      "source": [
        "from keras.datasets import mnist\n",
        "\n",
        "(X, y), (X_test, y_test) = mnist.load_data()\n",
        "X.shape, X_test.shape, X[0].dtype"
      ],
      "execution_count": 48,
      "outputs": [
        {
          "output_type": "stream",
          "name": "stdout",
          "text": [
            "Downloading data from https://storage.googleapis.com/tensorflow/tf-keras-datasets/mnist.npz\n",
            "11493376/11490434 [==============================] - 0s 0us/step\n",
            "11501568/11490434 [==============================] - 0s 0us/step\n"
          ]
        },
        {
          "output_type": "execute_result",
          "data": {
            "text/plain": [
              "((60000, 28, 28), (10000, 28, 28), dtype('uint8'))"
            ]
          },
          "metadata": {},
          "execution_count": 48
        }
      ]
    },
    {
      "cell_type": "code",
      "metadata": {
        "colab": {
          "base_uri": "https://localhost:8080/"
        },
        "id": "piI7lXi2H_PQ",
        "outputId": "ca82fe5d-a463-4afe-fe58-dce2abd3bc26"
      },
      "source": [
        "X = X.reshape(-1, 28, 28, 1).astype(np.float)\n",
        "X_test = X_test.reshape(-1, 28, 28, 1).astype(np.float)\n",
        "X /= 255\n",
        "X_test /= 255\n",
        "X.shape, X_test.shape, X.min(), X.max(), y.shape, y_test.shape"
      ],
      "execution_count": 49,
      "outputs": [
        {
          "output_type": "execute_result",
          "data": {
            "text/plain": [
              "((60000, 28, 28, 1), (10000, 28, 28, 1), 0.0, 1.0, (60000,), (10000,))"
            ]
          },
          "metadata": {},
          "execution_count": 49
        }
      ]
    },
    {
      "cell_type": "code",
      "metadata": {
        "id": "2vwQJsIhIEpL"
      },
      "source": [
        "class LeNet(tf.keras.Model):\n",
        "    def __init__(self):\n",
        "        super(LeNet, self).__init__()\n",
        "        self.inputs = tf.keras.layers.InputLayer(input_shape=(28, 28, 1))\n",
        "        self.conv2d_1 = tf.keras.layers.Conv2D(6, (5, 5), activation='relu', padding='SAME')\n",
        "        self.pool_1 = tf.keras.layers.AveragePooling2D(pool_size=(2, 2), strides=(2, 2), padding='VALID')\n",
        "        self.conv2d_2 = tf.keras.layers.Conv2D(16, (5, 5), activation='relu', padding='SAME')\n",
        "        self.pool_2 = tf.keras.layers.AveragePooling2D(pool_size=(2, 2), strides=(2, 2), padding='VALID')\n",
        "        self.dropout_1 = tf.keras.layers.Dropout(0.3)\n",
        "\n",
        "        self.flatten = tf.keras.layers.Flatten()\n",
        "        self.dense_1 = tf.keras.layers.Dense(120, activation='relu')\n",
        "        self.dropout_2 = tf.keras.layers.Dropout(0.3)\n",
        "        self.dense_2 = tf.keras.layers.Dense(84, activation='relu')\n",
        "        self.dropout_3 = tf.keras.layers.Dropout(0.3)\n",
        "        self.outputs = tf.keras.layers.Dense(10, activation='softmax')\n",
        "    \n",
        "    def call(self, inputs):\n",
        "        x = self.inputs(inputs)\n",
        "        x = self.conv2d_1(x)\n",
        "        x = self.pool_1(x)\n",
        "        x = self.conv2d_2(x)\n",
        "        x = self.pool_2(x)\n",
        "        x = self.dropout_1(x)\n",
        "        x = self.flatten(x)\n",
        "        x = self.dense_1(x)\n",
        "        x = self.dropout_2(x)\n",
        "        x = self.dense_2(x)\n",
        "        x = self.dropout_3(x)\n",
        "        return self.outputs(x)"
      ],
      "execution_count": 50,
      "outputs": []
    },
    {
      "cell_type": "code",
      "metadata": {
        "colab": {
          "base_uri": "https://localhost:8080/"
        },
        "id": "I_mm_8jAROYZ",
        "outputId": "4b0195ca-e86a-43c6-b1ae-8e7a2c7d60d5"
      },
      "source": [
        "model = LeNet()\n",
        "model.compile(optimizer='adam',\n",
        "              loss='sparse_categorical_crossentropy',\n",
        "              metrics=['accuracy'])\n",
        "history = model.fit(X, y,\n",
        "                    batch_size=100,\n",
        "                    epochs=30,\n",
        "                    validation_split=0.2,\n",
        "                    verbose=2)\n",
        "history_dict = history.history\n",
        "history_dict.keys()"
      ],
      "execution_count": 51,
      "outputs": [
        {
          "output_type": "stream",
          "name": "stdout",
          "text": [
            "Epoch 1/30\n",
            "480/480 - 34s - loss: 0.5070 - accuracy: 0.8385 - val_loss: 0.1215 - val_accuracy: 0.9643\n",
            "Epoch 2/30\n",
            "480/480 - 33s - loss: 0.1757 - accuracy: 0.9495 - val_loss: 0.0789 - val_accuracy: 0.9762\n",
            "Epoch 3/30\n",
            "480/480 - 34s - loss: 0.1350 - accuracy: 0.9611 - val_loss: 0.0655 - val_accuracy: 0.9799\n",
            "Epoch 4/30\n",
            "480/480 - 34s - loss: 0.1125 - accuracy: 0.9674 - val_loss: 0.0605 - val_accuracy: 0.9817\n",
            "Epoch 5/30\n",
            "480/480 - 34s - loss: 0.0971 - accuracy: 0.9713 - val_loss: 0.0547 - val_accuracy: 0.9839\n",
            "Epoch 6/30\n",
            "480/480 - 34s - loss: 0.0848 - accuracy: 0.9746 - val_loss: 0.0489 - val_accuracy: 0.9856\n",
            "Epoch 7/30\n",
            "480/480 - 34s - loss: 0.0791 - accuracy: 0.9764 - val_loss: 0.0488 - val_accuracy: 0.9853\n",
            "Epoch 8/30\n",
            "480/480 - 34s - loss: 0.0725 - accuracy: 0.9784 - val_loss: 0.0413 - val_accuracy: 0.9882\n",
            "Epoch 9/30\n",
            "480/480 - 34s - loss: 0.0650 - accuracy: 0.9802 - val_loss: 0.0392 - val_accuracy: 0.9891\n",
            "Epoch 10/30\n",
            "480/480 - 34s - loss: 0.0586 - accuracy: 0.9822 - val_loss: 0.0409 - val_accuracy: 0.9885\n",
            "Epoch 11/30\n",
            "480/480 - 34s - loss: 0.0579 - accuracy: 0.9833 - val_loss: 0.0439 - val_accuracy: 0.9873\n",
            "Epoch 12/30\n",
            "480/480 - 34s - loss: 0.0544 - accuracy: 0.9836 - val_loss: 0.0381 - val_accuracy: 0.9897\n",
            "Epoch 13/30\n",
            "480/480 - 34s - loss: 0.0502 - accuracy: 0.9846 - val_loss: 0.0327 - val_accuracy: 0.9905\n",
            "Epoch 14/30\n",
            "480/480 - 34s - loss: 0.0482 - accuracy: 0.9852 - val_loss: 0.0337 - val_accuracy: 0.9905\n",
            "Epoch 15/30\n",
            "480/480 - 34s - loss: 0.0446 - accuracy: 0.9861 - val_loss: 0.0331 - val_accuracy: 0.9912\n",
            "Epoch 16/30\n",
            "480/480 - 34s - loss: 0.0452 - accuracy: 0.9864 - val_loss: 0.0377 - val_accuracy: 0.9898\n",
            "Epoch 17/30\n",
            "480/480 - 34s - loss: 0.0403 - accuracy: 0.9872 - val_loss: 0.0342 - val_accuracy: 0.9916\n",
            "Epoch 18/30\n",
            "480/480 - 34s - loss: 0.0389 - accuracy: 0.9880 - val_loss: 0.0361 - val_accuracy: 0.9902\n",
            "Epoch 19/30\n",
            "480/480 - 34s - loss: 0.0369 - accuracy: 0.9887 - val_loss: 0.0319 - val_accuracy: 0.9915\n",
            "Epoch 20/30\n",
            "480/480 - 34s - loss: 0.0380 - accuracy: 0.9884 - val_loss: 0.0340 - val_accuracy: 0.9906\n",
            "Epoch 21/30\n",
            "480/480 - 34s - loss: 0.0369 - accuracy: 0.9890 - val_loss: 0.0338 - val_accuracy: 0.9918\n",
            "Epoch 22/30\n",
            "480/480 - 34s - loss: 0.0360 - accuracy: 0.9893 - val_loss: 0.0334 - val_accuracy: 0.9906\n",
            "Epoch 23/30\n",
            "480/480 - 34s - loss: 0.0325 - accuracy: 0.9895 - val_loss: 0.0338 - val_accuracy: 0.9909\n",
            "Epoch 24/30\n",
            "480/480 - 34s - loss: 0.0332 - accuracy: 0.9902 - val_loss: 0.0318 - val_accuracy: 0.9916\n",
            "Epoch 25/30\n",
            "480/480 - 33s - loss: 0.0322 - accuracy: 0.9894 - val_loss: 0.0309 - val_accuracy: 0.9918\n",
            "Epoch 26/30\n",
            "480/480 - 33s - loss: 0.0302 - accuracy: 0.9906 - val_loss: 0.0316 - val_accuracy: 0.9917\n",
            "Epoch 27/30\n",
            "480/480 - 33s - loss: 0.0326 - accuracy: 0.9901 - val_loss: 0.0328 - val_accuracy: 0.9920\n",
            "Epoch 28/30\n",
            "480/480 - 33s - loss: 0.0293 - accuracy: 0.9904 - val_loss: 0.0285 - val_accuracy: 0.9930\n",
            "Epoch 29/30\n",
            "480/480 - 34s - loss: 0.0287 - accuracy: 0.9914 - val_loss: 0.0371 - val_accuracy: 0.9914\n",
            "Epoch 30/30\n",
            "480/480 - 33s - loss: 0.0288 - accuracy: 0.9910 - val_loss: 0.0290 - val_accuracy: 0.9918\n"
          ]
        },
        {
          "output_type": "execute_result",
          "data": {
            "text/plain": [
              "dict_keys(['loss', 'accuracy', 'val_loss', 'val_accuracy'])"
            ]
          },
          "metadata": {},
          "execution_count": 51
        }
      ]
    },
    {
      "cell_type": "code",
      "metadata": {
        "colab": {
          "base_uri": "https://localhost:8080/",
          "height": 573
        },
        "id": "zgZ5WemTSGTU",
        "outputId": "e59cc625-e275-41af-92df-a264336e25c8"
      },
      "source": [
        "visualize(history_dict, 'loss')\n",
        "visualize(history_dict, 'accuracy')"
      ],
      "execution_count": 52,
      "outputs": [
        {
          "output_type": "display_data",
          "data": {
            "image/png": "[encoded data removed]",
            "text/plain": [
              "<Figure size 432x288 with 1 Axes>"
            ]
          },
          "metadata": {
            "needs_background": "light"
          }
        },
        {
          "output_type": "display_data",
          "data": {
            "image/png": "[encoded data removed]",
            "text/plain": [
              "<Figure size 432x288 with 1 Axes>"
            ]
          },
          "metadata": {
            "needs_background": "light"
          }
        }
      ]
    },
    {
      "cell_type": "markdown",
      "metadata": {
        "id": "5PIymax1YEWF"
      },
      "source": [
        "## [Problem 7] (Advance assignment) Rewriting to PyTorch"
      ]
    },
    {
      "cell_type": "code",
      "metadata": {
        "id": "RUsUaNTdYBsS",
        "colab": {
          "base_uri": "https://localhost:8080/"
        },
        "outputId": "307a14f4-f203-40f6-9489-3ef7820189c2"
      },
      "source": [
        "import torch\n",
        "from torch.utils.data import Dataset, DataLoader\n",
        "\n",
        "device = 'cuda' if torch.cuda.is_available() else 'cpu'\n",
        "print(f\"Using {device} device\")"
      ],
      "execution_count": 61,
      "outputs": [
        {
          "output_type": "stream",
          "name": "stdout",
          "text": [
            "Using cpu device\n"
          ]
        }
      ]
    },
    {
      "cell_type": "markdown",
      "metadata": {
        "id": "t6XyJuVAqgMi"
      },
      "source": [
        "### Iris binary classification"
      ]
    },
    {
      "cell_type": "code",
      "metadata": {
        "colab": {
          "base_uri": "https://localhost:8080/"
        },
        "id": "iXsz0M0vqas4",
        "outputId": "99d64d57-b3bf-42b3-f012-885da5be55a4"
      },
      "source": [
        "df = pd.read_csv('Iris.csv')\n",
        "data = df[df['Species'].isin(['Iris-versicolor', 'Iris-virginica'])]\n",
        "X = data.loc[:, ['SepalLengthCm', 'SepalWidthCm', 'PetalLengthCm', 'PetalWidthCm']]\n",
        "y = data['Species']\n",
        "y = np.where(y == 'Iris-versicolor', 0, 1)\n",
        "X = np.array(X).astype(np.float32)\n",
        "y = np.array(y)\n",
        "y = y.astype(np.int64)[:, np.newaxis]\n",
        "X_train, X_test, y_train, y_test = train_test_split(X, y, test_size=0.2, random_state=0)\n",
        "\n",
        "X_train.shape, X_test.shape, y_train.shape, y_test.shape"
      ],
      "execution_count": 120,
      "outputs": [
        {
          "output_type": "execute_result",
          "data": {
            "text/plain": [
              "((80, 4), (20, 4), (80, 1), (20, 1))"
            ]
          },
          "metadata": {},
          "execution_count": 120
        }
      ]
    },
    {
      "cell_type": "code",
      "metadata": {
        "colab": {
          "base_uri": "https://localhost:8080/"
        },
        "id": "yK4KwR7EYfe4",
        "outputId": "d82dde25-0008-45f2-fc10-f33a59415bab"
      },
      "source": [
        "class IrisBinaryDataset(Dataset):\n",
        "    def __init__(self, X, y):\n",
        "        self.X = X\n",
        "        self.y = y\n",
        "        self.transform = transform\n",
        "        self.target_transform = target_transform\n",
        "    \n",
        "    def __len__(self):\n",
        "        return len(self.y)\n",
        "    \n",
        "    def __getitem__(self, idx):\n",
        "        X = self.X[idx, :]\n",
        "        y = self.y[idx, 0]\n",
        "        return X, y\n",
        "\n",
        "train_data = DataLoader(IrisBinaryDataset(X_train, y_train), batch_size=10, shuffle=True)\n",
        "test_data = DataLoader(IrisBinaryDataset(X_test, y_test), batch_size=10, shuffle=True)\n",
        "\n",
        "for X, y in train_data:\n",
        "    print(X.shape)\n",
        "    print(y.shape, y.dtype)\n",
        "    break"
      ],
      "execution_count": 121,
      "outputs": [
        {
          "output_type": "stream",
          "name": "stdout",
          "text": [
            "torch.Size([10, 4])\n",
            "torch.Size([10]) torch.int64\n"
          ]
        }
      ]
    },
    {
      "cell_type": "code",
      "metadata": {
        "id": "nKV9YJkqqsV0",
        "colab": {
          "base_uri": "https://localhost:8080/"
        },
        "outputId": "38d0d18b-2cf2-4c23-8819-1f8bf30f1165"
      },
      "source": [
        "class IrisBinaryClassifierTorch(torch.nn.Module):\n",
        "    def __init__(self):\n",
        "        super(IrisBinaryClassifierTorch, self).__init__()\n",
        "        self.seq = torch.nn.Sequential(\n",
        "            torch.nn.Linear(4, 50),\n",
        "            torch.nn.ReLU(),\n",
        "            torch.nn.Linear(50, 100),\n",
        "            torch.nn.ReLU(),\n",
        "            torch.nn.Linear(100, 2),\n",
        "            torch.nn.Sigmoid()\n",
        "        )\n",
        "    \n",
        "    def forward(self, inputs):\n",
        "        return self.seq(inputs)\n",
        "\n",
        "model = IrisBinaryClassifierTorch().to(device)\n",
        "loss_fn = torch.nn.CrossEntropyLoss()\n",
        "optimizer = torch.optim.Adam(model.parameters(), lr=0.001)\n",
        "\n",
        "model, loss_fn, optimizer"
      ],
      "execution_count": 122,
      "outputs": [
        {
          "output_type": "execute_result",
          "data": {
            "text/plain": [
              "(IrisBinaryClassifierTorch(\n",
              "   (seq): Sequential(\n",
              "     (0): Linear(in_features=4, out_features=50, bias=True)\n",
              "     (1): ReLU()\n",
              "     (2): Linear(in_features=50, out_features=100, bias=True)\n",
              "     (3): ReLU()\n",
              "     (4): Linear(in_features=100, out_features=2, bias=True)\n",
              "     (5): Sigmoid()\n",
              "   )\n",
              " ), CrossEntropyLoss(), Adam (\n",
              " Parameter Group 0\n",
              "     amsgrad: False\n",
              "     betas: (0.9, 0.999)\n",
              "     eps: 1e-08\n",
              "     lr: 0.001\n",
              "     weight_decay: 0\n",
              " ))"
            ]
          },
          "metadata": {},
          "execution_count": 122
        }
      ]
    },
    {
      "cell_type": "code",
      "metadata": {
        "id": "IIAo8diFeOcK"
      },
      "source": [
        "def train(dataloader, model, loss_fn, optimizer):\n",
        "    size = len(dataloader.dataset)\n",
        "    model.train()\n",
        "    for batch, (X, y) in enumerate(dataloader):\n",
        "        X, y = X.to(device), y.to(device)\n",
        "\n",
        "        pred = model(X)\n",
        "        loss = loss_fn(pred, y)\n",
        "\n",
        "        optimizer.zero_grad()\n",
        "        loss.backward()\n",
        "        optimizer.step()\n",
        "\n",
        "def test(dataloader, model, loss_fn):\n",
        "    size = len(dataloader.dataset)\n",
        "    num_batches = len(dataloader)\n",
        "    model.eval()\n",
        "    test_loss, correct = 0, 0\n",
        "    with torch.no_grad():\n",
        "        for X, y in dataloader:\n",
        "            X, y = X.to(device), y.to(device)\n",
        "            pred = model(X)\n",
        "            test_loss += loss_fn(pred, y).item()\n",
        "            correct += (pred.argmax(1) == y).type(torch.double).sum().item()\n",
        "        \n",
        "    test_loss /= num_batches\n",
        "    correct /= size\n",
        "    print(f\"Test error:\\nAccuracy: {(100*correct):>0.1f}%, Avg loss: {test_loss:>8f}\")"
      ],
      "execution_count": 129,
      "outputs": []
    },
    {
      "cell_type": "code",
      "metadata": {
        "colab": {
          "base_uri": "https://localhost:8080/"
        },
        "id": "mz9eAm2ofrCv",
        "outputId": "c515b3ee-c746-4f23-c0d4-c783edf682af"
      },
      "source": [
        "epochs = 10\n",
        "for t in range(epochs):\n",
        "    print(f\"Epoch {t + 1}\")\n",
        "    train(train_data, model, loss_fn, optimizer)\n",
        "    test(test_data, model, loss_fn)\n",
        "    print(\"----------------------------\")"
      ],
      "execution_count": 131,
      "outputs": [
        {
          "output_type": "stream",
          "name": "stdout",
          "text": [
            "Epoch 1\n",
            "Test error:\n",
            "Accuracy: 90.0%, Avg loss: 0.431728\n",
            "----------------------------\n",
            "Epoch 2\n",
            "Test error:\n",
            "Accuracy: 95.0%, Avg loss: 0.415702\n",
            "----------------------------\n",
            "Epoch 3\n",
            "Test error:\n",
            "Accuracy: 90.0%, Avg loss: 0.427239\n",
            "----------------------------\n",
            "Epoch 4\n",
            "Test error:\n",
            "Accuracy: 90.0%, Avg loss: 0.415804\n",
            "----------------------------\n",
            "Epoch 5\n",
            "Test error:\n",
            "Accuracy: 90.0%, Avg loss: 0.414361\n",
            "----------------------------\n",
            "Epoch 6\n",
            "Test error:\n",
            "Accuracy: 90.0%, Avg loss: 0.432226\n",
            "----------------------------\n",
            "Epoch 7\n",
            "Test error:\n",
            "Accuracy: 95.0%, Avg loss: 0.405921\n",
            "----------------------------\n",
            "Epoch 8\n",
            "Test error:\n",
            "Accuracy: 90.0%, Avg loss: 0.428582\n",
            "----------------------------\n",
            "Epoch 9\n",
            "Test error:\n",
            "Accuracy: 95.0%, Avg loss: 0.409111\n",
            "----------------------------\n",
            "Epoch 10\n",
            "Test error:\n",
            "Accuracy: 95.0%, Avg loss: 0.406082\n",
            "----------------------------\n"
          ]
        }
      ]
    },
    {
      "cell_type": "markdown",
      "metadata": {
        "id": "GF4idGxilxTy"
      },
      "source": [
        "### Iris multi-classification"
      ]
    },
    {
      "cell_type": "code",
      "metadata": {
        "colab": {
          "base_uri": "https://localhost:8080/"
        },
        "id": "Vo1FXrFtgAcs",
        "outputId": "b7d19abe-4a2c-41ff-9c1d-3c8f1a416964"
      },
      "source": [
        "from sklearn.preprocessing import LabelEncoder\n",
        "\n",
        "X, y = df.loc[:, ['SepalLengthCm', 'SepalWidthCm', 'PetalLengthCm', 'PetalWidthCm']], df['Species']\n",
        "X = np.array(X)\n",
        "y = np.array(y)\n",
        "y = LabelEncoder().fit_transform(y)\n",
        "\n",
        "X_train, X_test, y_train, y_test = train_test_split(X, y, test_size=0.2, random_state=0)\n",
        "\n",
        "X_train.shape, X_test.shape, y_train.shape, y_test.shape"
      ],
      "execution_count": 146,
      "outputs": [
        {
          "output_type": "execute_result",
          "data": {
            "text/plain": [
              "((120, 4), (30, 4), (120,), (30,))"
            ]
          },
          "metadata": {},
          "execution_count": 146
        }
      ]
    },
    {
      "cell_type": "code",
      "metadata": {
        "colab": {
          "base_uri": "https://localhost:8080/"
        },
        "id": "seGQP-RTmRjW",
        "outputId": "371c3ecc-e7bc-4346-bada-b81f6f8ecc2e"
      },
      "source": [
        "class IrisDataset(Dataset):\n",
        "    def __init__(self, X, y):\n",
        "        self.X = X\n",
        "        self.y = y\n",
        "    \n",
        "    def __len__(self):\n",
        "        return len(self.y)\n",
        "    \n",
        "    def __getitem__(self, idx):\n",
        "        X = self.X[idx, :].astype(np.float32)\n",
        "        y = self.y[idx].astype(np.int64)\n",
        "        return X, y\n",
        "\n",
        "train_data = DataLoader(IrisDataset(X_train, y_train), batch_size=10, shuffle=True)\n",
        "test_data = DataLoader(IrisDataset(X_test, y_test), batch_size=10, shuffle=True)\n",
        "\n",
        "for X, y in train_data:\n",
        "    print(X.shape)\n",
        "    print(y.shape, y.dtype)\n",
        "    break"
      ],
      "execution_count": 147,
      "outputs": [
        {
          "output_type": "stream",
          "name": "stdout",
          "text": [
            "torch.Size([10, 4])\n",
            "torch.Size([10]) torch.int64\n"
          ]
        }
      ]
    },
    {
      "cell_type": "code",
      "metadata": {
        "colab": {
          "base_uri": "https://localhost:8080/"
        },
        "id": "4inF-Es4nEPl",
        "outputId": "7108bacd-f272-4475-ed78-13d83424c4f3"
      },
      "source": [
        "class IrisClassifierTorch(torch.nn.Module):\n",
        "    def __init__(self):\n",
        "        super(IrisClassifierTorch, self).__init__()\n",
        "        self.seq = torch.nn.Sequential(\n",
        "            torch.nn.Linear(4, 50),\n",
        "            torch.nn.ReLU(),\n",
        "            torch.nn.Linear(50, 100),\n",
        "            torch.nn.ReLU(),\n",
        "            torch.nn.Linear(100, 3)\n",
        "        )\n",
        "    \n",
        "    def forward(self, inputs):\n",
        "        return self.seq(inputs)\n",
        "\n",
        "model = IrisClassifierTorch().to(device)\n",
        "loss_fn = torch.nn.CrossEntropyLoss()\n",
        "optimizer = torch.optim.Adam(model.parameters(), lr=0.001)\n",
        "\n",
        "model, loss_fn, optimizer"
      ],
      "execution_count": 148,
      "outputs": [
        {
          "output_type": "execute_result",
          "data": {
            "text/plain": [
              "(IrisClassifierTorch(\n",
              "   (seq): Sequential(\n",
              "     (0): Linear(in_features=4, out_features=50, bias=True)\n",
              "     (1): ReLU()\n",
              "     (2): Linear(in_features=50, out_features=100, bias=True)\n",
              "     (3): ReLU()\n",
              "     (4): Linear(in_features=100, out_features=3, bias=True)\n",
              "   )\n",
              " ), CrossEntropyLoss(), Adam (\n",
              " Parameter Group 0\n",
              "     amsgrad: False\n",
              "     betas: (0.9, 0.999)\n",
              "     eps: 1e-08\n",
              "     lr: 0.001\n",
              "     weight_decay: 0\n",
              " ))"
            ]
          },
          "metadata": {},
          "execution_count": 148
        }
      ]
    },
    {
      "cell_type": "code",
      "metadata": {
        "colab": {
          "base_uri": "https://localhost:8080/"
        },
        "id": "5TUNFSpsmDHu",
        "outputId": "122d69d5-573a-48ab-926f-5a539af6eb25"
      },
      "source": [
        "epochs = 10\n",
        "for t in range(epochs):\n",
        "    print(f\"Epoch {t + 1}\")\n",
        "    train(train_data, model, loss_fn, optimizer)\n",
        "    test(test_data, model, loss_fn)\n",
        "    print(\"----------------------------\")"
      ],
      "execution_count": 149,
      "outputs": [
        {
          "output_type": "stream",
          "name": "stdout",
          "text": [
            "Epoch 1\n",
            "Test error:\n",
            "Accuracy: 20.0%, Avg loss: 1.091583\n",
            "----------------------------\n",
            "Epoch 2\n",
            "Test error:\n",
            "Accuracy: 56.7%, Avg loss: 0.940236\n",
            "----------------------------\n",
            "Epoch 3\n",
            "Test error:\n",
            "Accuracy: 56.7%, Avg loss: 0.810180\n",
            "----------------------------\n",
            "Epoch 4\n",
            "Test error:\n",
            "Accuracy: 56.7%, Avg loss: 0.739741\n",
            "----------------------------\n",
            "Epoch 5\n",
            "Test error:\n",
            "Accuracy: 63.3%, Avg loss: 0.606876\n",
            "----------------------------\n",
            "Epoch 6\n",
            "Test error:\n",
            "Accuracy: 70.0%, Avg loss: 0.522908\n",
            "----------------------------\n",
            "Epoch 7\n",
            "Test error:\n",
            "Accuracy: 70.0%, Avg loss: 0.463546\n",
            "----------------------------\n",
            "Epoch 8\n",
            "Test error:\n",
            "Accuracy: 70.0%, Avg loss: 0.448234\n",
            "----------------------------\n",
            "Epoch 9\n",
            "Test error:\n",
            "Accuracy: 86.7%, Avg loss: 0.375174\n",
            "----------------------------\n",
            "Epoch 10\n",
            "Test error:\n",
            "Accuracy: 86.7%, Avg loss: 0.351999\n",
            "----------------------------\n"
          ]
        }
      ]
    },
    {
      "cell_type": "markdown",
      "metadata": {
        "id": "IMGjL7YApZoc"
      },
      "source": [
        "### House Prices prediction"
      ]
    },
    {
      "cell_type": "code",
      "metadata": {
        "colab": {
          "base_uri": "https://localhost:8080/"
        },
        "id": "53cpAkPhrpxi",
        "outputId": "eb325aae-6952-4eb6-f47b-e98c03fb13fb"
      },
      "source": [
        "df = pd.read_csv('train.csv')\n",
        "\n",
        "X, y = df[[\"GrLivArea\", \"YearBuilt\"]], df[[\"SalePrice\"]]\n",
        "X = np.array(np.log1p(X))\n",
        "y = np.array(np.log1p(y))\n",
        "\n",
        "X_train, X_test, y_train, y_test = train_test_split(X, y, test_size=0.2, random_state=0)\n",
        "X_train.shape, X_test.shape, y_train.shape, y_test.shape"
      ],
      "execution_count": 179,
      "outputs": [
        {
          "output_type": "execute_result",
          "data": {
            "text/plain": [
              "((1168, 2), (292, 2), (1168, 1), (292, 1))"
            ]
          },
          "metadata": {},
          "execution_count": 179
        }
      ]
    },
    {
      "cell_type": "code",
      "metadata": {
        "colab": {
          "base_uri": "https://localhost:8080/"
        },
        "id": "5lXN7cMKndfB",
        "outputId": "2a9fd4e0-16be-478a-9120-8340bedb7d31"
      },
      "source": [
        "class HousePricesDataset(Dataset):\n",
        "    def __init__(self, X, y):\n",
        "        self.X = X\n",
        "        self.y = y\n",
        "    \n",
        "    def __len__(self):\n",
        "        return len(self.y)\n",
        "    \n",
        "    def __getitem__(self, idx):\n",
        "        X = self.X[idx, :].astype(np.float32)\n",
        "        y = self.y[idx, :].astype(np.float32)\n",
        "        return X, y\n",
        "\n",
        "train_data = HousePricesDataset(X_train, y_train)\n",
        "test_data = HousePricesDataset(X_test, y_test)\n",
        "train_dataloader = DataLoader(train_data, batch_size=10, shuffle=True)\n",
        "test_dataloader = DataLoader(test_data, batch_size=10, shuffle=True)\n",
        "\n",
        "for X, y in train_dataloader:\n",
        "    print(X.shape)\n",
        "    print(y.shape, y.dtype)\n",
        "    break"
      ],
      "execution_count": 180,
      "outputs": [
        {
          "output_type": "stream",
          "name": "stdout",
          "text": [
            "torch.Size([10, 2])\n",
            "torch.Size([10, 1]) torch.float32\n"
          ]
        }
      ]
    },
    {
      "cell_type": "code",
      "metadata": {
        "colab": {
          "base_uri": "https://localhost:8080/"
        },
        "id": "IVQRqE1rpjwa",
        "outputId": "40f2f6fc-6ff3-4e03-dda4-c0c19d9f3794"
      },
      "source": [
        "class TorchRegressor(torch.nn.Module):\n",
        "    def __init__(self):\n",
        "        super(TorchRegressor, self).__init__()\n",
        "        self.seq = torch.nn.Sequential(\n",
        "            torch.nn.Linear(2, 100),\n",
        "            torch.nn.ReLU(),\n",
        "            torch.nn.Linear(100, 100),\n",
        "            torch.nn.ReLU(),\n",
        "            torch.nn.Linear(100, 1)\n",
        "        )\n",
        "    \n",
        "    def forward(self, inputs):\n",
        "        return self.seq(inputs)\n",
        "\n",
        "model = TorchRegressor().to(device)\n",
        "loss_fn = torch.nn.MSELoss()\n",
        "optimizer = torch.optim.Adam(model.parameters(), lr=0.001)\n",
        "\n",
        "model, loss_fn, optimizer"
      ],
      "execution_count": 181,
      "outputs": [
        {
          "output_type": "execute_result",
          "data": {
            "text/plain": [
              "(TorchRegressor(\n",
              "   (seq): Sequential(\n",
              "     (0): Linear(in_features=2, out_features=100, bias=True)\n",
              "     (1): ReLU()\n",
              "     (2): Linear(in_features=100, out_features=100, bias=True)\n",
              "     (3): ReLU()\n",
              "     (4): Linear(in_features=100, out_features=1, bias=True)\n",
              "   )\n",
              " ), MSELoss(), Adam (\n",
              " Parameter Group 0\n",
              "     amsgrad: False\n",
              "     betas: (0.9, 0.999)\n",
              "     eps: 1e-08\n",
              "     lr: 0.001\n",
              "     weight_decay: 0\n",
              " ))"
            ]
          },
          "metadata": {},
          "execution_count": 181
        }
      ]
    },
    {
      "cell_type": "code",
      "metadata": {
        "id": "l2gTLfGQqOK6"
      },
      "source": [
        "def train_regression(dataloader, model, loss_fn, optimizer):\n",
        "    size = len(dataloader.dataset)\n",
        "    num_batches = len(dataloader)\n",
        "    model.train()\n",
        "    train_loss = 0\n",
        "    for batch, (X, y) in enumerate(dataloader):\n",
        "        X, y = X.to(device), y.to(device)\n",
        "\n",
        "        pred = model(X)\n",
        "        loss = loss_fn(pred, y)\n",
        "        train_loss += loss.item()\n",
        "\n",
        "        optimizer.zero_grad()\n",
        "        loss.backward()\n",
        "        optimizer.step()\n",
        "\n",
        "    train_loss /= num_batches\n",
        "    print(f\"Train loss: {train_loss:>8f}\")\n",
        "\n",
        "def test_regression(dataloader, model, loss_fn):\n",
        "    size = len(dataloader.dataset)\n",
        "    num_batches = len(dataloader)\n",
        "    model.eval()\n",
        "    test_loss = 0\n",
        "    with torch.no_grad():\n",
        "        for X, y in dataloader:\n",
        "            X, y = X.to(device), y.to(device)\n",
        "            pred = model(X)\n",
        "            test_loss += loss_fn(pred, y).item()\n",
        "        \n",
        "    test_loss /= num_batches\n",
        "    print(f\"Test loss: {test_loss:>8f}\")"
      ],
      "execution_count": 182,
      "outputs": []
    },
    {
      "cell_type": "code",
      "metadata": {
        "colab": {
          "base_uri": "https://localhost:8080/"
        },
        "id": "l3bPRHcRsll-",
        "outputId": "edfd045b-b2aa-44c7-ee84-22235c655a02"
      },
      "source": [
        "epochs = 10\n",
        "for t in range(epochs):\n",
        "    print(f\"Epoch {t + 1}\")\n",
        "    train_regression(train_dataloader, model, loss_fn, optimizer)\n",
        "    test_regression(test_dataloader, model, loss_fn)\n",
        "    print(\"----------------------------\")"
      ],
      "execution_count": 184,
      "outputs": [
        {
          "output_type": "stream",
          "name": "stdout",
          "text": [
            "Epoch 1\n",
            "Train loss: 0.080264\n",
            "Test loss: 0.079713\n",
            "----------------------------\n",
            "Epoch 2\n",
            "Train loss: 0.081873\n",
            "Test loss: 0.070435\n",
            "----------------------------\n",
            "Epoch 3\n",
            "Train loss: 0.088541\n",
            "Test loss: 0.068078\n",
            "----------------------------\n",
            "Epoch 4\n",
            "Train loss: 0.085400\n",
            "Test loss: 0.073815\n",
            "----------------------------\n",
            "Epoch 5\n",
            "Train loss: 0.082184\n",
            "Test loss: 0.071763\n",
            "----------------------------\n",
            "Epoch 6\n",
            "Train loss: 0.085005\n",
            "Test loss: 0.067843\n",
            "----------------------------\n",
            "Epoch 7\n",
            "Train loss: 0.079480\n",
            "Test loss: 0.068064\n",
            "----------------------------\n",
            "Epoch 8\n",
            "Train loss: 0.078851\n",
            "Test loss: 0.068019\n",
            "----------------------------\n",
            "Epoch 9\n",
            "Train loss: 0.081780\n",
            "Test loss: 0.070705\n",
            "----------------------------\n",
            "Epoch 10\n",
            "Train loss: 0.084160\n",
            "Test loss: 0.070137\n",
            "----------------------------\n"
          ]
        }
      ]
    },
    {
      "cell_type": "markdown",
      "metadata": {
        "id": "Q4KJa9petpUS"
      },
      "source": [
        "### MNIST"
      ]
    },
    {
      "cell_type": "code",
      "metadata": {
        "id": "1QBFJ8LFsrsN"
      },
      "source": [
        "import torchvision\n",
        "\n",
        "train_data = torchvision.datasets.MNIST(\n",
        "    root='.',\n",
        "    train=True,\n",
        "    download=True,\n",
        "    transform=torchvision.transforms.ToTensor()\n",
        ")\n",
        "\n",
        "test_data = torchvision.datasets.MNIST(\n",
        "    root='.',\n",
        "    train=False,\n",
        "    download=True,\n",
        "    transform=torchvision.transforms.ToTensor()\n",
        ")"
      ],
      "execution_count": 185,
      "outputs": []
    },
    {
      "cell_type": "code",
      "metadata": {
        "colab": {
          "base_uri": "https://localhost:8080/"
        },
        "id": "65FiCh1Yu77R",
        "outputId": "e60089ce-d70f-4d85-9901-f4d74d602bba"
      },
      "source": [
        "batch_size = 100\n",
        "\n",
        "train_dataloader = DataLoader(train_data, batch_size=batch_size)\n",
        "test_dataloader = DataLoader(test_data, batch_size=batch_size)\n",
        "\n",
        "for X, y in test_dataloader:\n",
        "    print(\"Shape of X [N, C, H, W]: \", X.shape)\n",
        "    print(\"Shape of y: \", y.shape, y.dtype)\n",
        "    break"
      ],
      "execution_count": 186,
      "outputs": [
        {
          "output_type": "stream",
          "name": "stdout",
          "text": [
            "Shape of X [N, C, H, W]:  torch.Size([100, 1, 28, 28])\n",
            "Shape of y:  torch.Size([100]) torch.int64\n"
          ]
        }
      ]
    },
    {
      "cell_type": "code",
      "metadata": {
        "colab": {
          "base_uri": "https://localhost:8080/"
        },
        "id": "FQ2YystuvjF3",
        "outputId": "b557f394-f90d-430d-db1a-7aa512357911"
      },
      "source": [
        "import torch.nn.functional as F\n",
        "\n",
        "class LeNetTorch(torch.nn.Module):\n",
        "    def __init__(self):\n",
        "        super(LeNetTorch, self).__init__()\n",
        "        self.conv2d_1 = torch.nn.Conv2d(1, 6, 5, padding=(2, 2))\n",
        "        self.conv2d_2 = torch.nn.Conv2d(6, 16, 5, padding=(2, 2))\n",
        "        self.dense_1 = torch.nn.Linear(16 * 7 * 7, 120)\n",
        "        self.dense_2 = torch.nn.Linear(120, 84)\n",
        "        self.dense_3 = torch.nn.Linear(84, 10)\n",
        "    \n",
        "    def forward(self, inputs):\n",
        "        x = F.max_pool2d(F.relu(self.conv2d_1(inputs)), 2)\n",
        "        x = F.max_pool2d(F.relu(self.conv2d_2(x)), 2)\n",
        "        x = torch.flatten(F.dropout2d(x, p=0.3), 1)\n",
        "        x = F.dropout(F.relu(self.dense_1(x)), p=0.3)\n",
        "        x = F.dropout(F.relu(self.dense_2(x)), p=0.3)\n",
        "        return self.dense_3(x)\n",
        "\n",
        "model = LeNetTorch().to(device)\n",
        "loss_fn = torch.nn.CrossEntropyLoss()\n",
        "optimizer = torch.optim.Adam(model.parameters(), lr=0.001)\n",
        "\n",
        "model, loss_fn, optimizer"
      ],
      "execution_count": 191,
      "outputs": [
        {
          "output_type": "execute_result",
          "data": {
            "text/plain": [
              "(LeNetTorch(\n",
              "   (conv2d_1): Conv2d(1, 6, kernel_size=(5, 5), stride=(1, 1), padding=(2, 2))\n",
              "   (conv2d_2): Conv2d(6, 16, kernel_size=(5, 5), stride=(1, 1), padding=(2, 2))\n",
              "   (dense_1): Linear(in_features=784, out_features=120, bias=True)\n",
              "   (dense_2): Linear(in_features=120, out_features=84, bias=True)\n",
              "   (dense_3): Linear(in_features=84, out_features=10, bias=True)\n",
              " ), CrossEntropyLoss(), Adam (\n",
              " Parameter Group 0\n",
              "     amsgrad: False\n",
              "     betas: (0.9, 0.999)\n",
              "     eps: 1e-08\n",
              "     lr: 0.001\n",
              "     weight_decay: 0\n",
              " ))"
            ]
          },
          "metadata": {},
          "execution_count": 191
        }
      ]
    },
    {
      "cell_type": "code",
      "metadata": {
        "colab": {
          "base_uri": "https://localhost:8080/"
        },
        "id": "e97Cr5sCz6Eo",
        "outputId": "2e501417-cac8-4bdf-ddc0-79e58c7d7f25"
      },
      "source": [
        "epochs = 30\n",
        "for t in range(epochs):\n",
        "    print(f\"Epoch {t + 1}\")\n",
        "    train(train_dataloader, model, loss_fn, optimizer)\n",
        "    test(test_dataloader, model, loss_fn)\n",
        "    print(\"----------------------------\")"
      ],
      "execution_count": 192,
      "outputs": [
        {
          "output_type": "stream",
          "name": "stdout",
          "text": [
            "Epoch 1\n",
            "Test error:\n",
            "Accuracy: 94.5%, Avg loss: 0.175446\n",
            "----------------------------\n",
            "Epoch 2\n",
            "Test error:\n",
            "Accuracy: 96.4%, Avg loss: 0.121848\n",
            "----------------------------\n",
            "Epoch 3\n",
            "Test error:\n",
            "Accuracy: 97.2%, Avg loss: 0.098588\n",
            "----------------------------\n",
            "Epoch 4\n",
            "Test error:\n",
            "Accuracy: 97.3%, Avg loss: 0.088140\n",
            "----------------------------\n",
            "Epoch 5\n",
            "Test error:\n",
            "Accuracy: 97.8%, Avg loss: 0.078449\n",
            "----------------------------\n",
            "Epoch 6\n",
            "Test error:\n",
            "Accuracy: 97.7%, Avg loss: 0.082600\n",
            "----------------------------\n",
            "Epoch 7\n",
            "Test error:\n",
            "Accuracy: 98.1%, Avg loss: 0.067569\n",
            "----------------------------\n",
            "Epoch 8\n",
            "Test error:\n",
            "Accuracy: 97.8%, Avg loss: 0.070299\n",
            "----------------------------\n",
            "Epoch 9\n",
            "Test error:\n",
            "Accuracy: 98.2%, Avg loss: 0.062071\n",
            "----------------------------\n",
            "Epoch 10\n",
            "Test error:\n",
            "Accuracy: 98.2%, Avg loss: 0.061413\n",
            "----------------------------\n",
            "Epoch 11\n",
            "Test error:\n",
            "Accuracy: 98.2%, Avg loss: 0.058889\n",
            "----------------------------\n",
            "Epoch 12\n",
            "Test error:\n",
            "Accuracy: 98.4%, Avg loss: 0.054717\n",
            "----------------------------\n",
            "Epoch 13\n",
            "Test error:\n",
            "Accuracy: 98.2%, Avg loss: 0.066196\n",
            "----------------------------\n",
            "Epoch 14\n",
            "Test error:\n",
            "Accuracy: 98.3%, Avg loss: 0.063117\n",
            "----------------------------\n",
            "Epoch 15\n",
            "Test error:\n",
            "Accuracy: 98.4%, Avg loss: 0.059969\n",
            "----------------------------\n",
            "Epoch 16\n",
            "Test error:\n",
            "Accuracy: 98.6%, Avg loss: 0.050384\n",
            "----------------------------\n",
            "Epoch 17\n",
            "Test error:\n",
            "Accuracy: 98.3%, Avg loss: 0.057611\n",
            "----------------------------\n",
            "Epoch 18\n",
            "Test error:\n",
            "Accuracy: 98.4%, Avg loss: 0.057912\n",
            "----------------------------\n",
            "Epoch 19\n",
            "Test error:\n",
            "Accuracy: 98.4%, Avg loss: 0.056576\n",
            "----------------------------\n",
            "Epoch 20\n",
            "Test error:\n",
            "Accuracy: 98.4%, Avg loss: 0.059654\n",
            "----------------------------\n",
            "Epoch 21\n",
            "Test error:\n",
            "Accuracy: 98.4%, Avg loss: 0.066063\n",
            "----------------------------\n",
            "Epoch 22\n",
            "Test error:\n",
            "Accuracy: 98.5%, Avg loss: 0.055220\n",
            "----------------------------\n",
            "Epoch 23\n",
            "Test error:\n",
            "Accuracy: 98.6%, Avg loss: 0.053589\n",
            "----------------------------\n",
            "Epoch 24\n",
            "Test error:\n",
            "Accuracy: 98.5%, Avg loss: 0.055777\n",
            "----------------------------\n",
            "Epoch 25\n",
            "Test error:\n",
            "Accuracy: 98.4%, Avg loss: 0.059986\n",
            "----------------------------\n",
            "Epoch 26\n",
            "Test error:\n",
            "Accuracy: 98.5%, Avg loss: 0.058525\n",
            "----------------------------\n",
            "Epoch 27\n",
            "Test error:\n",
            "Accuracy: 98.8%, Avg loss: 0.048219\n",
            "----------------------------\n",
            "Epoch 28\n",
            "Test error:\n",
            "Accuracy: 98.7%, Avg loss: 0.054035\n",
            "----------------------------\n",
            "Epoch 29\n",
            "Test error:\n",
            "Accuracy: 98.7%, Avg loss: 0.050484\n",
            "----------------------------\n",
            "Epoch 30\n",
            "Test error:\n",
            "Accuracy: 98.6%, Avg loss: 0.060372\n",
            "----------------------------\n"
          ]
        }
      ]
    },
    {
      "cell_type": "markdown",
      "metadata": {
        "id": "x--IbzZ21bGp"
      },
      "source": [
        "## [Problem 8] (Advance assignment) Comparison of frameworks\n",
        "\n",
        "\n",
        "\n",
        "*   Keras provides kinds of coding style which is friendly for beginner, higher readability. Keras has a higher level API, while PyTorch provides low-level API which may better for fine-grained work.\n",
        "*   Keras is a bit like a black box which can be harder to debug than PyTorch, since PyTorch is lengthy but clearly.\n",
        "*   PyTorch seems fater than Keras, as lower level approach can reduce unnecessary work.\n",
        "*   Both frameworks provides sufficient popular ML functions and easy to read documentations. Keras provides more compact API functions which can be powerful and reliable in many case.\n",
        "\n"
      ]
    }
  ]
}